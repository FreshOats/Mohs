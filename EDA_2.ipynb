{
 "cells": [
  {
   "cell_type": "code",
   "execution_count": 57,
   "metadata": {},
   "outputs": [],
   "source": [
    "# Kaggle Mohs Regression Analysis\n",
    "\n",
    "import numpy as np\n",
    "import pandas as pd\n",
    "import matplotlib.pyplot as plt\n",
    "import seaborn as sns\n",
    "\n",
    "from sklearn.model_selection import train_test_split, cross_val_predict, cross_val_score\n",
    "from sklearn.preprocessing import StandardScaler\n"
   ]
  },
  {
   "cell_type": "code",
   "execution_count": 147,
   "metadata": {},
   "outputs": [],
   "source": [
    "full_train = pd.read_csv('train.csv')\n",
    "full_test = pd.read_csv('test.csv')"
   ]
  },
  {
   "cell_type": "code",
   "execution_count": 59,
   "metadata": {},
   "outputs": [
    {
     "data": {
      "text/html": [
       "<div>\n",
       "<style scoped>\n",
       "    .dataframe tbody tr th:only-of-type {\n",
       "        vertical-align: middle;\n",
       "    }\n",
       "\n",
       "    .dataframe tbody tr th {\n",
       "        vertical-align: top;\n",
       "    }\n",
       "\n",
       "    .dataframe thead th {\n",
       "        text-align: right;\n",
       "    }\n",
       "</style>\n",
       "<table border=\"1\" class=\"dataframe\">\n",
       "  <thead>\n",
       "    <tr style=\"text-align: right;\">\n",
       "      <th></th>\n",
       "      <th>id</th>\n",
       "      <th>allelectrons_Total</th>\n",
       "      <th>density_Total</th>\n",
       "      <th>allelectrons_Average</th>\n",
       "      <th>val_e_Average</th>\n",
       "      <th>atomicweight_Average</th>\n",
       "      <th>ionenergy_Average</th>\n",
       "      <th>el_neg_chi_Average</th>\n",
       "      <th>R_vdw_element_Average</th>\n",
       "      <th>R_cov_element_Average</th>\n",
       "      <th>zaratio_Average</th>\n",
       "      <th>density_Average</th>\n",
       "      <th>Hardness</th>\n",
       "    </tr>\n",
       "  </thead>\n",
       "  <tbody>\n",
       "    <tr>\n",
       "      <th>0</th>\n",
       "      <td>0</td>\n",
       "      <td>100.0</td>\n",
       "      <td>0.841611</td>\n",
       "      <td>10.0</td>\n",
       "      <td>4.8</td>\n",
       "      <td>20.612526</td>\n",
       "      <td>11.08810</td>\n",
       "      <td>2.766</td>\n",
       "      <td>1.732</td>\n",
       "      <td>0.860</td>\n",
       "      <td>0.496070</td>\n",
       "      <td>0.91457</td>\n",
       "      <td>6.0</td>\n",
       "    </tr>\n",
       "    <tr>\n",
       "      <th>1</th>\n",
       "      <td>1</td>\n",
       "      <td>100.0</td>\n",
       "      <td>7.558488</td>\n",
       "      <td>10.0</td>\n",
       "      <td>4.8</td>\n",
       "      <td>20.298893</td>\n",
       "      <td>12.04083</td>\n",
       "      <td>2.755</td>\n",
       "      <td>1.631</td>\n",
       "      <td>0.910</td>\n",
       "      <td>0.492719</td>\n",
       "      <td>0.71760</td>\n",
       "      <td>6.5</td>\n",
       "    </tr>\n",
       "    <tr>\n",
       "      <th>2</th>\n",
       "      <td>2</td>\n",
       "      <td>76.0</td>\n",
       "      <td>8.885992</td>\n",
       "      <td>15.6</td>\n",
       "      <td>5.6</td>\n",
       "      <td>33.739258</td>\n",
       "      <td>12.08630</td>\n",
       "      <td>2.828</td>\n",
       "      <td>1.788</td>\n",
       "      <td>0.864</td>\n",
       "      <td>0.481478</td>\n",
       "      <td>1.50633</td>\n",
       "      <td>2.5</td>\n",
       "    </tr>\n",
       "    <tr>\n",
       "      <th>3</th>\n",
       "      <td>3</td>\n",
       "      <td>100.0</td>\n",
       "      <td>8.795296</td>\n",
       "      <td>10.0</td>\n",
       "      <td>4.8</td>\n",
       "      <td>20.213349</td>\n",
       "      <td>10.94850</td>\n",
       "      <td>2.648</td>\n",
       "      <td>1.626</td>\n",
       "      <td>0.936</td>\n",
       "      <td>0.489272</td>\n",
       "      <td>0.78937</td>\n",
       "      <td>6.0</td>\n",
       "    </tr>\n",
       "    <tr>\n",
       "      <th>4</th>\n",
       "      <td>4</td>\n",
       "      <td>116.0</td>\n",
       "      <td>9.577996</td>\n",
       "      <td>11.6</td>\n",
       "      <td>4.8</td>\n",
       "      <td>24.988133</td>\n",
       "      <td>11.82448</td>\n",
       "      <td>2.766</td>\n",
       "      <td>1.682</td>\n",
       "      <td>0.896</td>\n",
       "      <td>0.492736</td>\n",
       "      <td>1.86481</td>\n",
       "      <td>6.0</td>\n",
       "    </tr>\n",
       "  </tbody>\n",
       "</table>\n",
       "</div>"
      ],
      "text/plain": [
       "   id  allelectrons_Total  density_Total  allelectrons_Average  val_e_Average  \\\n",
       "0   0               100.0       0.841611                  10.0            4.8   \n",
       "1   1               100.0       7.558488                  10.0            4.8   \n",
       "2   2                76.0       8.885992                  15.6            5.6   \n",
       "3   3               100.0       8.795296                  10.0            4.8   \n",
       "4   4               116.0       9.577996                  11.6            4.8   \n",
       "\n",
       "   atomicweight_Average  ionenergy_Average  el_neg_chi_Average  \\\n",
       "0             20.612526           11.08810               2.766   \n",
       "1             20.298893           12.04083               2.755   \n",
       "2             33.739258           12.08630               2.828   \n",
       "3             20.213349           10.94850               2.648   \n",
       "4             24.988133           11.82448               2.766   \n",
       "\n",
       "   R_vdw_element_Average  R_cov_element_Average  zaratio_Average  \\\n",
       "0                  1.732                  0.860         0.496070   \n",
       "1                  1.631                  0.910         0.492719   \n",
       "2                  1.788                  0.864         0.481478   \n",
       "3                  1.626                  0.936         0.489272   \n",
       "4                  1.682                  0.896         0.492736   \n",
       "\n",
       "   density_Average  Hardness  \n",
       "0          0.91457       6.0  \n",
       "1          0.71760       6.5  \n",
       "2          1.50633       2.5  \n",
       "3          0.78937       6.0  \n",
       "4          1.86481       6.0  "
      ]
     },
     "execution_count": 59,
     "metadata": {},
     "output_type": "execute_result"
    }
   ],
   "source": [
    "full_train.head()"
   ]
  },
  {
   "cell_type": "markdown",
   "metadata": {},
   "source": [
    "## Features\n",
    "\n",
    "id: Unique sample identifier<br>\n",
    "allelectrons_Total: Total number of electrons in the compound<br> \n",
    "allelectrons_Average: Average number of electrons present in the sample<br>\n",
    "density_Total: Total density of the sample *(kg/m<sup>3</sup>)*<br>\n",
    "density_Average': Average elemental density *(kg/m<sup>3</sup>)*<br>\n",
    "R_vdw_element_Average: Van der Waals Radius - half distance between like atoms that are non-bonded *(m)*<br>\n",
    "R_cov_element_Average: Covelant Bond Radius - half distance between like atomic nuclei that are covelantly bonded *(m)*<br>\n",
    "val_e_Average: Average number of valence outer shell electrons <br>\n",
    "atomicweight_Average: Average Atomic Weight of the sample compound<br> \n",
    "ionenergy_Average: Average first ionization energy - to bump a valence electron into the next shell<br>\n",
    "el_neg_chi_Average: Pauling electronegativity of the most common oxidation state (changes with transition metal-containing compounds)<br>\n",
    "zaratio_Average: The ratio of electron density to bulk density, determined by the average atomic number / average atomic weight<br>\n",
    "Hardness: Mohs Hardness rating"
   ]
  },
  {
   "cell_type": "code",
   "execution_count": 60,
   "metadata": {},
   "outputs": [
    {
     "name": "stdout",
     "output_type": "stream",
     "text": [
      "<class 'pandas.core.frame.DataFrame'>\n",
      "RangeIndex: 10407 entries, 0 to 10406\n",
      "Data columns (total 13 columns):\n",
      " #   Column                 Non-Null Count  Dtype  \n",
      "---  ------                 --------------  -----  \n",
      " 0   id                     10407 non-null  int64  \n",
      " 1   allelectrons_Total     10407 non-null  float64\n",
      " 2   density_Total          10407 non-null  float64\n",
      " 3   allelectrons_Average   10407 non-null  float64\n",
      " 4   val_e_Average          10407 non-null  float64\n",
      " 5   atomicweight_Average   10407 non-null  float64\n",
      " 6   ionenergy_Average      10407 non-null  float64\n",
      " 7   el_neg_chi_Average     10407 non-null  float64\n",
      " 8   R_vdw_element_Average  10407 non-null  float64\n",
      " 9   R_cov_element_Average  10407 non-null  float64\n",
      " 10  zaratio_Average        10407 non-null  float64\n",
      " 11  density_Average        10407 non-null  float64\n",
      " 12  Hardness               10407 non-null  float64\n",
      "dtypes: float64(12), int64(1)\n",
      "memory usage: 1.0 MB\n"
     ]
    }
   ],
   "source": [
    "full_train.info()"
   ]
  },
  {
   "cell_type": "code",
   "execution_count": 61,
   "metadata": {},
   "outputs": [
    {
     "data": {
      "text/plain": [
       "id                       0\n",
       "allelectrons_Total       0\n",
       "density_Total            0\n",
       "allelectrons_Average     0\n",
       "val_e_Average            0\n",
       "atomicweight_Average     0\n",
       "ionenergy_Average        0\n",
       "el_neg_chi_Average       0\n",
       "R_vdw_element_Average    0\n",
       "R_cov_element_Average    0\n",
       "zaratio_Average          0\n",
       "density_Average          0\n",
       "Hardness                 0\n",
       "dtype: int64"
      ]
     },
     "execution_count": 61,
     "metadata": {},
     "output_type": "execute_result"
    }
   ],
   "source": [
    "full_train.isna().sum()"
   ]
  },
  {
   "cell_type": "markdown",
   "metadata": {},
   "source": [
    "The id is an int value and will be dropped from the training data. All others are non-null floats, and there are no nulls present in the dataset. Next look for dupes."
   ]
  },
  {
   "cell_type": "code",
   "execution_count": 62,
   "metadata": {},
   "outputs": [
    {
     "name": "stdout",
     "output_type": "stream",
     "text": [
      " There are 0 duplicates in the dataset\n"
     ]
    }
   ],
   "source": [
    "full_train.drop(['id'], axis=1)\n",
    "dupes = full_train[full_train.duplicated()]\n",
    "\n",
    "print(f' There are {len(dupes)} duplicates in the dataset')"
   ]
  },
  {
   "cell_type": "code",
   "execution_count": 63,
   "metadata": {},
   "outputs": [
    {
     "data": {
      "text/plain": [
       "10407"
      ]
     },
     "execution_count": 63,
     "metadata": {},
     "output_type": "execute_result"
    }
   ],
   "source": [
    "len(full_train)"
   ]
  },
  {
   "cell_type": "markdown",
   "metadata": {},
   "source": [
    "Now to look at the minima and maxima"
   ]
  },
  {
   "cell_type": "code",
   "execution_count": 64,
   "metadata": {},
   "outputs": [
    {
     "data": {
      "text/plain": [
       "id                       10406.000000\n",
       "allelectrons_Total       15300.000000\n",
       "density_Total              643.093804\n",
       "allelectrons_Average        67.000000\n",
       "val_e_Average                6.000000\n",
       "atomicweight_Average       167.400000\n",
       "ionenergy_Average           15.245810\n",
       "el_neg_chi_Average           3.443000\n",
       "R_vdw_element_Average        2.250000\n",
       "R_cov_element_Average        1.615840\n",
       "zaratio_Average              0.825990\n",
       "density_Average             10.970000\n",
       "Hardness                    10.000000\n",
       "dtype: float64"
      ]
     },
     "execution_count": 64,
     "metadata": {},
     "output_type": "execute_result"
    }
   ],
   "source": [
    "full_train.max()"
   ]
  },
  {
   "cell_type": "code",
   "execution_count": 65,
   "metadata": {},
   "outputs": [
    {
     "data": {
      "text/plain": [
       "id                       0.0\n",
       "allelectrons_Total       0.0\n",
       "density_Total            0.0\n",
       "allelectrons_Average     0.0\n",
       "val_e_Average            0.0\n",
       "atomicweight_Average     0.0\n",
       "ionenergy_Average        0.0\n",
       "el_neg_chi_Average       0.0\n",
       "R_vdw_element_Average    0.0\n",
       "R_cov_element_Average    0.0\n",
       "zaratio_Average          0.0\n",
       "density_Average          0.0\n",
       "Hardness                 1.0\n",
       "dtype: float64"
      ]
     },
     "execution_count": 65,
     "metadata": {},
     "output_type": "execute_result"
    }
   ],
   "source": [
    "full_train.min()"
   ]
  },
  {
   "cell_type": "markdown",
   "metadata": {},
   "source": [
    "### Problem!!!!\n",
    "\n",
    "This is a problem. The only features with proper values are the ID and Hardness. The lowest possible hardness is 1, and there is a possible ID of 0. \n",
    "\n",
    "All other features must have non-zero values for the compound to exist!!!!"
   ]
  },
  {
   "cell_type": "code",
   "execution_count": 66,
   "metadata": {},
   "outputs": [
    {
     "name": "stdout",
     "output_type": "stream",
     "text": [
      "[76, 54, 76, 71, 77, 73, 67, 68, 77, 62, 56]\n"
     ]
    }
   ],
   "source": [
    "elec_tot = (full_train[full_train.allelectrons_Total == 0])\n",
    "den_tot = (full_train[full_train.density_Total == 0])\n",
    "elec_avg = (full_train[full_train.allelectrons_Average == 0])\n",
    "val_e_avg = (full_train[full_train.val_e_Average == 0])\n",
    "weight_avg = (full_train[full_train.atomicweight_Average == 0])\n",
    "ion_avg = (full_train[full_train.ionenergy_Average == 0])\n",
    "chi_avg = (full_train[full_train.el_neg_chi_Average == 0])\n",
    "vdw = (full_train[full_train.R_vdw_element_Average == 0])\n",
    "cov = (full_train[full_train.R_cov_element_Average == 0])\n",
    "zaratio = (full_train[full_train.zaratio_Average == 0])\n",
    "den_avg = (full_train[full_train.density_Average == 0])\n",
    "\n",
    "print([len(elec_tot), len(den_tot), len(elec_avg), len(val_e_avg), len(weight_avg), len(ion_avg), len(chi_avg), len(vdw), len(cov), len(zaratio), len(den_avg)])\n"
   ]
  },
  {
   "cell_type": "code",
   "execution_count": 67,
   "metadata": {},
   "outputs": [
    {
     "data": {
      "text/html": [
       "<div>\n",
       "<style scoped>\n",
       "    .dataframe tbody tr th:only-of-type {\n",
       "        vertical-align: middle;\n",
       "    }\n",
       "\n",
       "    .dataframe tbody tr th {\n",
       "        vertical-align: top;\n",
       "    }\n",
       "\n",
       "    .dataframe thead th {\n",
       "        text-align: right;\n",
       "    }\n",
       "</style>\n",
       "<table border=\"1\" class=\"dataframe\">\n",
       "  <thead>\n",
       "    <tr style=\"text-align: right;\">\n",
       "      <th></th>\n",
       "      <th>id</th>\n",
       "      <th>allelectrons_Total</th>\n",
       "      <th>density_Total</th>\n",
       "      <th>allelectrons_Average</th>\n",
       "      <th>val_e_Average</th>\n",
       "      <th>atomicweight_Average</th>\n",
       "      <th>ionenergy_Average</th>\n",
       "      <th>el_neg_chi_Average</th>\n",
       "      <th>R_vdw_element_Average</th>\n",
       "      <th>R_cov_element_Average</th>\n",
       "      <th>zaratio_Average</th>\n",
       "      <th>density_Average</th>\n",
       "      <th>Hardness</th>\n",
       "    </tr>\n",
       "  </thead>\n",
       "  <tbody>\n",
       "    <tr>\n",
       "      <th>22</th>\n",
       "      <td>22</td>\n",
       "      <td>0.0</td>\n",
       "      <td>0.755433</td>\n",
       "      <td>0.0</td>\n",
       "      <td>0.0</td>\n",
       "      <td>0.0</td>\n",
       "      <td>0.000000</td>\n",
       "      <td>0.000</td>\n",
       "      <td>0.000</td>\n",
       "      <td>0.0</td>\n",
       "      <td>0.000000</td>\n",
       "      <td>0.80454</td>\n",
       "      <td>2.5</td>\n",
       "    </tr>\n",
       "    <tr>\n",
       "      <th>99</th>\n",
       "      <td>99</td>\n",
       "      <td>42.0</td>\n",
       "      <td>0.000000</td>\n",
       "      <td>0.0</td>\n",
       "      <td>4.0</td>\n",
       "      <td>0.0</td>\n",
       "      <td>0.026725</td>\n",
       "      <td>2.727</td>\n",
       "      <td>1.767</td>\n",
       "      <td>0.0</td>\n",
       "      <td>0.000000</td>\n",
       "      <td>0.80212</td>\n",
       "      <td>6.0</td>\n",
       "    </tr>\n",
       "    <tr>\n",
       "      <th>524</th>\n",
       "      <td>524</td>\n",
       "      <td>0.0</td>\n",
       "      <td>0.000000</td>\n",
       "      <td>0.0</td>\n",
       "      <td>0.0</td>\n",
       "      <td>0.0</td>\n",
       "      <td>0.000000</td>\n",
       "      <td>0.000</td>\n",
       "      <td>0.000</td>\n",
       "      <td>0.0</td>\n",
       "      <td>0.000000</td>\n",
       "      <td>0.50633</td>\n",
       "      <td>1.5</td>\n",
       "    </tr>\n",
       "    <tr>\n",
       "      <th>584</th>\n",
       "      <td>584</td>\n",
       "      <td>0.0</td>\n",
       "      <td>0.000000</td>\n",
       "      <td>0.0</td>\n",
       "      <td>0.0</td>\n",
       "      <td>0.0</td>\n",
       "      <td>0.000000</td>\n",
       "      <td>1.990</td>\n",
       "      <td>2.015</td>\n",
       "      <td>0.0</td>\n",
       "      <td>0.000000</td>\n",
       "      <td>0.00000</td>\n",
       "      <td>1.5</td>\n",
       "    </tr>\n",
       "    <tr>\n",
       "      <th>751</th>\n",
       "      <td>751</td>\n",
       "      <td>0.0</td>\n",
       "      <td>0.000000</td>\n",
       "      <td>0.0</td>\n",
       "      <td>0.0</td>\n",
       "      <td>0.0</td>\n",
       "      <td>0.000000</td>\n",
       "      <td>0.000</td>\n",
       "      <td>0.000</td>\n",
       "      <td>0.0</td>\n",
       "      <td>0.000000</td>\n",
       "      <td>0.91248</td>\n",
       "      <td>6.0</td>\n",
       "    </tr>\n",
       "    <tr>\n",
       "      <th>...</th>\n",
       "      <td>...</td>\n",
       "      <td>...</td>\n",
       "      <td>...</td>\n",
       "      <td>...</td>\n",
       "      <td>...</td>\n",
       "      <td>...</td>\n",
       "      <td>...</td>\n",
       "      <td>...</td>\n",
       "      <td>...</td>\n",
       "      <td>...</td>\n",
       "      <td>...</td>\n",
       "      <td>...</td>\n",
       "      <td>...</td>\n",
       "    </tr>\n",
       "    <tr>\n",
       "      <th>10099</th>\n",
       "      <td>10099</td>\n",
       "      <td>0.0</td>\n",
       "      <td>0.000000</td>\n",
       "      <td>0.0</td>\n",
       "      <td>0.0</td>\n",
       "      <td>0.0</td>\n",
       "      <td>0.000000</td>\n",
       "      <td>0.000</td>\n",
       "      <td>0.000</td>\n",
       "      <td>0.0</td>\n",
       "      <td>0.499010</td>\n",
       "      <td>0.77755</td>\n",
       "      <td>6.0</td>\n",
       "    </tr>\n",
       "    <tr>\n",
       "      <th>10153</th>\n",
       "      <td>10153</td>\n",
       "      <td>0.0</td>\n",
       "      <td>0.000000</td>\n",
       "      <td>0.0</td>\n",
       "      <td>0.0</td>\n",
       "      <td>0.0</td>\n",
       "      <td>0.000000</td>\n",
       "      <td>0.000</td>\n",
       "      <td>1.500</td>\n",
       "      <td>0.0</td>\n",
       "      <td>0.000000</td>\n",
       "      <td>0.00000</td>\n",
       "      <td>1.5</td>\n",
       "    </tr>\n",
       "    <tr>\n",
       "      <th>10242</th>\n",
       "      <td>10242</td>\n",
       "      <td>0.0</td>\n",
       "      <td>0.000000</td>\n",
       "      <td>0.0</td>\n",
       "      <td>0.0</td>\n",
       "      <td>0.0</td>\n",
       "      <td>0.000000</td>\n",
       "      <td>0.000</td>\n",
       "      <td>0.000</td>\n",
       "      <td>0.0</td>\n",
       "      <td>0.000000</td>\n",
       "      <td>0.82753</td>\n",
       "      <td>1.5</td>\n",
       "    </tr>\n",
       "    <tr>\n",
       "      <th>10321</th>\n",
       "      <td>10321</td>\n",
       "      <td>0.0</td>\n",
       "      <td>0.505992</td>\n",
       "      <td>0.0</td>\n",
       "      <td>0.0</td>\n",
       "      <td>0.0</td>\n",
       "      <td>0.000000</td>\n",
       "      <td>0.000</td>\n",
       "      <td>0.000</td>\n",
       "      <td>0.0</td>\n",
       "      <td>0.499404</td>\n",
       "      <td>0.01079</td>\n",
       "      <td>6.5</td>\n",
       "    </tr>\n",
       "    <tr>\n",
       "      <th>10395</th>\n",
       "      <td>10395</td>\n",
       "      <td>0.0</td>\n",
       "      <td>0.000000</td>\n",
       "      <td>0.0</td>\n",
       "      <td>0.0</td>\n",
       "      <td>0.0</td>\n",
       "      <td>0.000000</td>\n",
       "      <td>0.000</td>\n",
       "      <td>0.000</td>\n",
       "      <td>0.0</td>\n",
       "      <td>0.000000</td>\n",
       "      <td>0.79010</td>\n",
       "      <td>1.5</td>\n",
       "    </tr>\n",
       "  </tbody>\n",
       "</table>\n",
       "<p>77 rows × 13 columns</p>\n",
       "</div>"
      ],
      "text/plain": [
       "          id  allelectrons_Total  density_Total  allelectrons_Average  \\\n",
       "22        22                 0.0       0.755433                   0.0   \n",
       "99        99                42.0       0.000000                   0.0   \n",
       "524      524                 0.0       0.000000                   0.0   \n",
       "584      584                 0.0       0.000000                   0.0   \n",
       "751      751                 0.0       0.000000                   0.0   \n",
       "...      ...                 ...            ...                   ...   \n",
       "10099  10099                 0.0       0.000000                   0.0   \n",
       "10153  10153                 0.0       0.000000                   0.0   \n",
       "10242  10242                 0.0       0.000000                   0.0   \n",
       "10321  10321                 0.0       0.505992                   0.0   \n",
       "10395  10395                 0.0       0.000000                   0.0   \n",
       "\n",
       "       val_e_Average  atomicweight_Average  ionenergy_Average  \\\n",
       "22               0.0                   0.0           0.000000   \n",
       "99               4.0                   0.0           0.026725   \n",
       "524              0.0                   0.0           0.000000   \n",
       "584              0.0                   0.0           0.000000   \n",
       "751              0.0                   0.0           0.000000   \n",
       "...              ...                   ...                ...   \n",
       "10099            0.0                   0.0           0.000000   \n",
       "10153            0.0                   0.0           0.000000   \n",
       "10242            0.0                   0.0           0.000000   \n",
       "10321            0.0                   0.0           0.000000   \n",
       "10395            0.0                   0.0           0.000000   \n",
       "\n",
       "       el_neg_chi_Average  R_vdw_element_Average  R_cov_element_Average  \\\n",
       "22                  0.000                  0.000                    0.0   \n",
       "99                  2.727                  1.767                    0.0   \n",
       "524                 0.000                  0.000                    0.0   \n",
       "584                 1.990                  2.015                    0.0   \n",
       "751                 0.000                  0.000                    0.0   \n",
       "...                   ...                    ...                    ...   \n",
       "10099               0.000                  0.000                    0.0   \n",
       "10153               0.000                  1.500                    0.0   \n",
       "10242               0.000                  0.000                    0.0   \n",
       "10321               0.000                  0.000                    0.0   \n",
       "10395               0.000                  0.000                    0.0   \n",
       "\n",
       "       zaratio_Average  density_Average  Hardness  \n",
       "22            0.000000          0.80454       2.5  \n",
       "99            0.000000          0.80212       6.0  \n",
       "524           0.000000          0.50633       1.5  \n",
       "584           0.000000          0.00000       1.5  \n",
       "751           0.000000          0.91248       6.0  \n",
       "...                ...              ...       ...  \n",
       "10099         0.499010          0.77755       6.0  \n",
       "10153         0.000000          0.00000       1.5  \n",
       "10242         0.000000          0.82753       1.5  \n",
       "10321         0.499404          0.01079       6.5  \n",
       "10395         0.000000          0.79010       1.5  \n",
       "\n",
       "[77 rows x 13 columns]"
      ]
     },
     "execution_count": 67,
     "metadata": {},
     "output_type": "execute_result"
    }
   ],
   "source": [
    "weight_avg"
   ]
  },
  {
   "cell_type": "markdown",
   "metadata": {},
   "source": [
    "The atomicweight_Average had the most rows with 0.0 values, so I'm going to start by removing these rows. As can be seen above, many of the other columns also contain zeros, so removing by the non-existent atomic weights will reduce these problematic values"
   ]
  },
  {
   "cell_type": "code",
   "execution_count": 68,
   "metadata": {},
   "outputs": [],
   "source": [
    "clean_train = full_train.loc[full_train.atomicweight_Average > 0.0]"
   ]
  },
  {
   "cell_type": "code",
   "execution_count": 69,
   "metadata": {},
   "outputs": [
    {
     "data": {
      "text/plain": [
       "id                       0.000000\n",
       "allelectrons_Total       0.001000\n",
       "density_Total            0.000000\n",
       "allelectrons_Average     0.001000\n",
       "val_e_Average            1.333333\n",
       "atomicweight_Average     0.001000\n",
       "ionenergy_Average        0.000167\n",
       "el_neg_chi_Average       0.000000\n",
       "R_vdw_element_Average    0.000000\n",
       "R_cov_element_Average    0.000000\n",
       "zaratio_Average          0.000000\n",
       "density_Average          0.000000\n",
       "Hardness                 1.000000\n",
       "dtype: float64"
      ]
     },
     "execution_count": 69,
     "metadata": {},
     "output_type": "execute_result"
    }
   ],
   "source": [
    "clean_train.min()"
   ]
  },
  {
   "cell_type": "markdown",
   "metadata": {},
   "source": [
    "We still have zero values, and the all_electrons total is suspicious with a value less than 1.\n",
    "Minimum atomic weight must be 1.008, which is the weight of Hydrogen, which is nonsolid.  "
   ]
  },
  {
   "cell_type": "code",
   "execution_count": 70,
   "metadata": {},
   "outputs": [],
   "source": [
    "clean_train = full_train.loc[(full_train.atomicweight_Average > 1.0) & (full_train.allelectrons_Total > 1.0)]"
   ]
  },
  {
   "cell_type": "code",
   "execution_count": 71,
   "metadata": {},
   "outputs": [
    {
     "data": {
      "text/plain": [
       "id                       0.000000\n",
       "allelectrons_Total       1.900000\n",
       "density_Total            0.000000\n",
       "allelectrons_Average     4.040404\n",
       "val_e_Average            1.333333\n",
       "atomicweight_Average     6.876747\n",
       "ionenergy_Average        0.000167\n",
       "el_neg_chi_Average       0.000000\n",
       "R_vdw_element_Average    0.000000\n",
       "R_cov_element_Average    0.000000\n",
       "zaratio_Average          0.000000\n",
       "density_Average          0.000000\n",
       "Hardness                 1.000000\n",
       "dtype: float64"
      ]
     },
     "execution_count": 71,
     "metadata": {},
     "output_type": "execute_result"
    }
   ],
   "source": [
    "clean_train.min()"
   ]
  },
  {
   "cell_type": "markdown",
   "metadata": {},
   "source": [
    "There are still values where the total density is 0. Let's look at that."
   ]
  },
  {
   "cell_type": "code",
   "execution_count": 72,
   "metadata": {},
   "outputs": [
    {
     "data": {
      "text/html": [
       "<div>\n",
       "<style scoped>\n",
       "    .dataframe tbody tr th:only-of-type {\n",
       "        vertical-align: middle;\n",
       "    }\n",
       "\n",
       "    .dataframe tbody tr th {\n",
       "        vertical-align: top;\n",
       "    }\n",
       "\n",
       "    .dataframe thead th {\n",
       "        text-align: right;\n",
       "    }\n",
       "</style>\n",
       "<table border=\"1\" class=\"dataframe\">\n",
       "  <thead>\n",
       "    <tr style=\"text-align: right;\">\n",
       "      <th></th>\n",
       "      <th>id</th>\n",
       "      <th>allelectrons_Total</th>\n",
       "      <th>density_Total</th>\n",
       "      <th>allelectrons_Average</th>\n",
       "      <th>val_e_Average</th>\n",
       "      <th>atomicweight_Average</th>\n",
       "      <th>ionenergy_Average</th>\n",
       "      <th>el_neg_chi_Average</th>\n",
       "      <th>R_vdw_element_Average</th>\n",
       "      <th>R_cov_element_Average</th>\n",
       "      <th>zaratio_Average</th>\n",
       "      <th>density_Average</th>\n",
       "      <th>Hardness</th>\n",
       "    </tr>\n",
       "  </thead>\n",
       "  <tbody>\n",
       "    <tr>\n",
       "      <th>3276</th>\n",
       "      <td>3276</td>\n",
       "      <td>4.0</td>\n",
       "      <td>0.0</td>\n",
       "      <td>4.666667</td>\n",
       "      <td>3.0</td>\n",
       "      <td>8.773227</td>\n",
       "      <td>13.51252</td>\n",
       "      <td>0.0</td>\n",
       "      <td>0.0</td>\n",
       "      <td>0.0</td>\n",
       "      <td>0.0</td>\n",
       "      <td>0.0</td>\n",
       "      <td>3.5</td>\n",
       "    </tr>\n",
       "  </tbody>\n",
       "</table>\n",
       "</div>"
      ],
      "text/plain": [
       "        id  allelectrons_Total  density_Total  allelectrons_Average  \\\n",
       "3276  3276                 4.0            0.0              4.666667   \n",
       "\n",
       "      val_e_Average  atomicweight_Average  ionenergy_Average  \\\n",
       "3276            3.0              8.773227           13.51252   \n",
       "\n",
       "      el_neg_chi_Average  R_vdw_element_Average  R_cov_element_Average  \\\n",
       "3276                 0.0                    0.0                    0.0   \n",
       "\n",
       "      zaratio_Average  density_Average  Hardness  \n",
       "3276              0.0              0.0       3.5  "
      ]
     },
     "execution_count": 72,
     "metadata": {},
     "output_type": "execute_result"
    }
   ],
   "source": [
    "clean_train[clean_train.density_Total == 0.0]"
   ]
  },
  {
   "cell_type": "markdown",
   "metadata": {},
   "source": [
    "This can be removed"
   ]
  },
  {
   "cell_type": "code",
   "execution_count": 73,
   "metadata": {},
   "outputs": [],
   "source": [
    "clean_train = clean_train.loc[clean_train.density_Total > 0.0]"
   ]
  },
  {
   "cell_type": "code",
   "execution_count": 74,
   "metadata": {},
   "outputs": [
    {
     "data": {
      "text/plain": [
       "id                       0.000000\n",
       "allelectrons_Total       1.900000\n",
       "density_Total            0.001000\n",
       "allelectrons_Average     4.040404\n",
       "val_e_Average            1.333333\n",
       "atomicweight_Average     6.876747\n",
       "ionenergy_Average        0.000167\n",
       "el_neg_chi_Average       1.622865\n",
       "R_vdw_element_Average    1.028000\n",
       "R_cov_element_Average    0.000000\n",
       "zaratio_Average          0.401635\n",
       "density_Average          0.000000\n",
       "Hardness                 1.000000\n",
       "dtype: float64"
      ]
     },
     "execution_count": 74,
     "metadata": {},
     "output_type": "execute_result"
    }
   ],
   "source": [
    "clean_train.min()"
   ]
  },
  {
   "cell_type": "markdown",
   "metadata": {},
   "source": [
    "There is somehow an average density of 0.0, even though we have recorded total densities..."
   ]
  },
  {
   "cell_type": "code",
   "execution_count": 75,
   "metadata": {},
   "outputs": [
    {
     "data": {
      "text/plain": [
       "39"
      ]
     },
     "execution_count": 75,
     "metadata": {},
     "output_type": "execute_result"
    }
   ],
   "source": [
    "len(clean_train[clean_train.density_Average == 0])"
   ]
  },
  {
   "cell_type": "code",
   "execution_count": 76,
   "metadata": {},
   "outputs": [
    {
     "data": {
      "text/html": [
       "<div>\n",
       "<style scoped>\n",
       "    .dataframe tbody tr th:only-of-type {\n",
       "        vertical-align: middle;\n",
       "    }\n",
       "\n",
       "    .dataframe tbody tr th {\n",
       "        vertical-align: top;\n",
       "    }\n",
       "\n",
       "    .dataframe thead th {\n",
       "        text-align: right;\n",
       "    }\n",
       "</style>\n",
       "<table border=\"1\" class=\"dataframe\">\n",
       "  <thead>\n",
       "    <tr style=\"text-align: right;\">\n",
       "      <th></th>\n",
       "      <th>id</th>\n",
       "      <th>allelectrons_Total</th>\n",
       "      <th>density_Total</th>\n",
       "      <th>allelectrons_Average</th>\n",
       "      <th>val_e_Average</th>\n",
       "      <th>atomicweight_Average</th>\n",
       "      <th>ionenergy_Average</th>\n",
       "      <th>el_neg_chi_Average</th>\n",
       "      <th>R_vdw_element_Average</th>\n",
       "      <th>R_cov_element_Average</th>\n",
       "      <th>zaratio_Average</th>\n",
       "      <th>density_Average</th>\n",
       "      <th>Hardness</th>\n",
       "    </tr>\n",
       "  </thead>\n",
       "  <tbody>\n",
       "    <tr>\n",
       "      <th>272</th>\n",
       "      <td>272</td>\n",
       "      <td>198.0</td>\n",
       "      <td>9.148824</td>\n",
       "      <td>4.814815</td>\n",
       "      <td>3.459459</td>\n",
       "      <td>8.462067</td>\n",
       "      <td>13.266033</td>\n",
       "      <td>2.065000</td>\n",
       "      <td>1.394000</td>\n",
       "      <td>0.574595</td>\n",
       "      <td>0.770755</td>\n",
       "      <td>0.0</td>\n",
       "      <td>2.0</td>\n",
       "    </tr>\n",
       "    <tr>\n",
       "      <th>390</th>\n",
       "      <td>390</td>\n",
       "      <td>40.0</td>\n",
       "      <td>1.743160</td>\n",
       "      <td>6.666667</td>\n",
       "      <td>4.000000</td>\n",
       "      <td>13.016128</td>\n",
       "      <td>12.700467</td>\n",
       "      <td>2.770000</td>\n",
       "      <td>1.476667</td>\n",
       "      <td>0.616667</td>\n",
       "      <td>0.663797</td>\n",
       "      <td>0.0</td>\n",
       "      <td>5.0</td>\n",
       "    </tr>\n",
       "    <tr>\n",
       "      <th>808</th>\n",
       "      <td>808</td>\n",
       "      <td>43.0</td>\n",
       "      <td>7.876748</td>\n",
       "      <td>7.500000</td>\n",
       "      <td>4.000000</td>\n",
       "      <td>14.996860</td>\n",
       "      <td>12.184250</td>\n",
       "      <td>2.727500</td>\n",
       "      <td>1.545000</td>\n",
       "      <td>0.710000</td>\n",
       "      <td>0.614430</td>\n",
       "      <td>0.0</td>\n",
       "      <td>5.3</td>\n",
       "    </tr>\n",
       "    <tr>\n",
       "      <th>896</th>\n",
       "      <td>896</td>\n",
       "      <td>58.0</td>\n",
       "      <td>4.542664</td>\n",
       "      <td>15.666667</td>\n",
       "      <td>4.666667</td>\n",
       "      <td>36.871575</td>\n",
       "      <td>11.354767</td>\n",
       "      <td>1.976667</td>\n",
       "      <td>2.006667</td>\n",
       "      <td>0.920000</td>\n",
       "      <td>0.486507</td>\n",
       "      <td>0.0</td>\n",
       "      <td>5.5</td>\n",
       "    </tr>\n",
       "    <tr>\n",
       "      <th>958</th>\n",
       "      <td>958</td>\n",
       "      <td>36.0</td>\n",
       "      <td>7.876748</td>\n",
       "      <td>18.000000</td>\n",
       "      <td>3.750000</td>\n",
       "      <td>37.272150</td>\n",
       "      <td>12.184250</td>\n",
       "      <td>2.727500</td>\n",
       "      <td>1.545000</td>\n",
       "      <td>0.710000</td>\n",
       "      <td>0.614430</td>\n",
       "      <td>0.0</td>\n",
       "      <td>4.0</td>\n",
       "    </tr>\n",
       "    <tr>\n",
       "      <th>1341</th>\n",
       "      <td>1341</td>\n",
       "      <td>38.0</td>\n",
       "      <td>2.332664</td>\n",
       "      <td>5.666667</td>\n",
       "      <td>3.000000</td>\n",
       "      <td>8.773227</td>\n",
       "      <td>13.162967</td>\n",
       "      <td>2.216667</td>\n",
       "      <td>1.336667</td>\n",
       "      <td>0.728000</td>\n",
       "      <td>0.556623</td>\n",
       "      <td>0.0</td>\n",
       "      <td>3.3</td>\n",
       "    </tr>\n",
       "    <tr>\n",
       "      <th>1518</th>\n",
       "      <td>1518</td>\n",
       "      <td>88.0</td>\n",
       "      <td>7.143328</td>\n",
       "      <td>11.142857</td>\n",
       "      <td>4.571429</td>\n",
       "      <td>22.594280</td>\n",
       "      <td>10.967771</td>\n",
       "      <td>2.600000</td>\n",
       "      <td>1.744286</td>\n",
       "      <td>0.914286</td>\n",
       "      <td>0.481661</td>\n",
       "      <td>0.0</td>\n",
       "      <td>7.8</td>\n",
       "    </tr>\n",
       "    <tr>\n",
       "      <th>2600</th>\n",
       "      <td>2600</td>\n",
       "      <td>58.0</td>\n",
       "      <td>8.147992</td>\n",
       "      <td>11.600000</td>\n",
       "      <td>4.800000</td>\n",
       "      <td>24.808518</td>\n",
       "      <td>11.023840</td>\n",
       "      <td>2.644000</td>\n",
       "      <td>1.794000</td>\n",
       "      <td>0.960000</td>\n",
       "      <td>0.499514</td>\n",
       "      <td>0.0</td>\n",
       "      <td>6.0</td>\n",
       "    </tr>\n",
       "    <tr>\n",
       "      <th>2620</th>\n",
       "      <td>2620</td>\n",
       "      <td>46.0</td>\n",
       "      <td>1.740168</td>\n",
       "      <td>5.750000</td>\n",
       "      <td>3.916667</td>\n",
       "      <td>11.990560</td>\n",
       "      <td>12.714558</td>\n",
       "      <td>2.770000</td>\n",
       "      <td>1.446667</td>\n",
       "      <td>0.620833</td>\n",
       "      <td>0.661224</td>\n",
       "      <td>0.0</td>\n",
       "      <td>4.0</td>\n",
       "    </tr>\n",
       "    <tr>\n",
       "      <th>3066</th>\n",
       "      <td>3066</td>\n",
       "      <td>6.0</td>\n",
       "      <td>0.001000</td>\n",
       "      <td>6.000000</td>\n",
       "      <td>3.500000</td>\n",
       "      <td>11.663548</td>\n",
       "      <td>12.200040</td>\n",
       "      <td>2.550000</td>\n",
       "      <td>1.542000</td>\n",
       "      <td>0.703000</td>\n",
       "      <td>0.499540</td>\n",
       "      <td>0.0</td>\n",
       "      <td>3.0</td>\n",
       "    </tr>\n",
       "    <tr>\n",
       "      <th>4091</th>\n",
       "      <td>4091</td>\n",
       "      <td>96.0</td>\n",
       "      <td>9.133000</td>\n",
       "      <td>12.000000</td>\n",
       "      <td>5.250000</td>\n",
       "      <td>24.033618</td>\n",
       "      <td>10.999625</td>\n",
       "      <td>2.800000</td>\n",
       "      <td>1.880000</td>\n",
       "      <td>1.300000</td>\n",
       "      <td>0.477665</td>\n",
       "      <td>0.0</td>\n",
       "      <td>2.5</td>\n",
       "    </tr>\n",
       "    <tr>\n",
       "      <th>4175</th>\n",
       "      <td>4175</td>\n",
       "      <td>116.0</td>\n",
       "      <td>15.430000</td>\n",
       "      <td>11.000000</td>\n",
       "      <td>4.000000</td>\n",
       "      <td>24.503019</td>\n",
       "      <td>9.013750</td>\n",
       "      <td>2.545000</td>\n",
       "      <td>1.715000</td>\n",
       "      <td>1.500000</td>\n",
       "      <td>0.499514</td>\n",
       "      <td>0.0</td>\n",
       "      <td>7.5</td>\n",
       "    </tr>\n",
       "    <tr>\n",
       "      <th>4600</th>\n",
       "      <td>4600</td>\n",
       "      <td>336.0</td>\n",
       "      <td>22.521400</td>\n",
       "      <td>7.777778</td>\n",
       "      <td>4.000000</td>\n",
       "      <td>15.957114</td>\n",
       "      <td>12.444895</td>\n",
       "      <td>2.768636</td>\n",
       "      <td>1.461091</td>\n",
       "      <td>0.635758</td>\n",
       "      <td>0.639251</td>\n",
       "      <td>0.0</td>\n",
       "      <td>5.5</td>\n",
       "    </tr>\n",
       "    <tr>\n",
       "      <th>4899</th>\n",
       "      <td>4899</td>\n",
       "      <td>100.0</td>\n",
       "      <td>1.740168</td>\n",
       "      <td>4.444444</td>\n",
       "      <td>3.333333</td>\n",
       "      <td>8.808713</td>\n",
       "      <td>13.652933</td>\n",
       "      <td>2.330000</td>\n",
       "      <td>1.336667</td>\n",
       "      <td>0.524444</td>\n",
       "      <td>0.480390</td>\n",
       "      <td>0.0</td>\n",
       "      <td>1.5</td>\n",
       "    </tr>\n",
       "    <tr>\n",
       "      <th>4905</th>\n",
       "      <td>4905</td>\n",
       "      <td>338.0</td>\n",
       "      <td>3.746828</td>\n",
       "      <td>7.777778</td>\n",
       "      <td>4.000000</td>\n",
       "      <td>14.900338</td>\n",
       "      <td>12.011028</td>\n",
       "      <td>2.638333</td>\n",
       "      <td>1.526111</td>\n",
       "      <td>0.751111</td>\n",
       "      <td>0.628591</td>\n",
       "      <td>0.0</td>\n",
       "      <td>3.0</td>\n",
       "    </tr>\n",
       "    <tr>\n",
       "      <th>4982</th>\n",
       "      <td>4982</td>\n",
       "      <td>72.0</td>\n",
       "      <td>1.743160</td>\n",
       "      <td>4.666667</td>\n",
       "      <td>3.000000</td>\n",
       "      <td>6.876747</td>\n",
       "      <td>13.652933</td>\n",
       "      <td>1.986667</td>\n",
       "      <td>1.336667</td>\n",
       "      <td>0.616667</td>\n",
       "      <td>0.762369</td>\n",
       "      <td>0.0</td>\n",
       "      <td>4.8</td>\n",
       "    </tr>\n",
       "    <tr>\n",
       "      <th>5132</th>\n",
       "      <td>5132</td>\n",
       "      <td>46.0</td>\n",
       "      <td>7.876748</td>\n",
       "      <td>6.000000</td>\n",
       "      <td>3.750000</td>\n",
       "      <td>12.009600</td>\n",
       "      <td>12.184250</td>\n",
       "      <td>2.727500</td>\n",
       "      <td>1.545000</td>\n",
       "      <td>0.710000</td>\n",
       "      <td>0.614430</td>\n",
       "      <td>0.0</td>\n",
       "      <td>5.0</td>\n",
       "    </tr>\n",
       "    <tr>\n",
       "      <th>5267</th>\n",
       "      <td>5267</td>\n",
       "      <td>74.0</td>\n",
       "      <td>4.956828</td>\n",
       "      <td>7.400000</td>\n",
       "      <td>4.200000</td>\n",
       "      <td>14.610803</td>\n",
       "      <td>12.392110</td>\n",
       "      <td>2.795000</td>\n",
       "      <td>1.542000</td>\n",
       "      <td>0.703000</td>\n",
       "      <td>0.589660</td>\n",
       "      <td>0.0</td>\n",
       "      <td>3.8</td>\n",
       "    </tr>\n",
       "    <tr>\n",
       "      <th>5352</th>\n",
       "      <td>5352</td>\n",
       "      <td>20.0</td>\n",
       "      <td>0.320000</td>\n",
       "      <td>10.000000</td>\n",
       "      <td>4.000000</td>\n",
       "      <td>20.994086</td>\n",
       "      <td>9.013750</td>\n",
       "      <td>2.295000</td>\n",
       "      <td>2.045000</td>\n",
       "      <td>1.360000</td>\n",
       "      <td>0.426680</td>\n",
       "      <td>0.0</td>\n",
       "      <td>3.0</td>\n",
       "    </tr>\n",
       "    <tr>\n",
       "      <th>5820</th>\n",
       "      <td>5820</td>\n",
       "      <td>42.0</td>\n",
       "      <td>1.740168</td>\n",
       "      <td>6.282828</td>\n",
       "      <td>3.520000</td>\n",
       "      <td>11.990560</td>\n",
       "      <td>12.082260</td>\n",
       "      <td>2.618400</td>\n",
       "      <td>1.509600</td>\n",
       "      <td>0.646400</td>\n",
       "      <td>0.698557</td>\n",
       "      <td>0.0</td>\n",
       "      <td>4.3</td>\n",
       "    </tr>\n",
       "    <tr>\n",
       "      <th>6147</th>\n",
       "      <td>6147</td>\n",
       "      <td>466.0</td>\n",
       "      <td>37.007299</td>\n",
       "      <td>9.960000</td>\n",
       "      <td>4.300000</td>\n",
       "      <td>18.546536</td>\n",
       "      <td>10.857620</td>\n",
       "      <td>2.585000</td>\n",
       "      <td>1.699400</td>\n",
       "      <td>0.880800</td>\n",
       "      <td>0.499010</td>\n",
       "      <td>0.0</td>\n",
       "      <td>5.5</td>\n",
       "    </tr>\n",
       "    <tr>\n",
       "      <th>6577</th>\n",
       "      <td>6577</td>\n",
       "      <td>100.0</td>\n",
       "      <td>1.006599</td>\n",
       "      <td>4.666667</td>\n",
       "      <td>4.333333</td>\n",
       "      <td>8.808713</td>\n",
       "      <td>13.652933</td>\n",
       "      <td>2.668000</td>\n",
       "      <td>1.318667</td>\n",
       "      <td>0.505333</td>\n",
       "      <td>0.713937</td>\n",
       "      <td>0.0</td>\n",
       "      <td>2.3</td>\n",
       "    </tr>\n",
       "    <tr>\n",
       "      <th>6654</th>\n",
       "      <td>6654</td>\n",
       "      <td>42.0</td>\n",
       "      <td>7.876748</td>\n",
       "      <td>6.000000</td>\n",
       "      <td>4.000000</td>\n",
       "      <td>12.009600</td>\n",
       "      <td>12.184250</td>\n",
       "      <td>2.727500</td>\n",
       "      <td>1.545000</td>\n",
       "      <td>0.710000</td>\n",
       "      <td>0.614430</td>\n",
       "      <td>0.0</td>\n",
       "      <td>5.3</td>\n",
       "    </tr>\n",
       "    <tr>\n",
       "      <th>6795</th>\n",
       "      <td>6795</td>\n",
       "      <td>14.0</td>\n",
       "      <td>0.360000</td>\n",
       "      <td>14.000000</td>\n",
       "      <td>4.000000</td>\n",
       "      <td>29.217885</td>\n",
       "      <td>9.013750</td>\n",
       "      <td>1.950000</td>\n",
       "      <td>2.015000</td>\n",
       "      <td>1.370000</td>\n",
       "      <td>0.426680</td>\n",
       "      <td>0.0</td>\n",
       "      <td>1.8</td>\n",
       "    </tr>\n",
       "    <tr>\n",
       "      <th>7338</th>\n",
       "      <td>7338</td>\n",
       "      <td>20.0</td>\n",
       "      <td>9.133000</td>\n",
       "      <td>16.000000</td>\n",
       "      <td>4.000000</td>\n",
       "      <td>32.059000</td>\n",
       "      <td>8.343215</td>\n",
       "      <td>1.950000</td>\n",
       "      <td>2.250000</td>\n",
       "      <td>1.500000</td>\n",
       "      <td>0.499680</td>\n",
       "      <td>0.0</td>\n",
       "      <td>2.5</td>\n",
       "    </tr>\n",
       "    <tr>\n",
       "      <th>7563</th>\n",
       "      <td>7563</td>\n",
       "      <td>110.0</td>\n",
       "      <td>27.240000</td>\n",
       "      <td>36.666667</td>\n",
       "      <td>2.666667</td>\n",
       "      <td>82.598467</td>\n",
       "      <td>8.054000</td>\n",
       "      <td>1.986667</td>\n",
       "      <td>2.093333</td>\n",
       "      <td>1.363333</td>\n",
       "      <td>0.426320</td>\n",
       "      <td>0.0</td>\n",
       "      <td>2.5</td>\n",
       "    </tr>\n",
       "    <tr>\n",
       "      <th>7587</th>\n",
       "      <td>7587</td>\n",
       "      <td>120.0</td>\n",
       "      <td>11.351332</td>\n",
       "      <td>10.000000</td>\n",
       "      <td>6.000000</td>\n",
       "      <td>20.994127</td>\n",
       "      <td>11.330440</td>\n",
       "      <td>2.636000</td>\n",
       "      <td>1.794000</td>\n",
       "      <td>0.914000</td>\n",
       "      <td>0.492736</td>\n",
       "      <td>0.0</td>\n",
       "      <td>4.0</td>\n",
       "    </tr>\n",
       "    <tr>\n",
       "      <th>7720</th>\n",
       "      <td>7720</td>\n",
       "      <td>150.0</td>\n",
       "      <td>10.616572</td>\n",
       "      <td>16.666667</td>\n",
       "      <td>5.000000</td>\n",
       "      <td>35.764991</td>\n",
       "      <td>11.634467</td>\n",
       "      <td>2.832222</td>\n",
       "      <td>1.716444</td>\n",
       "      <td>0.865000</td>\n",
       "      <td>0.481976</td>\n",
       "      <td>0.0</td>\n",
       "      <td>6.5</td>\n",
       "    </tr>\n",
       "    <tr>\n",
       "      <th>7740</th>\n",
       "      <td>7740</td>\n",
       "      <td>36.0</td>\n",
       "      <td>0.001000</td>\n",
       "      <td>18.000000</td>\n",
       "      <td>4.000000</td>\n",
       "      <td>36.068500</td>\n",
       "      <td>8.236600</td>\n",
       "      <td>1.790000</td>\n",
       "      <td>2.055000</td>\n",
       "      <td>1.390000</td>\n",
       "      <td>0.499000</td>\n",
       "      <td>0.0</td>\n",
       "      <td>3.0</td>\n",
       "    </tr>\n",
       "    <tr>\n",
       "      <th>7911</th>\n",
       "      <td>7911</td>\n",
       "      <td>120.0</td>\n",
       "      <td>0.447916</td>\n",
       "      <td>4.666667</td>\n",
       "      <td>3.200000</td>\n",
       "      <td>8.773227</td>\n",
       "      <td>13.161829</td>\n",
       "      <td>1.950000</td>\n",
       "      <td>2.015000</td>\n",
       "      <td>0.534167</td>\n",
       "      <td>0.659870</td>\n",
       "      <td>0.0</td>\n",
       "      <td>2.0</td>\n",
       "    </tr>\n",
       "    <tr>\n",
       "      <th>8692</th>\n",
       "      <td>8692</td>\n",
       "      <td>90.0</td>\n",
       "      <td>7.876748</td>\n",
       "      <td>5.750000</td>\n",
       "      <td>3.750000</td>\n",
       "      <td>11.729291</td>\n",
       "      <td>13.040525</td>\n",
       "      <td>2.727500</td>\n",
       "      <td>1.545000</td>\n",
       "      <td>0.710000</td>\n",
       "      <td>0.614430</td>\n",
       "      <td>0.0</td>\n",
       "      <td>3.0</td>\n",
       "    </tr>\n",
       "    <tr>\n",
       "      <th>8761</th>\n",
       "      <td>8761</td>\n",
       "      <td>459.0</td>\n",
       "      <td>37.007299</td>\n",
       "      <td>9.200000</td>\n",
       "      <td>4.400000</td>\n",
       "      <td>18.546536</td>\n",
       "      <td>12.086300</td>\n",
       "      <td>2.836000</td>\n",
       "      <td>1.652000</td>\n",
       "      <td>0.864000</td>\n",
       "      <td>0.492799</td>\n",
       "      <td>0.0</td>\n",
       "      <td>3.5</td>\n",
       "    </tr>\n",
       "    <tr>\n",
       "      <th>9278</th>\n",
       "      <td>9278</td>\n",
       "      <td>38.0</td>\n",
       "      <td>1.553160</td>\n",
       "      <td>12.666667</td>\n",
       "      <td>6.000000</td>\n",
       "      <td>26.024935</td>\n",
       "      <td>0.000167</td>\n",
       "      <td>2.986667</td>\n",
       "      <td>1.750000</td>\n",
       "      <td>1.040000</td>\n",
       "      <td>0.482157</td>\n",
       "      <td>0.0</td>\n",
       "      <td>4.0</td>\n",
       "    </tr>\n",
       "    <tr>\n",
       "      <th>9297</th>\n",
       "      <td>9297</td>\n",
       "      <td>30.0</td>\n",
       "      <td>4.542664</td>\n",
       "      <td>14.333333</td>\n",
       "      <td>5.000000</td>\n",
       "      <td>30.612520</td>\n",
       "      <td>11.795967</td>\n",
       "      <td>2.976667</td>\n",
       "      <td>1.716667</td>\n",
       "      <td>0.966667</td>\n",
       "      <td>0.499507</td>\n",
       "      <td>0.0</td>\n",
       "      <td>6.5</td>\n",
       "    </tr>\n",
       "    <tr>\n",
       "      <th>9542</th>\n",
       "      <td>9542</td>\n",
       "      <td>14.0</td>\n",
       "      <td>0.001000</td>\n",
       "      <td>4.666667</td>\n",
       "      <td>4.000000</td>\n",
       "      <td>8.773227</td>\n",
       "      <td>8.351667</td>\n",
       "      <td>1.903333</td>\n",
       "      <td>1.310000</td>\n",
       "      <td>1.500000</td>\n",
       "      <td>0.401635</td>\n",
       "      <td>0.0</td>\n",
       "      <td>4.0</td>\n",
       "    </tr>\n",
       "    <tr>\n",
       "      <th>9631</th>\n",
       "      <td>9631</td>\n",
       "      <td>66.0</td>\n",
       "      <td>8.505992</td>\n",
       "      <td>13.800000</td>\n",
       "      <td>4.800000</td>\n",
       "      <td>27.188418</td>\n",
       "      <td>10.759120</td>\n",
       "      <td>1.950000</td>\n",
       "      <td>1.740000</td>\n",
       "      <td>0.956000</td>\n",
       "      <td>0.499726</td>\n",
       "      <td>0.0</td>\n",
       "      <td>6.0</td>\n",
       "    </tr>\n",
       "    <tr>\n",
       "      <th>10028</th>\n",
       "      <td>10028</td>\n",
       "      <td>6.0</td>\n",
       "      <td>1.700000</td>\n",
       "      <td>6.000000</td>\n",
       "      <td>4.000000</td>\n",
       "      <td>12.009600</td>\n",
       "      <td>11.260300</td>\n",
       "      <td>2.550000</td>\n",
       "      <td>1.500000</td>\n",
       "      <td>0.750000</td>\n",
       "      <td>0.499540</td>\n",
       "      <td>0.0</td>\n",
       "      <td>10.0</td>\n",
       "    </tr>\n",
       "    <tr>\n",
       "      <th>10187</th>\n",
       "      <td>10187</td>\n",
       "      <td>30.0</td>\n",
       "      <td>1.742832</td>\n",
       "      <td>6.000000</td>\n",
       "      <td>3.200000</td>\n",
       "      <td>11.663548</td>\n",
       "      <td>12.415840</td>\n",
       "      <td>2.518000</td>\n",
       "      <td>1.394000</td>\n",
       "      <td>0.664000</td>\n",
       "      <td>0.499010</td>\n",
       "      <td>0.0</td>\n",
       "      <td>2.5</td>\n",
       "    </tr>\n",
       "    <tr>\n",
       "      <th>10378</th>\n",
       "      <td>10378</td>\n",
       "      <td>120.0</td>\n",
       "      <td>15.550000</td>\n",
       "      <td>12.000000</td>\n",
       "      <td>4.000000</td>\n",
       "      <td>26.024935</td>\n",
       "      <td>10.600980</td>\n",
       "      <td>2.644000</td>\n",
       "      <td>1.794000</td>\n",
       "      <td>0.926000</td>\n",
       "      <td>0.499010</td>\n",
       "      <td>0.0</td>\n",
       "      <td>5.0</td>\n",
       "    </tr>\n",
       "  </tbody>\n",
       "</table>\n",
       "</div>"
      ],
      "text/plain": [
       "          id  allelectrons_Total  density_Total  allelectrons_Average  \\\n",
       "272      272               198.0       9.148824              4.814815   \n",
       "390      390                40.0       1.743160              6.666667   \n",
       "808      808                43.0       7.876748              7.500000   \n",
       "896      896                58.0       4.542664             15.666667   \n",
       "958      958                36.0       7.876748             18.000000   \n",
       "1341    1341                38.0       2.332664              5.666667   \n",
       "1518    1518                88.0       7.143328             11.142857   \n",
       "2600    2600                58.0       8.147992             11.600000   \n",
       "2620    2620                46.0       1.740168              5.750000   \n",
       "3066    3066                 6.0       0.001000              6.000000   \n",
       "4091    4091                96.0       9.133000             12.000000   \n",
       "4175    4175               116.0      15.430000             11.000000   \n",
       "4600    4600               336.0      22.521400              7.777778   \n",
       "4899    4899               100.0       1.740168              4.444444   \n",
       "4905    4905               338.0       3.746828              7.777778   \n",
       "4982    4982                72.0       1.743160              4.666667   \n",
       "5132    5132                46.0       7.876748              6.000000   \n",
       "5267    5267                74.0       4.956828              7.400000   \n",
       "5352    5352                20.0       0.320000             10.000000   \n",
       "5820    5820                42.0       1.740168              6.282828   \n",
       "6147    6147               466.0      37.007299              9.960000   \n",
       "6577    6577               100.0       1.006599              4.666667   \n",
       "6654    6654                42.0       7.876748              6.000000   \n",
       "6795    6795                14.0       0.360000             14.000000   \n",
       "7338    7338                20.0       9.133000             16.000000   \n",
       "7563    7563               110.0      27.240000             36.666667   \n",
       "7587    7587               120.0      11.351332             10.000000   \n",
       "7720    7720               150.0      10.616572             16.666667   \n",
       "7740    7740                36.0       0.001000             18.000000   \n",
       "7911    7911               120.0       0.447916              4.666667   \n",
       "8692    8692                90.0       7.876748              5.750000   \n",
       "8761    8761               459.0      37.007299              9.200000   \n",
       "9278    9278                38.0       1.553160             12.666667   \n",
       "9297    9297                30.0       4.542664             14.333333   \n",
       "9542    9542                14.0       0.001000              4.666667   \n",
       "9631    9631                66.0       8.505992             13.800000   \n",
       "10028  10028                 6.0       1.700000              6.000000   \n",
       "10187  10187                30.0       1.742832              6.000000   \n",
       "10378  10378               120.0      15.550000             12.000000   \n",
       "\n",
       "       val_e_Average  atomicweight_Average  ionenergy_Average  \\\n",
       "272         3.459459              8.462067          13.266033   \n",
       "390         4.000000             13.016128          12.700467   \n",
       "808         4.000000             14.996860          12.184250   \n",
       "896         4.666667             36.871575          11.354767   \n",
       "958         3.750000             37.272150          12.184250   \n",
       "1341        3.000000              8.773227          13.162967   \n",
       "1518        4.571429             22.594280          10.967771   \n",
       "2600        4.800000             24.808518          11.023840   \n",
       "2620        3.916667             11.990560          12.714558   \n",
       "3066        3.500000             11.663548          12.200040   \n",
       "4091        5.250000             24.033618          10.999625   \n",
       "4175        4.000000             24.503019           9.013750   \n",
       "4600        4.000000             15.957114          12.444895   \n",
       "4899        3.333333              8.808713          13.652933   \n",
       "4905        4.000000             14.900338          12.011028   \n",
       "4982        3.000000              6.876747          13.652933   \n",
       "5132        3.750000             12.009600          12.184250   \n",
       "5267        4.200000             14.610803          12.392110   \n",
       "5352        4.000000             20.994086           9.013750   \n",
       "5820        3.520000             11.990560          12.082260   \n",
       "6147        4.300000             18.546536          10.857620   \n",
       "6577        4.333333              8.808713          13.652933   \n",
       "6654        4.000000             12.009600          12.184250   \n",
       "6795        4.000000             29.217885           9.013750   \n",
       "7338        4.000000             32.059000           8.343215   \n",
       "7563        2.666667             82.598467           8.054000   \n",
       "7587        6.000000             20.994127          11.330440   \n",
       "7720        5.000000             35.764991          11.634467   \n",
       "7740        4.000000             36.068500           8.236600   \n",
       "7911        3.200000              8.773227          13.161829   \n",
       "8692        3.750000             11.729291          13.040525   \n",
       "8761        4.400000             18.546536          12.086300   \n",
       "9278        6.000000             26.024935           0.000167   \n",
       "9297        5.000000             30.612520          11.795967   \n",
       "9542        4.000000              8.773227           8.351667   \n",
       "9631        4.800000             27.188418          10.759120   \n",
       "10028       4.000000             12.009600          11.260300   \n",
       "10187       3.200000             11.663548          12.415840   \n",
       "10378       4.000000             26.024935          10.600980   \n",
       "\n",
       "       el_neg_chi_Average  R_vdw_element_Average  R_cov_element_Average  \\\n",
       "272              2.065000               1.394000               0.574595   \n",
       "390              2.770000               1.476667               0.616667   \n",
       "808              2.727500               1.545000               0.710000   \n",
       "896              1.976667               2.006667               0.920000   \n",
       "958              2.727500               1.545000               0.710000   \n",
       "1341             2.216667               1.336667               0.728000   \n",
       "1518             2.600000               1.744286               0.914286   \n",
       "2600             2.644000               1.794000               0.960000   \n",
       "2620             2.770000               1.446667               0.620833   \n",
       "3066             2.550000               1.542000               0.703000   \n",
       "4091             2.800000               1.880000               1.300000   \n",
       "4175             2.545000               1.715000               1.500000   \n",
       "4600             2.768636               1.461091               0.635758   \n",
       "4899             2.330000               1.336667               0.524444   \n",
       "4905             2.638333               1.526111               0.751111   \n",
       "4982             1.986667               1.336667               0.616667   \n",
       "5132             2.727500               1.545000               0.710000   \n",
       "5267             2.795000               1.542000               0.703000   \n",
       "5352             2.295000               2.045000               1.360000   \n",
       "5820             2.618400               1.509600               0.646400   \n",
       "6147             2.585000               1.699400               0.880800   \n",
       "6577             2.668000               1.318667               0.505333   \n",
       "6654             2.727500               1.545000               0.710000   \n",
       "6795             1.950000               2.015000               1.370000   \n",
       "7338             1.950000               2.250000               1.500000   \n",
       "7563             1.986667               2.093333               1.363333   \n",
       "7587             2.636000               1.794000               0.914000   \n",
       "7720             2.832222               1.716444               0.865000   \n",
       "7740             1.790000               2.055000               1.390000   \n",
       "7911             1.950000               2.015000               0.534167   \n",
       "8692             2.727500               1.545000               0.710000   \n",
       "8761             2.836000               1.652000               0.864000   \n",
       "9278             2.986667               1.750000               1.040000   \n",
       "9297             2.976667               1.716667               0.966667   \n",
       "9542             1.903333               1.310000               1.500000   \n",
       "9631             1.950000               1.740000               0.956000   \n",
       "10028            2.550000               1.500000               0.750000   \n",
       "10187            2.518000               1.394000               0.664000   \n",
       "10378            2.644000               1.794000               0.926000   \n",
       "\n",
       "       zaratio_Average  density_Average  Hardness  \n",
       "272           0.770755              0.0       2.0  \n",
       "390           0.663797              0.0       5.0  \n",
       "808           0.614430              0.0       5.3  \n",
       "896           0.486507              0.0       5.5  \n",
       "958           0.614430              0.0       4.0  \n",
       "1341          0.556623              0.0       3.3  \n",
       "1518          0.481661              0.0       7.8  \n",
       "2600          0.499514              0.0       6.0  \n",
       "2620          0.661224              0.0       4.0  \n",
       "3066          0.499540              0.0       3.0  \n",
       "4091          0.477665              0.0       2.5  \n",
       "4175          0.499514              0.0       7.5  \n",
       "4600          0.639251              0.0       5.5  \n",
       "4899          0.480390              0.0       1.5  \n",
       "4905          0.628591              0.0       3.0  \n",
       "4982          0.762369              0.0       4.8  \n",
       "5132          0.614430              0.0       5.0  \n",
       "5267          0.589660              0.0       3.8  \n",
       "5352          0.426680              0.0       3.0  \n",
       "5820          0.698557              0.0       4.3  \n",
       "6147          0.499010              0.0       5.5  \n",
       "6577          0.713937              0.0       2.3  \n",
       "6654          0.614430              0.0       5.3  \n",
       "6795          0.426680              0.0       1.8  \n",
       "7338          0.499680              0.0       2.5  \n",
       "7563          0.426320              0.0       2.5  \n",
       "7587          0.492736              0.0       4.0  \n",
       "7720          0.481976              0.0       6.5  \n",
       "7740          0.499000              0.0       3.0  \n",
       "7911          0.659870              0.0       2.0  \n",
       "8692          0.614430              0.0       3.0  \n",
       "8761          0.492799              0.0       3.5  \n",
       "9278          0.482157              0.0       4.0  \n",
       "9297          0.499507              0.0       6.5  \n",
       "9542          0.401635              0.0       4.0  \n",
       "9631          0.499726              0.0       6.0  \n",
       "10028         0.499540              0.0      10.0  \n",
       "10187         0.499010              0.0       2.5  \n",
       "10378         0.499010              0.0       5.0  "
      ]
     },
     "execution_count": 76,
     "metadata": {},
     "output_type": "execute_result"
    }
   ],
   "source": [
    "clean_train[clean_train.density_Average == 0]"
   ]
  },
  {
   "cell_type": "markdown",
   "metadata": {},
   "source": [
    "There are 39 values here, but the other data are nonzero, so I'm more inclined to remove the average density as a feature than to remove these rows. \n",
    "Another suspicious value are the denisty_Total = 0.00100.  It seems odd that there are more than 1 value with the exact same measure with that kind of precision. \n",
    "\n",
    "I want to see what else still has 0.0 values first."
   ]
  },
  {
   "cell_type": "code",
   "execution_count": 77,
   "metadata": {},
   "outputs": [
    {
     "data": {
      "text/plain": [
       "id                       0.000000\n",
       "allelectrons_Total       1.900000\n",
       "density_Total            0.001000\n",
       "allelectrons_Average     4.040404\n",
       "val_e_Average            1.333333\n",
       "atomicweight_Average     6.876747\n",
       "ionenergy_Average        0.000167\n",
       "el_neg_chi_Average       1.622865\n",
       "R_vdw_element_Average    1.028000\n",
       "R_cov_element_Average    0.000000\n",
       "zaratio_Average          0.401635\n",
       "density_Average          0.000000\n",
       "Hardness                 1.000000\n",
       "dtype: float64"
      ]
     },
     "execution_count": 77,
     "metadata": {},
     "output_type": "execute_result"
    }
   ],
   "source": [
    "clean_train.min()"
   ]
  },
  {
   "cell_type": "code",
   "execution_count": 78,
   "metadata": {},
   "outputs": [
    {
     "data": {
      "text/html": [
       "<div>\n",
       "<style scoped>\n",
       "    .dataframe tbody tr th:only-of-type {\n",
       "        vertical-align: middle;\n",
       "    }\n",
       "\n",
       "    .dataframe tbody tr th {\n",
       "        vertical-align: top;\n",
       "    }\n",
       "\n",
       "    .dataframe thead th {\n",
       "        text-align: right;\n",
       "    }\n",
       "</style>\n",
       "<table border=\"1\" class=\"dataframe\">\n",
       "  <thead>\n",
       "    <tr style=\"text-align: right;\">\n",
       "      <th></th>\n",
       "      <th>id</th>\n",
       "      <th>allelectrons_Total</th>\n",
       "      <th>density_Total</th>\n",
       "      <th>allelectrons_Average</th>\n",
       "      <th>val_e_Average</th>\n",
       "      <th>atomicweight_Average</th>\n",
       "      <th>ionenergy_Average</th>\n",
       "      <th>el_neg_chi_Average</th>\n",
       "      <th>R_vdw_element_Average</th>\n",
       "      <th>R_cov_element_Average</th>\n",
       "      <th>zaratio_Average</th>\n",
       "      <th>density_Average</th>\n",
       "      <th>Hardness</th>\n",
       "    </tr>\n",
       "  </thead>\n",
       "  <tbody>\n",
       "    <tr>\n",
       "      <th>10237</th>\n",
       "      <td>10237</td>\n",
       "      <td>30.0</td>\n",
       "      <td>4.542664</td>\n",
       "      <td>11.0</td>\n",
       "      <td>4.666667</td>\n",
       "      <td>22.521872</td>\n",
       "      <td>12.39211</td>\n",
       "      <td>2.766667</td>\n",
       "      <td>1.625</td>\n",
       "      <td>0.0</td>\n",
       "      <td>0.499074</td>\n",
       "      <td>1.02048</td>\n",
       "      <td>4.8</td>\n",
       "    </tr>\n",
       "  </tbody>\n",
       "</table>\n",
       "</div>"
      ],
      "text/plain": [
       "          id  allelectrons_Total  density_Total  allelectrons_Average  \\\n",
       "10237  10237                30.0       4.542664                  11.0   \n",
       "\n",
       "       val_e_Average  atomicweight_Average  ionenergy_Average  \\\n",
       "10237       4.666667             22.521872           12.39211   \n",
       "\n",
       "       el_neg_chi_Average  R_vdw_element_Average  R_cov_element_Average  \\\n",
       "10237            2.766667                  1.625                    0.0   \n",
       "\n",
       "       zaratio_Average  density_Average  Hardness  \n",
       "10237         0.499074          1.02048       4.8  "
      ]
     },
     "execution_count": 78,
     "metadata": {},
     "output_type": "execute_result"
    }
   ],
   "source": [
    "clean_train[clean_train.R_cov_element_Average == 0]"
   ]
  },
  {
   "cell_type": "markdown",
   "metadata": {},
   "source": [
    "There is only 1 material that has a 0.0 covalent bond average. Chemically, this is possible since the material may be solely ionic bonds, such as NaCl. NaCl would be all ionic bonds and van der Waals forces, so I am not going to remove this datum. "
   ]
  },
  {
   "cell_type": "code",
   "execution_count": 79,
   "metadata": {},
   "outputs": [
    {
     "data": {
      "text/html": [
       "<div>\n",
       "<style scoped>\n",
       "    .dataframe tbody tr th:only-of-type {\n",
       "        vertical-align: middle;\n",
       "    }\n",
       "\n",
       "    .dataframe tbody tr th {\n",
       "        vertical-align: top;\n",
       "    }\n",
       "\n",
       "    .dataframe thead th {\n",
       "        text-align: right;\n",
       "    }\n",
       "</style>\n",
       "<table border=\"1\" class=\"dataframe\">\n",
       "  <thead>\n",
       "    <tr style=\"text-align: right;\">\n",
       "      <th></th>\n",
       "      <th>id</th>\n",
       "      <th>allelectrons_Total</th>\n",
       "      <th>density_Total</th>\n",
       "      <th>allelectrons_Average</th>\n",
       "      <th>val_e_Average</th>\n",
       "      <th>atomicweight_Average</th>\n",
       "      <th>ionenergy_Average</th>\n",
       "      <th>el_neg_chi_Average</th>\n",
       "      <th>R_vdw_element_Average</th>\n",
       "      <th>R_cov_element_Average</th>\n",
       "      <th>zaratio_Average</th>\n",
       "      <th>density_Average</th>\n",
       "      <th>Hardness</th>\n",
       "    </tr>\n",
       "  </thead>\n",
       "  <tbody>\n",
       "    <tr>\n",
       "      <th>3066</th>\n",
       "      <td>3066</td>\n",
       "      <td>6.0</td>\n",
       "      <td>0.001</td>\n",
       "      <td>6.000000</td>\n",
       "      <td>3.5</td>\n",
       "      <td>11.663548</td>\n",
       "      <td>12.200040</td>\n",
       "      <td>2.550000</td>\n",
       "      <td>1.542</td>\n",
       "      <td>0.703</td>\n",
       "      <td>0.499540</td>\n",
       "      <td>0.0</td>\n",
       "      <td>3.0</td>\n",
       "    </tr>\n",
       "    <tr>\n",
       "      <th>7740</th>\n",
       "      <td>7740</td>\n",
       "      <td>36.0</td>\n",
       "      <td>0.001</td>\n",
       "      <td>18.000000</td>\n",
       "      <td>4.0</td>\n",
       "      <td>36.068500</td>\n",
       "      <td>8.236600</td>\n",
       "      <td>1.790000</td>\n",
       "      <td>2.055</td>\n",
       "      <td>1.390</td>\n",
       "      <td>0.499000</td>\n",
       "      <td>0.0</td>\n",
       "      <td>3.0</td>\n",
       "    </tr>\n",
       "    <tr>\n",
       "      <th>9542</th>\n",
       "      <td>9542</td>\n",
       "      <td>14.0</td>\n",
       "      <td>0.001</td>\n",
       "      <td>4.666667</td>\n",
       "      <td>4.0</td>\n",
       "      <td>8.773227</td>\n",
       "      <td>8.351667</td>\n",
       "      <td>1.903333</td>\n",
       "      <td>1.310</td>\n",
       "      <td>1.500</td>\n",
       "      <td>0.401635</td>\n",
       "      <td>0.0</td>\n",
       "      <td>4.0</td>\n",
       "    </tr>\n",
       "  </tbody>\n",
       "</table>\n",
       "</div>"
      ],
      "text/plain": [
       "        id  allelectrons_Total  density_Total  allelectrons_Average  \\\n",
       "3066  3066                 6.0          0.001              6.000000   \n",
       "7740  7740                36.0          0.001             18.000000   \n",
       "9542  9542                14.0          0.001              4.666667   \n",
       "\n",
       "      val_e_Average  atomicweight_Average  ionenergy_Average  \\\n",
       "3066            3.5             11.663548          12.200040   \n",
       "7740            4.0             36.068500           8.236600   \n",
       "9542            4.0              8.773227           8.351667   \n",
       "\n",
       "      el_neg_chi_Average  R_vdw_element_Average  R_cov_element_Average  \\\n",
       "3066            2.550000                  1.542                  0.703   \n",
       "7740            1.790000                  2.055                  1.390   \n",
       "9542            1.903333                  1.310                  1.500   \n",
       "\n",
       "      zaratio_Average  density_Average  Hardness  \n",
       "3066         0.499540              0.0       3.0  \n",
       "7740         0.499000              0.0       3.0  \n",
       "9542         0.401635              0.0       4.0  "
      ]
     },
     "execution_count": 79,
     "metadata": {},
     "output_type": "execute_result"
    }
   ],
   "source": [
    "clean_train[clean_train.density_Total <= 0.1]"
   ]
  },
  {
   "cell_type": "markdown",
   "metadata": {},
   "source": [
    "These 3 values have the same exact density_Total and a 0.0 density_Average, all with different numbers of electrons and weights. They are also the only three that are non-zero that have a density below 0.13, and it is 100 fold lower, so I am inclined to believe that this was entered erroneously, and thus these should be removed. "
   ]
  },
  {
   "cell_type": "code",
   "execution_count": 80,
   "metadata": {},
   "outputs": [],
   "source": [
    "clean_train = clean_train.loc[clean_train.density_Total > 0.1]"
   ]
  },
  {
   "cell_type": "code",
   "execution_count": 81,
   "metadata": {},
   "outputs": [
    {
     "data": {
      "text/plain": [
       "id                       0.000000\n",
       "allelectrons_Total       1.900000\n",
       "density_Total            0.133873\n",
       "allelectrons_Average     4.040404\n",
       "val_e_Average            1.333333\n",
       "atomicweight_Average     6.876747\n",
       "ionenergy_Average        0.000167\n",
       "el_neg_chi_Average       1.622865\n",
       "R_vdw_element_Average    1.028000\n",
       "R_cov_element_Average    0.000000\n",
       "zaratio_Average          0.401635\n",
       "density_Average          0.000000\n",
       "Hardness                 1.000000\n",
       "dtype: float64"
      ]
     },
     "execution_count": 81,
     "metadata": {},
     "output_type": "execute_result"
    }
   ],
   "source": [
    "clean_train.min()"
   ]
  },
  {
   "cell_type": "markdown",
   "metadata": {},
   "source": [
    "Finally, we will remove the column for density_Average."
   ]
  },
  {
   "cell_type": "code",
   "execution_count": 82,
   "metadata": {},
   "outputs": [],
   "source": [
    "clean_train.drop('density_Average', axis=1, inplace=True)"
   ]
  },
  {
   "cell_type": "code",
   "execution_count": 83,
   "metadata": {},
   "outputs": [
    {
     "data": {
      "text/plain": [
       "id                       0.000000\n",
       "allelectrons_Total       1.900000\n",
       "density_Total            0.133873\n",
       "allelectrons_Average     4.040404\n",
       "val_e_Average            1.333333\n",
       "atomicweight_Average     6.876747\n",
       "ionenergy_Average        0.000167\n",
       "el_neg_chi_Average       1.622865\n",
       "R_vdw_element_Average    1.028000\n",
       "R_cov_element_Average    0.000000\n",
       "zaratio_Average          0.401635\n",
       "Hardness                 1.000000\n",
       "dtype: float64"
      ]
     },
     "execution_count": 83,
     "metadata": {},
     "output_type": "execute_result"
    }
   ],
   "source": [
    "clean_train.min()"
   ]
  },
  {
   "cell_type": "markdown",
   "metadata": {},
   "source": [
    "# Distributions\n",
    "\n",
    "Let's look at the distributions: "
   ]
  },
  {
   "cell_type": "code",
   "execution_count": 84,
   "metadata": {},
   "outputs": [
    {
     "data": {
      "text/plain": [
       "array([[<AxesSubplot:title={'center':'allelectrons_Total'}>,\n",
       "        <AxesSubplot:title={'center':'density_Total'}>,\n",
       "        <AxesSubplot:title={'center':'allelectrons_Average'}>],\n",
       "       [<AxesSubplot:title={'center':'val_e_Average'}>,\n",
       "        <AxesSubplot:title={'center':'atomicweight_Average'}>,\n",
       "        <AxesSubplot:title={'center':'ionenergy_Average'}>],\n",
       "       [<AxesSubplot:title={'center':'el_neg_chi_Average'}>,\n",
       "        <AxesSubplot:title={'center':'R_vdw_element_Average'}>,\n",
       "        <AxesSubplot:title={'center':'R_cov_element_Average'}>],\n",
       "       [<AxesSubplot:title={'center':'zaratio_Average'}>,\n",
       "        <AxesSubplot:title={'center':'Hardness'}>, <AxesSubplot:>]],\n",
       "      dtype=object)"
      ]
     },
     "execution_count": 84,
     "metadata": {},
     "output_type": "execute_result"
    },
    {
     "data": {
      "image/png": "[encoded data removed]",
      "text/plain": [
       "<Figure size 1440x1440 with 12 Axes>"
      ]
     },
     "metadata": {},
     "output_type": "display_data"
    }
   ],
   "source": [
    "sns.set(rc={'figure.figsize': (20,20)})\n",
    "clean_train.drop(['id'], axis=1).hist()"
   ]
  },
  {
   "cell_type": "markdown",
   "metadata": {},
   "source": [
    "I want to see the distribution of the allelectrons_total and the density_Total above the lowest bin. "
   ]
  },
  {
   "cell_type": "code",
   "execution_count": 85,
   "metadata": {},
   "outputs": [
    {
     "data": {
      "text/plain": [
       "225"
      ]
     },
     "execution_count": 85,
     "metadata": {},
     "output_type": "execute_result"
    }
   ],
   "source": [
    "len(clean_train.loc[clean_train.allelectrons_Total > 500])"
   ]
  },
  {
   "cell_type": "markdown",
   "metadata": {},
   "source": [
    "I'm looking to see where I can cutoff the upper limit while losing less than 1% of the original data."
   ]
  },
  {
   "cell_type": "code",
   "execution_count": 86,
   "metadata": {},
   "outputs": [
    {
     "data": {
      "text/plain": [
       "0.00979156568104702"
      ]
     },
     "execution_count": 86,
     "metadata": {},
     "output_type": "execute_result"
    }
   ],
   "source": [
    "len(clean_train.loc[clean_train.allelectrons_Total > 725])/len(clean_train.allelectrons_Total)"
   ]
  },
  {
   "cell_type": "markdown",
   "metadata": {},
   "source": [
    "The density_Total distribution also looks very skewed. Since I've removed some data at this point, I want to look back at the density_Total greater than 200 from the original data.  "
   ]
  },
  {
   "cell_type": "code",
   "execution_count": 87,
   "metadata": {},
   "outputs": [
    {
     "data": {
      "text/html": [
       "<div>\n",
       "<style scoped>\n",
       "    .dataframe tbody tr th:only-of-type {\n",
       "        vertical-align: middle;\n",
       "    }\n",
       "\n",
       "    .dataframe tbody tr th {\n",
       "        vertical-align: top;\n",
       "    }\n",
       "\n",
       "    .dataframe thead th {\n",
       "        text-align: right;\n",
       "    }\n",
       "</style>\n",
       "<table border=\"1\" class=\"dataframe\">\n",
       "  <thead>\n",
       "    <tr style=\"text-align: right;\">\n",
       "      <th></th>\n",
       "      <th>id</th>\n",
       "      <th>allelectrons_Total</th>\n",
       "      <th>density_Total</th>\n",
       "      <th>allelectrons_Average</th>\n",
       "      <th>val_e_Average</th>\n",
       "      <th>atomicweight_Average</th>\n",
       "      <th>ionenergy_Average</th>\n",
       "      <th>el_neg_chi_Average</th>\n",
       "      <th>R_vdw_element_Average</th>\n",
       "      <th>R_cov_element_Average</th>\n",
       "      <th>zaratio_Average</th>\n",
       "      <th>density_Average</th>\n",
       "      <th>Hardness</th>\n",
       "    </tr>\n",
       "  </thead>\n",
       "  <tbody>\n",
       "    <tr>\n",
       "      <th>3072</th>\n",
       "      <td>3072</td>\n",
       "      <td>2024.2</td>\n",
       "      <td>236.459656</td>\n",
       "      <td>48.172299</td>\n",
       "      <td>2.681514</td>\n",
       "      <td>114.951853</td>\n",
       "      <td>7.146097</td>\n",
       "      <td>1.622865</td>\n",
       "      <td>2.209848</td>\n",
       "      <td>1.615840</td>\n",
       "      <td>0.434283</td>\n",
       "      <td>0.45291</td>\n",
       "      <td>4.7</td>\n",
       "    </tr>\n",
       "    <tr>\n",
       "      <th>4002</th>\n",
       "      <td>4002</td>\n",
       "      <td>266.0</td>\n",
       "      <td>236.459656</td>\n",
       "      <td>25.586207</td>\n",
       "      <td>3.172414</td>\n",
       "      <td>55.617414</td>\n",
       "      <td>9.028634</td>\n",
       "      <td>2.168276</td>\n",
       "      <td>1.906207</td>\n",
       "      <td>1.164138</td>\n",
       "      <td>0.469938</td>\n",
       "      <td>2.48360</td>\n",
       "      <td>2.5</td>\n",
       "    </tr>\n",
       "    <tr>\n",
       "      <th>5493</th>\n",
       "      <td>5493</td>\n",
       "      <td>15300.0</td>\n",
       "      <td>643.093804</td>\n",
       "      <td>8.027397</td>\n",
       "      <td>5.401274</td>\n",
       "      <td>16.215127</td>\n",
       "      <td>12.976603</td>\n",
       "      <td>3.179236</td>\n",
       "      <td>1.567945</td>\n",
       "      <td>0.737260</td>\n",
       "      <td>0.505030</td>\n",
       "      <td>0.58105</td>\n",
       "      <td>1.5</td>\n",
       "    </tr>\n",
       "    <tr>\n",
       "      <th>8173</th>\n",
       "      <td>8173</td>\n",
       "      <td>790.0</td>\n",
       "      <td>236.459656</td>\n",
       "      <td>39.500000</td>\n",
       "      <td>5.200000</td>\n",
       "      <td>93.784450</td>\n",
       "      <td>9.273855</td>\n",
       "      <td>2.279000</td>\n",
       "      <td>1.907000</td>\n",
       "      <td>1.214500</td>\n",
       "      <td>0.457149</td>\n",
       "      <td>5.10922</td>\n",
       "      <td>2.8</td>\n",
       "    </tr>\n",
       "  </tbody>\n",
       "</table>\n",
       "</div>"
      ],
      "text/plain": [
       "        id  allelectrons_Total  density_Total  allelectrons_Average  \\\n",
       "3072  3072              2024.2     236.459656             48.172299   \n",
       "4002  4002               266.0     236.459656             25.586207   \n",
       "5493  5493             15300.0     643.093804              8.027397   \n",
       "8173  8173               790.0     236.459656             39.500000   \n",
       "\n",
       "      val_e_Average  atomicweight_Average  ionenergy_Average  \\\n",
       "3072       2.681514            114.951853           7.146097   \n",
       "4002       3.172414             55.617414           9.028634   \n",
       "5493       5.401274             16.215127          12.976603   \n",
       "8173       5.200000             93.784450           9.273855   \n",
       "\n",
       "      el_neg_chi_Average  R_vdw_element_Average  R_cov_element_Average  \\\n",
       "3072            1.622865               2.209848               1.615840   \n",
       "4002            2.168276               1.906207               1.164138   \n",
       "5493            3.179236               1.567945               0.737260   \n",
       "8173            2.279000               1.907000               1.214500   \n",
       "\n",
       "      zaratio_Average  density_Average  Hardness  \n",
       "3072         0.434283          0.45291       4.7  \n",
       "4002         0.469938          2.48360       2.5  \n",
       "5493         0.505030          0.58105       1.5  \n",
       "8173         0.457149          5.10922       2.8  "
      ]
     },
     "execution_count": 87,
     "metadata": {},
     "output_type": "execute_result"
    }
   ],
   "source": [
    "full_train.loc[full_train.density_Total > 200]"
   ]
  },
  {
   "cell_type": "markdown",
   "metadata": {},
   "source": [
    "Three of the densities are the exact same, at 236.459656, which is highly unprobable given different values for everything else. The last is over 600, which also has an outlier in the allelectrons_Total, which will already be removed. \n",
    "\n",
    "From the allelectrons_Total, there are only 9 values that exceed 2000, and 18 values that exceed 1000. Again, there are is a suspicious finding with 6 of those having the exact total number of electrons. I want to see the histogram of the distribution without the values above 1000. To keep 99% of the original data, I can remove values above 725 total electrons. This still has a strong right skew, so I'll have to do something to transform that to something closer to a normal distribution. "
   ]
  },
  {
   "cell_type": "code",
   "execution_count": 88,
   "metadata": {},
   "outputs": [],
   "source": [
    "clean_train = clean_train[clean_train.allelectrons_Total < 725]"
   ]
  },
  {
   "cell_type": "code",
   "execution_count": 89,
   "metadata": {},
   "outputs": [
    {
     "data": {
      "text/html": [
       "<div>\n",
       "<style scoped>\n",
       "    .dataframe tbody tr th:only-of-type {\n",
       "        vertical-align: middle;\n",
       "    }\n",
       "\n",
       "    .dataframe tbody tr th {\n",
       "        vertical-align: top;\n",
       "    }\n",
       "\n",
       "    .dataframe thead th {\n",
       "        text-align: right;\n",
       "    }\n",
       "</style>\n",
       "<table border=\"1\" class=\"dataframe\">\n",
       "  <thead>\n",
       "    <tr style=\"text-align: right;\">\n",
       "      <th></th>\n",
       "      <th>id</th>\n",
       "      <th>allelectrons_Total</th>\n",
       "      <th>density_Total</th>\n",
       "      <th>allelectrons_Average</th>\n",
       "      <th>val_e_Average</th>\n",
       "      <th>atomicweight_Average</th>\n",
       "      <th>ionenergy_Average</th>\n",
       "      <th>el_neg_chi_Average</th>\n",
       "      <th>R_vdw_element_Average</th>\n",
       "      <th>R_cov_element_Average</th>\n",
       "      <th>zaratio_Average</th>\n",
       "      <th>Hardness</th>\n",
       "    </tr>\n",
       "  </thead>\n",
       "  <tbody>\n",
       "    <tr>\n",
       "      <th>1858</th>\n",
       "      <td>1858</td>\n",
       "      <td>237.0</td>\n",
       "      <td>160.284000</td>\n",
       "      <td>20.500000</td>\n",
       "      <td>4.172414</td>\n",
       "      <td>47.315423</td>\n",
       "      <td>9.206167</td>\n",
       "      <td>2.168276</td>\n",
       "      <td>1.935172</td>\n",
       "      <td>1.164138</td>\n",
       "      <td>0.483284</td>\n",
       "      <td>4.0</td>\n",
       "    </tr>\n",
       "    <tr>\n",
       "      <th>4002</th>\n",
       "      <td>4002</td>\n",
       "      <td>266.0</td>\n",
       "      <td>236.459656</td>\n",
       "      <td>25.586207</td>\n",
       "      <td>3.172414</td>\n",
       "      <td>55.617414</td>\n",
       "      <td>9.028634</td>\n",
       "      <td>2.168276</td>\n",
       "      <td>1.906207</td>\n",
       "      <td>1.164138</td>\n",
       "      <td>0.469938</td>\n",
       "      <td>2.5</td>\n",
       "    </tr>\n",
       "    <tr>\n",
       "      <th>8995</th>\n",
       "      <td>8995</td>\n",
       "      <td>515.0</td>\n",
       "      <td>178.742000</td>\n",
       "      <td>41.000000</td>\n",
       "      <td>3.750000</td>\n",
       "      <td>93.784450</td>\n",
       "      <td>9.061100</td>\n",
       "      <td>1.980000</td>\n",
       "      <td>2.045000</td>\n",
       "      <td>1.360000</td>\n",
       "      <td>0.426680</td>\n",
       "      <td>2.5</td>\n",
       "    </tr>\n",
       "  </tbody>\n",
       "</table>\n",
       "</div>"
      ],
      "text/plain": [
       "        id  allelectrons_Total  density_Total  allelectrons_Average  \\\n",
       "1858  1858               237.0     160.284000             20.500000   \n",
       "4002  4002               266.0     236.459656             25.586207   \n",
       "8995  8995               515.0     178.742000             41.000000   \n",
       "\n",
       "      val_e_Average  atomicweight_Average  ionenergy_Average  \\\n",
       "1858       4.172414             47.315423           9.206167   \n",
       "4002       3.172414             55.617414           9.028634   \n",
       "8995       3.750000             93.784450           9.061100   \n",
       "\n",
       "      el_neg_chi_Average  R_vdw_element_Average  R_cov_element_Average  \\\n",
       "1858            2.168276               1.935172               1.164138   \n",
       "4002            2.168276               1.906207               1.164138   \n",
       "8995            1.980000               2.045000               1.360000   \n",
       "\n",
       "      zaratio_Average  Hardness  \n",
       "1858         0.483284       4.0  \n",
       "4002         0.469938       2.5  \n",
       "8995         0.426680       2.5  "
      ]
     },
     "execution_count": 89,
     "metadata": {},
     "output_type": "execute_result"
    }
   ],
   "source": [
    "clean_train.loc[clean_train.density_Total > 150]"
   ]
  },
  {
   "cell_type": "markdown",
   "metadata": {},
   "source": [
    "Since this is the only remaining of the spurious density totals, I'm going to remove it by keeping only density totals less than 200."
   ]
  },
  {
   "cell_type": "code",
   "execution_count": 90,
   "metadata": {},
   "outputs": [],
   "source": [
    "clean_train = clean_train.loc[clean_train.density_Total < 200]"
   ]
  },
  {
   "cell_type": "code",
   "execution_count": 91,
   "metadata": {},
   "outputs": [
    {
     "data": {
      "text/plain": [
       "array([[<AxesSubplot:title={'center':'id'}>,\n",
       "        <AxesSubplot:title={'center':'allelectrons_Total'}>,\n",
       "        <AxesSubplot:title={'center':'density_Total'}>],\n",
       "       [<AxesSubplot:title={'center':'allelectrons_Average'}>,\n",
       "        <AxesSubplot:title={'center':'val_e_Average'}>,\n",
       "        <AxesSubplot:title={'center':'atomicweight_Average'}>],\n",
       "       [<AxesSubplot:title={'center':'ionenergy_Average'}>,\n",
       "        <AxesSubplot:title={'center':'el_neg_chi_Average'}>,\n",
       "        <AxesSubplot:title={'center':'R_vdw_element_Average'}>],\n",
       "       [<AxesSubplot:title={'center':'R_cov_element_Average'}>,\n",
       "        <AxesSubplot:title={'center':'zaratio_Average'}>,\n",
       "        <AxesSubplot:title={'center':'Hardness'}>]], dtype=object)"
      ]
     },
     "execution_count": 91,
     "metadata": {},
     "output_type": "execute_result"
    },
    {
     "data": {
      "image/png": "[encoded data removed]",
      "text/plain": [
       "<Figure size 1440x1440 with 12 Axes>"
      ]
     },
     "metadata": {},
     "output_type": "display_data"
    }
   ],
   "source": [
    "clean_train.hist()"
   ]
  },
  {
   "cell_type": "markdown",
   "metadata": {},
   "source": [
    "At this point, we have a Right Skew on the following: \n",
    "- allelectrons_Total\n",
    "- density_Total\n",
    "- allelectrons_Average\n",
    "- atomicweight_Average\n",
    "\n",
    "We know that the density and atomic weight are directly proportional, whereas the the cube of the radii are proportional to the density and weight. Since the radii appear to be in a more normal distribution, I'd like to take the cubic root of the density and weight to see how that affects the histograms. "
   ]
  },
  {
   "cell_type": "code",
   "execution_count": 92,
   "metadata": {},
   "outputs": [
    {
     "data": {
      "text/plain": [
       "<AxesSubplot:>"
      ]
     },
     "execution_count": 92,
     "metadata": {},
     "output_type": "execute_result"
    },
    {
     "data": {
      "image/png": "[encoded data removed]",
      "text/plain": [
       "<Figure size 1440x1440 with 1 Axes>"
      ]
     },
     "metadata": {},
     "output_type": "display_data"
    }
   ],
   "source": [
    "# Apply cubic root to transform the density\n",
    "\n",
    "density_transform = clean_train['density_Total'].apply(lambda x: x**(1/3))\n",
    "density_transform.hist()"
   ]
  },
  {
   "cell_type": "code",
   "execution_count": 93,
   "metadata": {},
   "outputs": [
    {
     "data": {
      "text/plain": [
       "<AxesSubplot:>"
      ]
     },
     "execution_count": 93,
     "metadata": {},
     "output_type": "execute_result"
    },
    {
     "data": {
      "image/png": "[encoded data removed]",
      "text/plain": [
       "<Figure size 1440x1440 with 1 Axes>"
      ]
     },
     "metadata": {},
     "output_type": "display_data"
    }
   ],
   "source": [
    "\n",
    "weight_transform = clean_train['atomicweight_Average'].apply(lambda x: x**(1/3))\n",
    "weight_transform.hist()"
   ]
  },
  {
   "cell_type": "markdown",
   "metadata": {},
   "source": [
    "Since the electron number is also directly proportion with the atomic weight, I'm going to perform the same transform on these: "
   ]
  },
  {
   "cell_type": "code",
   "execution_count": 94,
   "metadata": {},
   "outputs": [
    {
     "data": {
      "text/plain": [
       "<AxesSubplot:>"
      ]
     },
     "execution_count": 94,
     "metadata": {},
     "output_type": "execute_result"
    },
    {
     "data": {
      "image/png": "[encoded data removed]",
      "text/plain": [
       "<Figure size 1440x1440 with 1 Axes>"
      ]
     },
     "metadata": {},
     "output_type": "display_data"
    }
   ],
   "source": [
    "# electron total Distribution\n",
    "\n",
    "etotal_transform = clean_train['allelectrons_Total'].apply(lambda x: x**(1/3))\n",
    "etotal_transform.hist()"
   ]
  },
  {
   "cell_type": "code",
   "execution_count": 95,
   "metadata": {},
   "outputs": [
    {
     "data": {
      "text/plain": [
       "<AxesSubplot:>"
      ]
     },
     "execution_count": 95,
     "metadata": {},
     "output_type": "execute_result"
    },
    {
     "data": {
      "image/png": "[encoded data removed]",
      "text/plain": [
       "<Figure size 1440x1440 with 1 Axes>"
      ]
     },
     "metadata": {},
     "output_type": "display_data"
    }
   ],
   "source": [
    "# electron average Distribution\n",
    "\n",
    "eavg_transform = clean_train['allelectrons_Average'].apply(lambda x: x**(1/3))\n",
    "eavg_transform.hist()"
   ]
  },
  {
   "cell_type": "code",
   "execution_count": 96,
   "metadata": {},
   "outputs": [
    {
     "data": {
      "text/plain": [
       "array([[<AxesSubplot:title={'center':'allelectrons_Total'}>,\n",
       "        <AxesSubplot:title={'center':'allelectrons_Average'}>],\n",
       "       [<AxesSubplot:title={'center':'atomicweight_Average'}>,\n",
       "        <AxesSubplot:title={'center':'density_Total'}>]], dtype=object)"
      ]
     },
     "execution_count": 96,
     "metadata": {},
     "output_type": "execute_result"
    },
    {
     "data": {
      "image/png": "[encoded data removed]",
      "text/plain": [
       "<Figure size 1440x1440 with 4 Axes>"
      ]
     },
     "metadata": {},
     "output_type": "display_data"
    }
   ],
   "source": [
    "# electron total Distribution\n",
    "\n",
    "cubicroot_transforms = clean_train[['allelectrons_Total', 'allelectrons_Average', 'atomicweight_Average', 'density_Total']].apply(lambda x: x**(1/3))\n",
    "cubicroot_transforms.hist()"
   ]
  },
  {
   "cell_type": "code",
   "execution_count": 97,
   "metadata": {},
   "outputs": [],
   "source": [
    "transforms = clean_train.copy(deep=True)"
   ]
  },
  {
   "cell_type": "code",
   "execution_count": 98,
   "metadata": {},
   "outputs": [
    {
     "data": {
      "text/html": [
       "<div>\n",
       "<style scoped>\n",
       "    .dataframe tbody tr th:only-of-type {\n",
       "        vertical-align: middle;\n",
       "    }\n",
       "\n",
       "    .dataframe tbody tr th {\n",
       "        vertical-align: top;\n",
       "    }\n",
       "\n",
       "    .dataframe thead th {\n",
       "        text-align: right;\n",
       "    }\n",
       "</style>\n",
       "<table border=\"1\" class=\"dataframe\">\n",
       "  <thead>\n",
       "    <tr style=\"text-align: right;\">\n",
       "      <th></th>\n",
       "      <th>id</th>\n",
       "      <th>allelectrons_Total</th>\n",
       "      <th>density_Total</th>\n",
       "      <th>allelectrons_Average</th>\n",
       "      <th>val_e_Average</th>\n",
       "      <th>atomicweight_Average</th>\n",
       "      <th>ionenergy_Average</th>\n",
       "      <th>el_neg_chi_Average</th>\n",
       "      <th>R_vdw_element_Average</th>\n",
       "      <th>R_cov_element_Average</th>\n",
       "      <th>zaratio_Average</th>\n",
       "      <th>Hardness</th>\n",
       "    </tr>\n",
       "  </thead>\n",
       "  <tbody>\n",
       "    <tr>\n",
       "      <th>0</th>\n",
       "      <td>0</td>\n",
       "      <td>100.0</td>\n",
       "      <td>0.841611</td>\n",
       "      <td>10.0</td>\n",
       "      <td>4.8</td>\n",
       "      <td>20.612526</td>\n",
       "      <td>11.08810</td>\n",
       "      <td>2.766</td>\n",
       "      <td>1.732</td>\n",
       "      <td>0.860</td>\n",
       "      <td>0.496070</td>\n",
       "      <td>6.0</td>\n",
       "    </tr>\n",
       "    <tr>\n",
       "      <th>1</th>\n",
       "      <td>1</td>\n",
       "      <td>100.0</td>\n",
       "      <td>7.558488</td>\n",
       "      <td>10.0</td>\n",
       "      <td>4.8</td>\n",
       "      <td>20.298893</td>\n",
       "      <td>12.04083</td>\n",
       "      <td>2.755</td>\n",
       "      <td>1.631</td>\n",
       "      <td>0.910</td>\n",
       "      <td>0.492719</td>\n",
       "      <td>6.5</td>\n",
       "    </tr>\n",
       "    <tr>\n",
       "      <th>2</th>\n",
       "      <td>2</td>\n",
       "      <td>76.0</td>\n",
       "      <td>8.885992</td>\n",
       "      <td>15.6</td>\n",
       "      <td>5.6</td>\n",
       "      <td>33.739258</td>\n",
       "      <td>12.08630</td>\n",
       "      <td>2.828</td>\n",
       "      <td>1.788</td>\n",
       "      <td>0.864</td>\n",
       "      <td>0.481478</td>\n",
       "      <td>2.5</td>\n",
       "    </tr>\n",
       "    <tr>\n",
       "      <th>3</th>\n",
       "      <td>3</td>\n",
       "      <td>100.0</td>\n",
       "      <td>8.795296</td>\n",
       "      <td>10.0</td>\n",
       "      <td>4.8</td>\n",
       "      <td>20.213349</td>\n",
       "      <td>10.94850</td>\n",
       "      <td>2.648</td>\n",
       "      <td>1.626</td>\n",
       "      <td>0.936</td>\n",
       "      <td>0.489272</td>\n",
       "      <td>6.0</td>\n",
       "    </tr>\n",
       "    <tr>\n",
       "      <th>4</th>\n",
       "      <td>4</td>\n",
       "      <td>116.0</td>\n",
       "      <td>9.577996</td>\n",
       "      <td>11.6</td>\n",
       "      <td>4.8</td>\n",
       "      <td>24.988133</td>\n",
       "      <td>11.82448</td>\n",
       "      <td>2.766</td>\n",
       "      <td>1.682</td>\n",
       "      <td>0.896</td>\n",
       "      <td>0.492736</td>\n",
       "      <td>6.0</td>\n",
       "    </tr>\n",
       "  </tbody>\n",
       "</table>\n",
       "</div>"
      ],
      "text/plain": [
       "   id  allelectrons_Total  density_Total  allelectrons_Average  val_e_Average  \\\n",
       "0   0               100.0       0.841611                  10.0            4.8   \n",
       "1   1               100.0       7.558488                  10.0            4.8   \n",
       "2   2                76.0       8.885992                  15.6            5.6   \n",
       "3   3               100.0       8.795296                  10.0            4.8   \n",
       "4   4               116.0       9.577996                  11.6            4.8   \n",
       "\n",
       "   atomicweight_Average  ionenergy_Average  el_neg_chi_Average  \\\n",
       "0             20.612526           11.08810               2.766   \n",
       "1             20.298893           12.04083               2.755   \n",
       "2             33.739258           12.08630               2.828   \n",
       "3             20.213349           10.94850               2.648   \n",
       "4             24.988133           11.82448               2.766   \n",
       "\n",
       "   R_vdw_element_Average  R_cov_element_Average  zaratio_Average  Hardness  \n",
       "0                  1.732                  0.860         0.496070       6.0  \n",
       "1                  1.631                  0.910         0.492719       6.5  \n",
       "2                  1.788                  0.864         0.481478       2.5  \n",
       "3                  1.626                  0.936         0.489272       6.0  \n",
       "4                  1.682                  0.896         0.492736       6.0  "
      ]
     },
     "execution_count": 98,
     "metadata": {},
     "output_type": "execute_result"
    }
   ],
   "source": [
    "transforms.head()"
   ]
  },
  {
   "cell_type": "code",
   "execution_count": 99,
   "metadata": {},
   "outputs": [],
   "source": [
    "atomicmass_Average = transforms.atomicweight_Average * transforms.zaratio_Average"
   ]
  },
  {
   "cell_type": "code",
   "execution_count": 100,
   "metadata": {},
   "outputs": [],
   "source": [
    "transforms['atomicnumber_Average'] = transforms.atomicweight_Average * transforms.zaratio_Average"
   ]
  },
  {
   "cell_type": "code",
   "execution_count": 101,
   "metadata": {},
   "outputs": [
    {
     "data": {
      "text/html": [
       "<div>\n",
       "<style scoped>\n",
       "    .dataframe tbody tr th:only-of-type {\n",
       "        vertical-align: middle;\n",
       "    }\n",
       "\n",
       "    .dataframe tbody tr th {\n",
       "        vertical-align: top;\n",
       "    }\n",
       "\n",
       "    .dataframe thead th {\n",
       "        text-align: right;\n",
       "    }\n",
       "</style>\n",
       "<table border=\"1\" class=\"dataframe\">\n",
       "  <thead>\n",
       "    <tr style=\"text-align: right;\">\n",
       "      <th></th>\n",
       "      <th>id</th>\n",
       "      <th>allelectrons_Total</th>\n",
       "      <th>density_Total</th>\n",
       "      <th>allelectrons_Average</th>\n",
       "      <th>val_e_Average</th>\n",
       "      <th>atomicweight_Average</th>\n",
       "      <th>ionenergy_Average</th>\n",
       "      <th>el_neg_chi_Average</th>\n",
       "      <th>R_vdw_element_Average</th>\n",
       "      <th>R_cov_element_Average</th>\n",
       "      <th>zaratio_Average</th>\n",
       "      <th>Hardness</th>\n",
       "      <th>atomicnumber_Average</th>\n",
       "    </tr>\n",
       "  </thead>\n",
       "  <tbody>\n",
       "    <tr>\n",
       "      <th>0</th>\n",
       "      <td>0</td>\n",
       "      <td>100.0</td>\n",
       "      <td>0.841611</td>\n",
       "      <td>10.0</td>\n",
       "      <td>4.8</td>\n",
       "      <td>20.612526</td>\n",
       "      <td>11.08810</td>\n",
       "      <td>2.766</td>\n",
       "      <td>1.732</td>\n",
       "      <td>0.860</td>\n",
       "      <td>0.496070</td>\n",
       "      <td>6.0</td>\n",
       "      <td>10.225256</td>\n",
       "    </tr>\n",
       "    <tr>\n",
       "      <th>1</th>\n",
       "      <td>1</td>\n",
       "      <td>100.0</td>\n",
       "      <td>7.558488</td>\n",
       "      <td>10.0</td>\n",
       "      <td>4.8</td>\n",
       "      <td>20.298893</td>\n",
       "      <td>12.04083</td>\n",
       "      <td>2.755</td>\n",
       "      <td>1.631</td>\n",
       "      <td>0.910</td>\n",
       "      <td>0.492719</td>\n",
       "      <td>6.5</td>\n",
       "      <td>10.001650</td>\n",
       "    </tr>\n",
       "    <tr>\n",
       "      <th>2</th>\n",
       "      <td>2</td>\n",
       "      <td>76.0</td>\n",
       "      <td>8.885992</td>\n",
       "      <td>15.6</td>\n",
       "      <td>5.6</td>\n",
       "      <td>33.739258</td>\n",
       "      <td>12.08630</td>\n",
       "      <td>2.828</td>\n",
       "      <td>1.788</td>\n",
       "      <td>0.864</td>\n",
       "      <td>0.481478</td>\n",
       "      <td>2.5</td>\n",
       "      <td>16.244710</td>\n",
       "    </tr>\n",
       "    <tr>\n",
       "      <th>3</th>\n",
       "      <td>3</td>\n",
       "      <td>100.0</td>\n",
       "      <td>8.795296</td>\n",
       "      <td>10.0</td>\n",
       "      <td>4.8</td>\n",
       "      <td>20.213349</td>\n",
       "      <td>10.94850</td>\n",
       "      <td>2.648</td>\n",
       "      <td>1.626</td>\n",
       "      <td>0.936</td>\n",
       "      <td>0.489272</td>\n",
       "      <td>6.0</td>\n",
       "      <td>9.889826</td>\n",
       "    </tr>\n",
       "    <tr>\n",
       "      <th>4</th>\n",
       "      <td>4</td>\n",
       "      <td>116.0</td>\n",
       "      <td>9.577996</td>\n",
       "      <td>11.6</td>\n",
       "      <td>4.8</td>\n",
       "      <td>24.988133</td>\n",
       "      <td>11.82448</td>\n",
       "      <td>2.766</td>\n",
       "      <td>1.682</td>\n",
       "      <td>0.896</td>\n",
       "      <td>0.492736</td>\n",
       "      <td>6.0</td>\n",
       "      <td>12.312553</td>\n",
       "    </tr>\n",
       "  </tbody>\n",
       "</table>\n",
       "</div>"
      ],
      "text/plain": [
       "   id  allelectrons_Total  density_Total  allelectrons_Average  val_e_Average  \\\n",
       "0   0               100.0       0.841611                  10.0            4.8   \n",
       "1   1               100.0       7.558488                  10.0            4.8   \n",
       "2   2                76.0       8.885992                  15.6            5.6   \n",
       "3   3               100.0       8.795296                  10.0            4.8   \n",
       "4   4               116.0       9.577996                  11.6            4.8   \n",
       "\n",
       "   atomicweight_Average  ionenergy_Average  el_neg_chi_Average  \\\n",
       "0             20.612526           11.08810               2.766   \n",
       "1             20.298893           12.04083               2.755   \n",
       "2             33.739258           12.08630               2.828   \n",
       "3             20.213349           10.94850               2.648   \n",
       "4             24.988133           11.82448               2.766   \n",
       "\n",
       "   R_vdw_element_Average  R_cov_element_Average  zaratio_Average  Hardness  \\\n",
       "0                  1.732                  0.860         0.496070       6.0   \n",
       "1                  1.631                  0.910         0.492719       6.5   \n",
       "2                  1.788                  0.864         0.481478       2.5   \n",
       "3                  1.626                  0.936         0.489272       6.0   \n",
       "4                  1.682                  0.896         0.492736       6.0   \n",
       "\n",
       "   atomicnumber_Average  \n",
       "0             10.225256  \n",
       "1             10.001650  \n",
       "2             16.244710  \n",
       "3              9.889826  \n",
       "4             12.312553  "
      ]
     },
     "execution_count": 101,
     "metadata": {},
     "output_type": "execute_result"
    }
   ],
   "source": [
    "transforms.head()"
   ]
  },
  {
   "cell_type": "code",
   "execution_count": 102,
   "metadata": {},
   "outputs": [],
   "source": [
    "transforms[['allelectrons_Total_T', 'allelectrons_Average_T', 'atomicweight_Average_T', 'atomicnumber_Average_T', 'density_Total_T']] = transforms[['allelectrons_Total', 'allelectrons_Average', 'atomicweight_Average', 'atomicnumber_Average', 'density_Total']].apply(lambda x: x**(1/3))"
   ]
  },
  {
   "cell_type": "markdown",
   "metadata": {},
   "source": [
    "- The Z/A-Ratio, is the ratio fo electron density to the bulk density - determined by the average atomic number / average atomic weight. We don't actually have the average Atomic Number, which should correlate with the allelectrons_Average. We can determine the Atomic Number average based on the Z/A value multiplied by the atomicweight_Average. \n"
   ]
  },
  {
   "cell_type": "code",
   "execution_count": 103,
   "metadata": {},
   "outputs": [
    {
     "data": {
      "text/plain": [
       "array([[<AxesSubplot:title={'center':'id'}>,\n",
       "        <AxesSubplot:title={'center':'allelectrons_Total'}>,\n",
       "        <AxesSubplot:title={'center':'density_Total'}>,\n",
       "        <AxesSubplot:title={'center':'allelectrons_Average'}>],\n",
       "       [<AxesSubplot:title={'center':'val_e_Average'}>,\n",
       "        <AxesSubplot:title={'center':'atomicweight_Average'}>,\n",
       "        <AxesSubplot:title={'center':'ionenergy_Average'}>,\n",
       "        <AxesSubplot:title={'center':'el_neg_chi_Average'}>],\n",
       "       [<AxesSubplot:title={'center':'R_vdw_element_Average'}>,\n",
       "        <AxesSubplot:title={'center':'R_cov_element_Average'}>,\n",
       "        <AxesSubplot:title={'center':'zaratio_Average'}>,\n",
       "        <AxesSubplot:title={'center':'Hardness'}>],\n",
       "       [<AxesSubplot:title={'center':'atomicnumber_Average'}>,\n",
       "        <AxesSubplot:title={'center':'allelectrons_Total_T'}>,\n",
       "        <AxesSubplot:title={'center':'allelectrons_Average_T'}>,\n",
       "        <AxesSubplot:title={'center':'atomicweight_Average_T'}>],\n",
       "       [<AxesSubplot:title={'center':'atomicnumber_Average_T'}>,\n",
       "        <AxesSubplot:title={'center':'density_Total_T'}>, <AxesSubplot:>,\n",
       "        <AxesSubplot:>]], dtype=object)"
      ]
     },
     "execution_count": 103,
     "metadata": {},
     "output_type": "execute_result"
    },
    {
     "data": {
      "image/png": "[encoded data removed]",
      "text/plain": [
       "<Figure size 1440x1440 with 20 Axes>"
      ]
     },
     "metadata": {},
     "output_type": "display_data"
    }
   ],
   "source": [
    "transforms.hist()"
   ]
  },
  {
   "cell_type": "markdown",
   "metadata": {},
   "source": [
    "Now that we've verified that the transforms were done properly, we can remove the original non-transformed columns from the df."
   ]
  },
  {
   "cell_type": "code",
   "execution_count": 104,
   "metadata": {},
   "outputs": [],
   "source": [
    "transforms.drop(['allelectrons_Total', 'allelectrons_Average', 'atomicweight_Average', 'density_Total', 'atomicnumber_Average'], axis=1, inplace=True)"
   ]
  },
  {
   "cell_type": "code",
   "execution_count": 105,
   "metadata": {},
   "outputs": [
    {
     "data": {
      "text/html": [
       "<div>\n",
       "<style scoped>\n",
       "    .dataframe tbody tr th:only-of-type {\n",
       "        vertical-align: middle;\n",
       "    }\n",
       "\n",
       "    .dataframe tbody tr th {\n",
       "        vertical-align: top;\n",
       "    }\n",
       "\n",
       "    .dataframe thead th {\n",
       "        text-align: right;\n",
       "    }\n",
       "</style>\n",
       "<table border=\"1\" class=\"dataframe\">\n",
       "  <thead>\n",
       "    <tr style=\"text-align: right;\">\n",
       "      <th></th>\n",
       "      <th>id</th>\n",
       "      <th>val_e_Average</th>\n",
       "      <th>ionenergy_Average</th>\n",
       "      <th>el_neg_chi_Average</th>\n",
       "      <th>R_vdw_element_Average</th>\n",
       "      <th>R_cov_element_Average</th>\n",
       "      <th>zaratio_Average</th>\n",
       "      <th>Hardness</th>\n",
       "      <th>allelectrons_Total_T</th>\n",
       "      <th>allelectrons_Average_T</th>\n",
       "      <th>atomicweight_Average_T</th>\n",
       "      <th>atomicnumber_Average_T</th>\n",
       "      <th>density_Total_T</th>\n",
       "    </tr>\n",
       "  </thead>\n",
       "  <tbody>\n",
       "    <tr>\n",
       "      <th>0</th>\n",
       "      <td>0</td>\n",
       "      <td>4.8</td>\n",
       "      <td>11.08810</td>\n",
       "      <td>2.766</td>\n",
       "      <td>1.732</td>\n",
       "      <td>0.860</td>\n",
       "      <td>0.496070</td>\n",
       "      <td>6.0</td>\n",
       "      <td>4.641589</td>\n",
       "      <td>2.154435</td>\n",
       "      <td>2.741850</td>\n",
       "      <td>2.170491</td>\n",
       "      <td>0.944142</td>\n",
       "    </tr>\n",
       "    <tr>\n",
       "      <th>1</th>\n",
       "      <td>1</td>\n",
       "      <td>4.8</td>\n",
       "      <td>12.04083</td>\n",
       "      <td>2.755</td>\n",
       "      <td>1.631</td>\n",
       "      <td>0.910</td>\n",
       "      <td>0.492719</td>\n",
       "      <td>6.5</td>\n",
       "      <td>4.641589</td>\n",
       "      <td>2.154435</td>\n",
       "      <td>2.727873</td>\n",
       "      <td>2.154553</td>\n",
       "      <td>1.962509</td>\n",
       "    </tr>\n",
       "    <tr>\n",
       "      <th>2</th>\n",
       "      <td>2</td>\n",
       "      <td>5.6</td>\n",
       "      <td>12.08630</td>\n",
       "      <td>2.828</td>\n",
       "      <td>1.788</td>\n",
       "      <td>0.864</td>\n",
       "      <td>0.481478</td>\n",
       "      <td>2.5</td>\n",
       "      <td>4.235824</td>\n",
       "      <td>2.498666</td>\n",
       "      <td>3.231309</td>\n",
       "      <td>2.532624</td>\n",
       "      <td>2.071263</td>\n",
       "    </tr>\n",
       "    <tr>\n",
       "      <th>3</th>\n",
       "      <td>3</td>\n",
       "      <td>4.8</td>\n",
       "      <td>10.94850</td>\n",
       "      <td>2.648</td>\n",
       "      <td>1.626</td>\n",
       "      <td>0.936</td>\n",
       "      <td>0.489272</td>\n",
       "      <td>6.0</td>\n",
       "      <td>4.641589</td>\n",
       "      <td>2.154435</td>\n",
       "      <td>2.724035</td>\n",
       "      <td>2.146493</td>\n",
       "      <td>2.064192</td>\n",
       "    </tr>\n",
       "    <tr>\n",
       "      <th>4</th>\n",
       "      <td>4</td>\n",
       "      <td>4.8</td>\n",
       "      <td>11.82448</td>\n",
       "      <td>2.766</td>\n",
       "      <td>1.682</td>\n",
       "      <td>0.896</td>\n",
       "      <td>0.492736</td>\n",
       "      <td>6.0</td>\n",
       "      <td>4.876999</td>\n",
       "      <td>2.263702</td>\n",
       "      <td>2.923555</td>\n",
       "      <td>2.309135</td>\n",
       "      <td>2.123692</td>\n",
       "    </tr>\n",
       "  </tbody>\n",
       "</table>\n",
       "</div>"
      ],
      "text/plain": [
       "   id  val_e_Average  ionenergy_Average  el_neg_chi_Average  \\\n",
       "0   0            4.8           11.08810               2.766   \n",
       "1   1            4.8           12.04083               2.755   \n",
       "2   2            5.6           12.08630               2.828   \n",
       "3   3            4.8           10.94850               2.648   \n",
       "4   4            4.8           11.82448               2.766   \n",
       "\n",
       "   R_vdw_element_Average  R_cov_element_Average  zaratio_Average  Hardness  \\\n",
       "0                  1.732                  0.860         0.496070       6.0   \n",
       "1                  1.631                  0.910         0.492719       6.5   \n",
       "2                  1.788                  0.864         0.481478       2.5   \n",
       "3                  1.626                  0.936         0.489272       6.0   \n",
       "4                  1.682                  0.896         0.492736       6.0   \n",
       "\n",
       "   allelectrons_Total_T  allelectrons_Average_T  atomicweight_Average_T  \\\n",
       "0              4.641589                2.154435                2.741850   \n",
       "1              4.641589                2.154435                2.727873   \n",
       "2              4.235824                2.498666                3.231309   \n",
       "3              4.641589                2.154435                2.724035   \n",
       "4              4.876999                2.263702                2.923555   \n",
       "\n",
       "   atomicnumber_Average_T  density_Total_T  \n",
       "0                2.170491         0.944142  \n",
       "1                2.154553         1.962509  \n",
       "2                2.532624         2.071263  \n",
       "3                2.146493         2.064192  \n",
       "4                2.309135         2.123692  "
      ]
     },
     "execution_count": 105,
     "metadata": {},
     "output_type": "execute_result"
    }
   ],
   "source": [
    "transforms.head()"
   ]
  },
  {
   "cell_type": "markdown",
   "metadata": {},
   "source": [
    "\n",
    "\n",
    "***\n",
    "## Look at the correlations"
   ]
  },
  {
   "cell_type": "code",
   "execution_count": 106,
   "metadata": {},
   "outputs": [],
   "source": [
    "def heatmap(dataset, label = None):\n",
    "    columns = list(dataset)\n",
    "    corr = dataset.corr()\n",
    "    plt.figure(figsize = (14, 10))\n",
    "    mask = np.zeros_like(corr)\n",
    "    mask[np.triu_indices_from(mask)] = True\n",
    "    sns.heatmap(corr, mask = mask, cmap = 'crest', annot = True, linewidths = .1)\n",
    "    #plt.yticks(range(len(columns)), columns, fontsize = 5)\n",
    "    #plt.xticks(range(len(columns)), columns, fontsize = 5)\n",
    "    plt.title(f'{label} Dataset Correlation Matrix\\n', fontsize = 25, weight = 'bold')\n",
    "    plt.show()"
   ]
  },
  {
   "cell_type": "code",
   "execution_count": 107,
   "metadata": {},
   "outputs": [
    {
     "data": {
      "image/png": "[encoded data removed]",
      "text/plain": [
       "<Figure size 1008x720 with 2 Axes>"
      ]
     },
     "metadata": {},
     "output_type": "display_data"
    }
   ],
   "source": [
    "heatmap(transforms.drop(['id'], axis=1), 'Train')"
   ]
  },
  {
   "cell_type": "markdown",
   "metadata": {},
   "source": [
    "- It should be noted that, not surprisingly, there is a very strong correlation with the atomic weight and number of electrons. \n",
    "- The atomic weight is based on the number of protons and neutrons in a molecule, and while the neutrons have some flexibility, the electrons do not - they are directly correlated with the number of protons. That being said, keeping both of these measures may not be ideal. \n",
    "- We also see similar correlation values between the allelectrons total and density total AND the allelectrons_average and density_average.\n",
    "\n",
    "- The Z/A Ratio represents the electron cloud density, determined by the average molecular number / average molecular weight\n",
    "\n",
    "\n",
    "- Another correlation that appears is between the Van der Waals forces and Covelant forces\n",
    "    - Covelant radius is half the internuclear separation begween the nuclei of two single-bonded atoms of the SAME species (homonuclear)\n",
    "    - van der Waals radius is half the distance between the closest approach of two non-bonded atoms of a given element\n",
    "\n",
    "Though these forces are correlated, they are not the same and act independently of one another chemically. \n",
    "\n",
    "There are strong corrleations between the atomic weight, atomic number, and electrons averages. This is expected from the chemical properties of them, however, the subtle diffences may give some insights. At this point, since we have used the Z/A ratio to determine the atomic number prior to the transform, we should consider removing the z/a ratio as it is utilized twice.  \n"
   ]
  },
  {
   "cell_type": "code",
   "execution_count": 108,
   "metadata": {},
   "outputs": [],
   "source": [
    "def distance(data, label = ''):\n",
    "    #thanks to @sergiosaharovsky for the fix\n",
    "    corr = data.corr(method = 'spearman')\n",
    "    dist_linkage = linkage(squareform(1 - abs(corr)), 'complete')\n",
    "    \n",
    "    plt.figure(figsize = (10, 8))\n",
    "    dendro = dendrogram(dist_linkage, labels=data.columns, leaf_rotation=90, )\n",
    "    plt.title(f'Feature Distance in {label} Dataset', weight = 'bold', size = 22)\n",
    "    plt.show()"
   ]
  },
  {
   "cell_type": "code",
   "execution_count": 110,
   "metadata": {},
   "outputs": [
    {
     "data": {
      "image/png": "[encoded data removed]",
      "text/plain": [
       "<Figure size 720x576 with 1 Axes>"
      ]
     },
     "metadata": {},
     "output_type": "display_data"
    }
   ],
   "source": [
    "from scipy.cluster.hierarchy import dendrogram, linkage\n",
    "from scipy.spatial.distance import squareform\n",
    "\n",
    "distance(transforms.drop(['id'], axis=1), 'Train')"
   ]
  },
  {
   "cell_type": "markdown",
   "metadata": {},
   "source": [
    "The next thing we should consider is binning. There are currently 49 values that the hardness can be set to. "
   ]
  },
  {
   "cell_type": "code",
   "execution_count": 125,
   "metadata": {},
   "outputs": [
    {
     "data": {
      "text/plain": [
       "49"
      ]
     },
     "execution_count": 125,
     "metadata": {},
     "output_type": "execute_result"
    }
   ],
   "source": [
    "len(transforms.Hardness.value_counts())"
   ]
  },
  {
   "cell_type": "code",
   "execution_count": 126,
   "metadata": {},
   "outputs": [
    {
     "data": {
      "text/plain": [
       "6.00     2053\n",
       "5.50     1452\n",
       "2.50     1051\n",
       "3.80      704\n",
       "5.80      401\n",
       "6.50      392\n",
       "2.00      377\n",
       "5.00      375\n",
       "4.00      364\n",
       "2.80      360\n",
       "3.00      304\n",
       "2.30      291\n",
       "6.30      265\n",
       "3.50      253\n",
       "6.80      239\n",
       "1.80      157\n",
       "3.30      144\n",
       "5.30      134\n",
       "4.30      130\n",
       "1.50      126\n",
       "4.80      104\n",
       "7.50       98\n",
       "7.00       96\n",
       "4.50       92\n",
       "7.80       64\n",
       "9.00       33\n",
       "10.00      30\n",
       "9.50       25\n",
       "1.30       17\n",
       "8.50       15\n",
       "8.00       12\n",
       "6.20       10\n",
       "5.75       10\n",
       "7.30       10\n",
       "8.10        6\n",
       "2.90        5\n",
       "1.00        2\n",
       "8.30        1\n",
       "5.40        1\n",
       "6.70        1\n",
       "2.60        1\n",
       "3.60        1\n",
       "2.10        1\n",
       "2.20        1\n",
       "3.20        1\n",
       "4.10        1\n",
       "6.40        1\n",
       "9.80        1\n",
       "6.64        1\n",
       "Name: Hardness, dtype: int64"
      ]
     },
     "execution_count": 126,
     "metadata": {},
     "output_type": "execute_result"
    }
   ],
   "source": [
    "transforms.Hardness.value_counts()"
   ]
  },
  {
   "cell_type": "code",
   "execution_count": 136,
   "metadata": {},
   "outputs": [],
   "source": [
    "# Just testing out the cleaned data with the current model\n",
    "\n",
    "from sklearn.model_selection import train_test_split\n",
    "\n",
    "import seaborn as sns\n",
    "# import optuna\n",
    "from sklearn.ensemble import RandomForestRegressor\n",
    "from sklearn.metrics import median_absolute_error\n",
    "\n",
    "# \n",
    "from sklearn.ensemble import GradientBoostingRegressor\n",
    "from sklearn.model_selection import KFold, cross_validate, train_test_split\n",
    "import numpy as np\n",
    "\n"
   ]
  },
  {
   "cell_type": "code",
   "execution_count": 178,
   "metadata": {},
   "outputs": [],
   "source": [
    "X = transforms.drop(['Hardness', 'atomicnumber_Average_T', 'allelectrons_Total_T', 'atomicweight_Average_T', 'zaratio_Average'], axis=1)\n",
    "y = transforms.Hardness"
   ]
  },
  {
   "cell_type": "code",
   "execution_count": 179,
   "metadata": {},
   "outputs": [],
   "source": [
    "X_train, X_valid, y_train, y_valid = train_test_split(X, y, test_size=0.2, random_state=0)"
   ]
  },
  {
   "cell_type": "code",
   "execution_count": 180,
   "metadata": {},
   "outputs": [
    {
     "name": "stdout",
     "output_type": "stream",
     "text": [
      "Generated Test Data Predictions using Final Model:\n",
      " [3.91730742 5.68637716 5.16102029 ... 5.71496518 5.79228805 5.7647441 ]\n"
     ]
    }
   ],
   "source": [
    "basic_forest_model = RandomForestRegressor(n_estimators=920,\n",
    "    min_samples_split=5,\n",
    "    min_samples_leaf=2,\n",
    "    max_depth=19,\n",
    "    random_state=26)\n",
    "basic_forest_model.fit(X_train, y_train) \n",
    "xg_predictions_final = basic_forest_model.predict(X_valid)\n",
    "\n",
    "print(\"Generated Test Data Predictions using Final Model:\\n\", \n",
    "                                                  xg_predictions_final)"
   ]
  },
  {
   "cell_type": "code",
   "execution_count": 175,
   "metadata": {},
   "outputs": [],
   "source": [
    "output = pd.DataFrame({'id': X_valid.id,\n",
    "                       'Predicted Hardness': xg_predictions_final, \n",
    "                       'Actual Hardness': y_valid})"
   ]
  },
  {
   "cell_type": "code",
   "execution_count": 181,
   "metadata": {},
   "outputs": [],
   "source": [
    "medae = median_absolute_error(xg_predictions_final, y_valid)"
   ]
  },
  {
   "cell_type": "code",
   "execution_count": 182,
   "metadata": {},
   "outputs": [
    {
     "data": {
      "text/plain": [
       "0.6582187793459475"
      ]
     },
     "execution_count": 182,
     "metadata": {},
     "output_type": "execute_result"
    }
   ],
   "source": [
    "medae"
   ]
  },
  {
   "cell_type": "code",
   "execution_count": 146,
   "metadata": {},
   "outputs": [
    {
     "data": {
      "text/html": [
       "<div>\n",
       "<style scoped>\n",
       "    .dataframe tbody tr th:only-of-type {\n",
       "        vertical-align: middle;\n",
       "    }\n",
       "\n",
       "    .dataframe tbody tr th {\n",
       "        vertical-align: top;\n",
       "    }\n",
       "\n",
       "    .dataframe thead th {\n",
       "        text-align: right;\n",
       "    }\n",
       "</style>\n",
       "<table border=\"1\" class=\"dataframe\">\n",
       "  <thead>\n",
       "    <tr style=\"text-align: right;\">\n",
       "      <th></th>\n",
       "      <th>id</th>\n",
       "      <th>Predicted Hardness</th>\n",
       "      <th>Actual Hardness</th>\n",
       "    </tr>\n",
       "  </thead>\n",
       "  <tbody>\n",
       "    <tr>\n",
       "      <th>7782</th>\n",
       "      <td>7782</td>\n",
       "      <td>3.652690</td>\n",
       "      <td>5.5</td>\n",
       "    </tr>\n",
       "    <tr>\n",
       "      <th>1501</th>\n",
       "      <td>1501</td>\n",
       "      <td>5.733693</td>\n",
       "      <td>5.5</td>\n",
       "    </tr>\n",
       "    <tr>\n",
       "      <th>9588</th>\n",
       "      <td>9588</td>\n",
       "      <td>4.908968</td>\n",
       "      <td>2.0</td>\n",
       "    </tr>\n",
       "    <tr>\n",
       "      <th>8751</th>\n",
       "      <td>8751</td>\n",
       "      <td>4.994880</td>\n",
       "      <td>6.5</td>\n",
       "    </tr>\n",
       "    <tr>\n",
       "      <th>4215</th>\n",
       "      <td>4215</td>\n",
       "      <td>5.862477</td>\n",
       "      <td>7.5</td>\n",
       "    </tr>\n",
       "    <tr>\n",
       "      <th>...</th>\n",
       "      <td>...</td>\n",
       "      <td>...</td>\n",
       "      <td>...</td>\n",
       "    </tr>\n",
       "    <tr>\n",
       "      <th>10289</th>\n",
       "      <td>10289</td>\n",
       "      <td>3.656839</td>\n",
       "      <td>5.5</td>\n",
       "    </tr>\n",
       "    <tr>\n",
       "      <th>7569</th>\n",
       "      <td>7569</td>\n",
       "      <td>4.458177</td>\n",
       "      <td>5.5</td>\n",
       "    </tr>\n",
       "    <tr>\n",
       "      <th>8981</th>\n",
       "      <td>8981</td>\n",
       "      <td>5.791921</td>\n",
       "      <td>6.8</td>\n",
       "    </tr>\n",
       "    <tr>\n",
       "      <th>4985</th>\n",
       "      <td>4985</td>\n",
       "      <td>5.781785</td>\n",
       "      <td>6.3</td>\n",
       "    </tr>\n",
       "    <tr>\n",
       "      <th>8018</th>\n",
       "      <td>8018</td>\n",
       "      <td>5.803363</td>\n",
       "      <td>5.5</td>\n",
       "    </tr>\n",
       "  </tbody>\n",
       "</table>\n",
       "<p>2043 rows × 3 columns</p>\n",
       "</div>"
      ],
      "text/plain": [
       "          id  Predicted Hardness  Actual Hardness\n",
       "7782    7782            3.652690              5.5\n",
       "1501    1501            5.733693              5.5\n",
       "9588    9588            4.908968              2.0\n",
       "8751    8751            4.994880              6.5\n",
       "4215    4215            5.862477              7.5\n",
       "...      ...                 ...              ...\n",
       "10289  10289            3.656839              5.5\n",
       "7569    7569            4.458177              5.5\n",
       "8981    8981            5.791921              6.8\n",
       "4985    4985            5.781785              6.3\n",
       "8018    8018            5.803363              5.5\n",
       "\n",
       "[2043 rows x 3 columns]"
      ]
     },
     "execution_count": 146,
     "metadata": {},
     "output_type": "execute_result"
    }
   ],
   "source": [
    "output"
   ]
  },
  {
   "cell_type": "code",
   "execution_count": 188,
   "metadata": {},
   "outputs": [],
   "source": [
    "X = full_train.drop(['Hardness', 'allelectrons_Total', 'atomicweight_Average', 'zaratio_Average'], axis=1)\n",
    "y = full_train.Hardness\n",
    "\n",
    "X_train, X_valid, y_train, y_valid = train_test_split(X, y, test_size=0.2, random_state=0)"
   ]
  },
  {
   "cell_type": "code",
   "execution_count": 189,
   "metadata": {},
   "outputs": [
    {
     "name": "stdout",
     "output_type": "stream",
     "text": [
      "Generated Test Data Predictions using Final Model:\n",
      " [4.10671183 5.60750303 4.46812807 ... 2.31420743 5.85284124 4.74047359]\n"
     ]
    }
   ],
   "source": [
    "basic_forest_model = RandomForestRegressor(n_estimators=920,\n",
    "    min_samples_split=5,\n",
    "    min_samples_leaf=2,\n",
    "    max_depth=19,\n",
    "    random_state=26)\n",
    "basic_forest_model.fit(X_train, y_train) \n",
    "xg_predictions_final2 = basic_forest_model.predict(X_valid)\n",
    "\n",
    "print(\"Generated Test Data Predictions using Final Model:\\n\", \n",
    "                                                  xg_predictions_final2)"
   ]
  },
  {
   "cell_type": "code",
   "execution_count": 190,
   "metadata": {},
   "outputs": [
    {
     "data": {
      "text/plain": [
       "0.6656016816243262"
      ]
     },
     "execution_count": 190,
     "metadata": {},
     "output_type": "execute_result"
    }
   ],
   "source": [
    "median_absolute_error(xg_predictions_final2, y_valid)"
   ]
  },
  {
   "cell_type": "code",
   "execution_count": 151,
   "metadata": {},
   "outputs": [],
   "source": [
    "from Rock_Cleaner import rock_cleaner\n",
    "\n",
    "Train = rock_cleaner(full_train)\n"
   ]
  },
  {
   "cell_type": "code",
   "execution_count": 160,
   "metadata": {},
   "outputs": [],
   "source": [
    "X_train = Train.drop('Hardness', axis=1)\n",
    "y_train = Train.Hardness\n"
   ]
  },
  {
   "cell_type": "code",
   "execution_count": 161,
   "metadata": {},
   "outputs": [
    {
     "name": "stdout",
     "output_type": "stream",
     "text": [
      "Generated Test Data Predictions using Final Model:\n",
      " [5.22106763 3.68405005 3.43618925 ... 3.43585954 3.43706969 5.2914939 ]\n"
     ]
    },
    {
     "name": "stderr",
     "output_type": "stream",
     "text": [
      "c:\\Users\\justi\\anaconda3\\envs\\PythonData\\lib\\site-packages\\sklearn\\base.py:493: FutureWarning: The feature names should match those that were passed during fit. Starting version 1.2, an error will be raised.\n",
      "Feature names unseen at fit time:\n",
      "- allelectrons_Average\n",
      "- allelectrons_Total\n",
      "- atomicweight_Average\n",
      "- density_Average\n",
      "- density_Total\n",
      "Feature names seen at fit time, yet now missing:\n",
      "- allelectrons_Average_T\n",
      "- allelectrons_Total_T\n",
      "- atomicnumber_Average_T\n",
      "- atomicweight_Average_T\n",
      "- density_Total_T\n",
      "\n",
      "  warnings.warn(message, FutureWarning)\n"
     ]
    }
   ],
   "source": [
    "basic_forest_model = RandomForestRegressor(n_estimators=920,\n",
    "    min_samples_split=5,\n",
    "    min_samples_leaf=2,\n",
    "    max_depth=19,\n",
    "    random_state=26)\n",
    "basic_forest_model.fit(X_train, y_train) \n",
    "xg_predictions_final = basic_forest_model.predict(full_test)\n",
    "\n",
    "print(\"Generated Test Data Predictions using Final Model:\\n\", \n",
    "                                                  xg_predictions_final)"
   ]
  },
  {
   "cell_type": "markdown",
   "metadata": {},
   "source": [
    "And now to test the dirty data"
   ]
  },
  {
   "cell_type": "code",
   "execution_count": 183,
   "metadata": {},
   "outputs": [],
   "source": [
    "X_train = full_train.drop('Hardness', axis=1)\n",
    "y_train = full_train.Hardness"
   ]
  },
  {
   "cell_type": "code",
   "execution_count": 184,
   "metadata": {},
   "outputs": [
    {
     "name": "stdout",
     "output_type": "stream",
     "text": [
      "Generated Test Data Predictions using Final Model:\n",
      " [3.28375121 3.3183685  5.92876507 ... 5.32642501 5.11776717 3.0147045 ]\n"
     ]
    }
   ],
   "source": [
    "basic_forest_model = RandomForestRegressor(n_estimators=920,\n",
    "    min_samples_split=5,\n",
    "    min_samples_leaf=2,\n",
    "    max_depth=19,\n",
    "    random_state=26)\n",
    "basic_forest_model.fit(X_train, y_train) \n",
    "xg_predictions_final2 = basic_forest_model.predict(full_test)\n",
    "\n",
    "print(\"Generated Test Data Predictions using Final Model:\\n\", \n",
    "                                                  xg_predictions_final2)"
   ]
  },
  {
   "cell_type": "code",
   "execution_count": 186,
   "metadata": {},
   "outputs": [
    {
     "ename": "ValueError",
     "evalue": "Found input variables with inconsistent numbers of samples: [6939, 2043]",
     "output_type": "error",
     "traceback": [
      "\u001b[1;31m---------------------------------------------------------------------------\u001b[0m",
      "\u001b[1;31mValueError\u001b[0m                                Traceback (most recent call last)",
      "\u001b[1;32mc:\\Users\\justi\\OneDrive\\Desktop\\Analytics\\Mohs\\EDA_2.ipynb Cell 96\u001b[0m line \u001b[0;36m<cell line: 1>\u001b[1;34m()\u001b[0m\n\u001b[1;32m----> <a href='vscode-notebook-cell:/c%3A/Users/justi/OneDrive/Desktop/Analytics/Mohs/EDA_2.ipynb#Y243sZmlsZQ%3D%3D?line=0'>1</a>\u001b[0m median_absolute_error(xg_predictions_final2, y_valid)\n",
      "File \u001b[1;32mc:\\Users\\justi\\anaconda3\\envs\\PythonData\\lib\\site-packages\\sklearn\\metrics\\_regression.py:591\u001b[0m, in \u001b[0;36mmedian_absolute_error\u001b[1;34m(y_true, y_pred, multioutput, sample_weight)\u001b[0m\n\u001b[0;32m    535\u001b[0m \u001b[39mdef\u001b[39;00m \u001b[39mmedian_absolute_error\u001b[39m(\n\u001b[0;32m    536\u001b[0m     y_true, y_pred, \u001b[39m*\u001b[39m, multioutput\u001b[39m=\u001b[39m\u001b[39m\"\u001b[39m\u001b[39muniform_average\u001b[39m\u001b[39m\"\u001b[39m, sample_weight\u001b[39m=\u001b[39m\u001b[39mNone\u001b[39;00m\n\u001b[0;32m    537\u001b[0m ):\n\u001b[0;32m    538\u001b[0m     \u001b[39m\"\"\"Median absolute error regression loss.\u001b[39;00m\n\u001b[0;32m    539\u001b[0m \n\u001b[0;32m    540\u001b[0m \u001b[39m    Median absolute error output is non-negative floating point. The best value\u001b[39;00m\n\u001b[1;32m   (...)\u001b[0m\n\u001b[0;32m    589\u001b[0m \u001b[39m    0.85\u001b[39;00m\n\u001b[0;32m    590\u001b[0m \u001b[39m    \"\"\"\u001b[39;00m\n\u001b[1;32m--> 591\u001b[0m     y_type, y_true, y_pred, multioutput \u001b[39m=\u001b[39m _check_reg_targets(\n\u001b[0;32m    592\u001b[0m         y_true, y_pred, multioutput\n\u001b[0;32m    593\u001b[0m     )\n\u001b[0;32m    594\u001b[0m     \u001b[39mif\u001b[39;00m sample_weight \u001b[39mis\u001b[39;00m \u001b[39mNone\u001b[39;00m:\n\u001b[0;32m    595\u001b[0m         output_errors \u001b[39m=\u001b[39m np\u001b[39m.\u001b[39mmedian(np\u001b[39m.\u001b[39mabs(y_pred \u001b[39m-\u001b[39m y_true), axis\u001b[39m=\u001b[39m\u001b[39m0\u001b[39m)\n",
      "File \u001b[1;32mc:\\Users\\justi\\anaconda3\\envs\\PythonData\\lib\\site-packages\\sklearn\\metrics\\_regression.py:94\u001b[0m, in \u001b[0;36m_check_reg_targets\u001b[1;34m(y_true, y_pred, multioutput, dtype)\u001b[0m\n\u001b[0;32m     60\u001b[0m \u001b[39mdef\u001b[39;00m \u001b[39m_check_reg_targets\u001b[39m(y_true, y_pred, multioutput, dtype\u001b[39m=\u001b[39m\u001b[39m\"\u001b[39m\u001b[39mnumeric\u001b[39m\u001b[39m\"\u001b[39m):\n\u001b[0;32m     61\u001b[0m     \u001b[39m\"\"\"Check that y_true and y_pred belong to the same regression task.\u001b[39;00m\n\u001b[0;32m     62\u001b[0m \n\u001b[0;32m     63\u001b[0m \u001b[39m    Parameters\u001b[39;00m\n\u001b[1;32m   (...)\u001b[0m\n\u001b[0;32m     92\u001b[0m \u001b[39m        the dtype argument passed to check_array.\u001b[39;00m\n\u001b[0;32m     93\u001b[0m \u001b[39m    \"\"\"\u001b[39;00m\n\u001b[1;32m---> 94\u001b[0m     check_consistent_length(y_true, y_pred)\n\u001b[0;32m     95\u001b[0m     y_true \u001b[39m=\u001b[39m check_array(y_true, ensure_2d\u001b[39m=\u001b[39m\u001b[39mFalse\u001b[39;00m, dtype\u001b[39m=\u001b[39mdtype)\n\u001b[0;32m     96\u001b[0m     y_pred \u001b[39m=\u001b[39m check_array(y_pred, ensure_2d\u001b[39m=\u001b[39m\u001b[39mFalse\u001b[39;00m, dtype\u001b[39m=\u001b[39mdtype)\n",
      "File \u001b[1;32mc:\\Users\\justi\\anaconda3\\envs\\PythonData\\lib\\site-packages\\sklearn\\utils\\validation.py:332\u001b[0m, in \u001b[0;36mcheck_consistent_length\u001b[1;34m(*arrays)\u001b[0m\n\u001b[0;32m    330\u001b[0m uniques \u001b[39m=\u001b[39m np\u001b[39m.\u001b[39munique(lengths)\n\u001b[0;32m    331\u001b[0m \u001b[39mif\u001b[39;00m \u001b[39mlen\u001b[39m(uniques) \u001b[39m>\u001b[39m \u001b[39m1\u001b[39m:\n\u001b[1;32m--> 332\u001b[0m     \u001b[39mraise\u001b[39;00m \u001b[39mValueError\u001b[39;00m(\n\u001b[0;32m    333\u001b[0m         \u001b[39m\"\u001b[39m\u001b[39mFound input variables with inconsistent numbers of samples: \u001b[39m\u001b[39m%r\u001b[39;00m\u001b[39m\"\u001b[39m\n\u001b[0;32m    334\u001b[0m         \u001b[39m%\u001b[39m [\u001b[39mint\u001b[39m(l) \u001b[39mfor\u001b[39;00m l \u001b[39min\u001b[39;00m lengths]\n\u001b[0;32m    335\u001b[0m     )\n",
      "\u001b[1;31mValueError\u001b[0m: Found input variables with inconsistent numbers of samples: [6939, 2043]"
     ]
    }
   ],
   "source": []
  },
  {
   "cell_type": "code",
   "execution_count": 164,
   "metadata": {},
   "outputs": [],
   "source": [
    "output = pd.DataFrame({'id': full_test.id\n",
    "                       , 'Clean Predicted Hardness': xg_predictions_final\n",
    "                       , 'Dirty Predicted Hardness': xg_predictions_final2})"
   ]
  },
  {
   "cell_type": "code",
   "execution_count": 165,
   "metadata": {},
   "outputs": [
    {
     "data": {
      "text/html": [
       "<div>\n",
       "<style scoped>\n",
       "    .dataframe tbody tr th:only-of-type {\n",
       "        vertical-align: middle;\n",
       "    }\n",
       "\n",
       "    .dataframe tbody tr th {\n",
       "        vertical-align: top;\n",
       "    }\n",
       "\n",
       "    .dataframe thead th {\n",
       "        text-align: right;\n",
       "    }\n",
       "</style>\n",
       "<table border=\"1\" class=\"dataframe\">\n",
       "  <thead>\n",
       "    <tr style=\"text-align: right;\">\n",
       "      <th></th>\n",
       "      <th>id</th>\n",
       "      <th>Clean Predicted Hardness</th>\n",
       "      <th>Dirty Predicted Hardness</th>\n",
       "    </tr>\n",
       "  </thead>\n",
       "  <tbody>\n",
       "    <tr>\n",
       "      <th>0</th>\n",
       "      <td>10407</td>\n",
       "      <td>5.221068</td>\n",
       "      <td>3.283751</td>\n",
       "    </tr>\n",
       "    <tr>\n",
       "      <th>1</th>\n",
       "      <td>10408</td>\n",
       "      <td>3.684050</td>\n",
       "      <td>3.318369</td>\n",
       "    </tr>\n",
       "    <tr>\n",
       "      <th>2</th>\n",
       "      <td>10409</td>\n",
       "      <td>3.436189</td>\n",
       "      <td>5.928765</td>\n",
       "    </tr>\n",
       "    <tr>\n",
       "      <th>3</th>\n",
       "      <td>10410</td>\n",
       "      <td>3.645995</td>\n",
       "      <td>4.397067</td>\n",
       "    </tr>\n",
       "    <tr>\n",
       "      <th>4</th>\n",
       "      <td>10411</td>\n",
       "      <td>3.428314</td>\n",
       "      <td>5.073976</td>\n",
       "    </tr>\n",
       "    <tr>\n",
       "      <th>...</th>\n",
       "      <td>...</td>\n",
       "      <td>...</td>\n",
       "      <td>...</td>\n",
       "    </tr>\n",
       "    <tr>\n",
       "      <th>6934</th>\n",
       "      <td>17341</td>\n",
       "      <td>4.989326</td>\n",
       "      <td>5.729988</td>\n",
       "    </tr>\n",
       "    <tr>\n",
       "      <th>6935</th>\n",
       "      <td>17342</td>\n",
       "      <td>3.587961</td>\n",
       "      <td>4.131253</td>\n",
       "    </tr>\n",
       "    <tr>\n",
       "      <th>6936</th>\n",
       "      <td>17343</td>\n",
       "      <td>3.435860</td>\n",
       "      <td>5.326425</td>\n",
       "    </tr>\n",
       "    <tr>\n",
       "      <th>6937</th>\n",
       "      <td>17344</td>\n",
       "      <td>3.437070</td>\n",
       "      <td>5.117767</td>\n",
       "    </tr>\n",
       "    <tr>\n",
       "      <th>6938</th>\n",
       "      <td>17345</td>\n",
       "      <td>5.291494</td>\n",
       "      <td>3.014705</td>\n",
       "    </tr>\n",
       "  </tbody>\n",
       "</table>\n",
       "<p>6939 rows × 3 columns</p>\n",
       "</div>"
      ],
      "text/plain": [
       "         id  Clean Predicted Hardness  Dirty Predicted Hardness\n",
       "0     10407                  5.221068                  3.283751\n",
       "1     10408                  3.684050                  3.318369\n",
       "2     10409                  3.436189                  5.928765\n",
       "3     10410                  3.645995                  4.397067\n",
       "4     10411                  3.428314                  5.073976\n",
       "...     ...                       ...                       ...\n",
       "6934  17341                  4.989326                  5.729988\n",
       "6935  17342                  3.587961                  4.131253\n",
       "6936  17343                  3.435860                  5.326425\n",
       "6937  17344                  3.437070                  5.117767\n",
       "6938  17345                  5.291494                  3.014705\n",
       "\n",
       "[6939 rows x 3 columns]"
      ]
     },
     "execution_count": 165,
     "metadata": {},
     "output_type": "execute_result"
    }
   ],
   "source": [
    "output"
   ]
  },
  {
   "cell_type": "markdown",
   "metadata": {},
   "source": [
    "Next Question: How to program in the Median Absolute Error?"
   ]
  }
 ],
 "metadata": {
  "kernelspec": {
   "display_name": "PythonData",
   "language": "python",
   "name": "python3"
  },
  "language_info": {
   "codemirror_mode": {
    "name": "ipython",
    "version": 3
   },
   "file_extension": ".py",
   "mimetype": "text/x-python",
   "name": "python",
   "nbconvert_exporter": "python",
   "pygments_lexer": "ipython3",
   "version": "3.9.12"
  }
 },
 "nbformat": 4,
 "nbformat_minor": 2
}
