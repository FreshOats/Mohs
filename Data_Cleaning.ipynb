{
 "cells": [
  {
   "cell_type": "code",
   "execution_count": 1,
   "metadata": {},
   "outputs": [],
   "source": [
    "import numpy as np\n",
    "import pandas as pd\n",
    "import matplotlib.pyplot as plt\n",
    "import seaborn as sns"
   ]
  },
  {
   "cell_type": "code",
   "execution_count": 2,
   "metadata": {},
   "outputs": [],
   "source": [
    "full_train = pd.read_csv('train.csv')\n",
    "full_test = pd.read_csv('test.csv')"
   ]
  },
  {
   "cell_type": "code",
   "execution_count": null,
   "metadata": {},
   "outputs": [],
   "source": [
    "full_train.set_index('id')\n",
    "clean_train = full_train.loc[(full_train.atomicweight_Average > 1.0)] \n",
    "clean_train = full_train.loc[(clean_train.allelectrons_Total > 1.0) & (clean_train.allelectrons_Total < 725)]\n",
    "clean_train = clean_train.loc[(clean_train.density_Total > 0.1) & (clean_train.density_Total < 200)]\n",
    "transforms['atomicnumber_Average'] = transforms.atomicweight_Average * transforms.zaratio_Average\n",
    "transforms[['allelectrons_Total_T', 'allelectrons_Average_T', 'atomicweight_Average_T', 'atomicnumber_Average_T', 'density_Total_T']] = transforms[['allelectrons_Total', 'allelectrons_Average', 'atomicweight_Average', 'atomicnumber_Average', 'density_Total']].apply(lambda x: x**(1/3))\n",
    "transforms.drop(['density_Average','allelectrons_Total', 'allelectrons_Average', 'atomicweight_Average', 'density_Total', 'atomicnumber_Average'], axis=1, inplace=True)\n"
   ]
  },
  {
   "cell_type": "code",
   "execution_count": null,
   "metadata": {},
   "outputs": [],
   "source": [
    "def rock_cleaner(df): \n",
    "    df = df.loc[(df.atomicweight_Average > 1.0)] \n",
    "    df = df.loc[(df.allelectrons_Total > 1.0) & (df.allelectrons_Total < 725)]\n",
    "    df = df.loc[(df.density_Total > 0.1) & (df.density_Total < 200)]\n",
    "    df['atomicnumber_Average'] = df.atomicweight_Average * df.zaratio_Average\n",
    "    df[['allelectrons_Total_T', 'allelectrons_Average_T', 'atomicweight_Average_T', 'atomicnumber_Average_T', 'density_Total_T']] = df[['allelectrons_Total', 'allelectrons_Average', 'atomicweight_Average', 'atomicnumber_Average', 'density_Total']].apply(lambda x: x**(1/3))\n",
    "    df.drop(['density_Average','allelectrons_Total', 'allelectrons_Average', 'atomicweight_Average', 'density_Total', 'atomicnumber_Average'], axis=1, inplace=True)\n",
    "    return df"
   ]
  },
  {
   "cell_type": "code",
   "execution_count": null,
   "metadata": {},
   "outputs": [],
   "source": [
    "full_train.head()"
   ]
  },
  {
   "cell_type": "code",
   "execution_count": null,
   "metadata": {},
   "outputs": [],
   "source": [
    "clean_train = rock_cleaner(full_train)\n",
    "clean_train.head()"
   ]
  },
  {
   "cell_type": "code",
   "execution_count": null,
   "metadata": {},
   "outputs": [],
   "source": [
    "clean_test = rock_cleaner(full_test)\n",
    "clean_test.head()"
   ]
  },
  {
   "cell_type": "code",
   "execution_count": 7,
   "metadata": {},
   "outputs": [],
   "source": [
    "from Rock_Cleaner import rock_cleaner"
   ]
  },
  {
   "cell_type": "code",
   "execution_count": 8,
   "metadata": {},
   "outputs": [
    {
     "data": {
      "text/html": [
       "<div>\n",
       "<style scoped>\n",
       "    .dataframe tbody tr th:only-of-type {\n",
       "        vertical-align: middle;\n",
       "    }\n",
       "\n",
       "    .dataframe tbody tr th {\n",
       "        vertical-align: top;\n",
       "    }\n",
       "\n",
       "    .dataframe thead th {\n",
       "        text-align: right;\n",
       "    }\n",
       "</style>\n",
       "<table border=\"1\" class=\"dataframe\">\n",
       "  <thead>\n",
       "    <tr style=\"text-align: right;\">\n",
       "      <th></th>\n",
       "      <th>id</th>\n",
       "      <th>val_e_Average</th>\n",
       "      <th>ionenergy_Average</th>\n",
       "      <th>el_neg_chi_Average</th>\n",
       "      <th>R_vdw_element_Average</th>\n",
       "      <th>R_cov_element_Average</th>\n",
       "      <th>zaratio_Average</th>\n",
       "      <th>Hardness</th>\n",
       "      <th>allelectrons_Total_T</th>\n",
       "      <th>allelectrons_Average_T</th>\n",
       "      <th>atomicweight_Average_T</th>\n",
       "      <th>atomicnumber_Average_T</th>\n",
       "      <th>density_Total_T</th>\n",
       "    </tr>\n",
       "  </thead>\n",
       "  <tbody>\n",
       "    <tr>\n",
       "      <th>0</th>\n",
       "      <td>0</td>\n",
       "      <td>4.8</td>\n",
       "      <td>11.08810</td>\n",
       "      <td>2.766</td>\n",
       "      <td>1.732</td>\n",
       "      <td>0.860</td>\n",
       "      <td>0.496070</td>\n",
       "      <td>6.0</td>\n",
       "      <td>4.641589</td>\n",
       "      <td>2.154435</td>\n",
       "      <td>2.741850</td>\n",
       "      <td>2.170491</td>\n",
       "      <td>0.944142</td>\n",
       "    </tr>\n",
       "    <tr>\n",
       "      <th>1</th>\n",
       "      <td>1</td>\n",
       "      <td>4.8</td>\n",
       "      <td>12.04083</td>\n",
       "      <td>2.755</td>\n",
       "      <td>1.631</td>\n",
       "      <td>0.910</td>\n",
       "      <td>0.492719</td>\n",
       "      <td>6.5</td>\n",
       "      <td>4.641589</td>\n",
       "      <td>2.154435</td>\n",
       "      <td>2.727873</td>\n",
       "      <td>2.154553</td>\n",
       "      <td>1.962509</td>\n",
       "    </tr>\n",
       "    <tr>\n",
       "      <th>2</th>\n",
       "      <td>2</td>\n",
       "      <td>5.6</td>\n",
       "      <td>12.08630</td>\n",
       "      <td>2.828</td>\n",
       "      <td>1.788</td>\n",
       "      <td>0.864</td>\n",
       "      <td>0.481478</td>\n",
       "      <td>2.5</td>\n",
       "      <td>4.235824</td>\n",
       "      <td>2.498666</td>\n",
       "      <td>3.231309</td>\n",
       "      <td>2.532624</td>\n",
       "      <td>2.071263</td>\n",
       "    </tr>\n",
       "    <tr>\n",
       "      <th>3</th>\n",
       "      <td>3</td>\n",
       "      <td>4.8</td>\n",
       "      <td>10.94850</td>\n",
       "      <td>2.648</td>\n",
       "      <td>1.626</td>\n",
       "      <td>0.936</td>\n",
       "      <td>0.489272</td>\n",
       "      <td>6.0</td>\n",
       "      <td>4.641589</td>\n",
       "      <td>2.154435</td>\n",
       "      <td>2.724035</td>\n",
       "      <td>2.146493</td>\n",
       "      <td>2.064192</td>\n",
       "    </tr>\n",
       "    <tr>\n",
       "      <th>4</th>\n",
       "      <td>4</td>\n",
       "      <td>4.8</td>\n",
       "      <td>11.82448</td>\n",
       "      <td>2.766</td>\n",
       "      <td>1.682</td>\n",
       "      <td>0.896</td>\n",
       "      <td>0.492736</td>\n",
       "      <td>6.0</td>\n",
       "      <td>4.876999</td>\n",
       "      <td>2.263702</td>\n",
       "      <td>2.923555</td>\n",
       "      <td>2.309135</td>\n",
       "      <td>2.123692</td>\n",
       "    </tr>\n",
       "  </tbody>\n",
       "</table>\n",
       "</div>"
      ],
      "text/plain": [
       "   id  val_e_Average  ionenergy_Average  el_neg_chi_Average  \\\n",
       "0   0            4.8           11.08810               2.766   \n",
       "1   1            4.8           12.04083               2.755   \n",
       "2   2            5.6           12.08630               2.828   \n",
       "3   3            4.8           10.94850               2.648   \n",
       "4   4            4.8           11.82448               2.766   \n",
       "\n",
       "   R_vdw_element_Average  R_cov_element_Average  zaratio_Average  Hardness  \\\n",
       "0                  1.732                  0.860         0.496070       6.0   \n",
       "1                  1.631                  0.910         0.492719       6.5   \n",
       "2                  1.788                  0.864         0.481478       2.5   \n",
       "3                  1.626                  0.936         0.489272       6.0   \n",
       "4                  1.682                  0.896         0.492736       6.0   \n",
       "\n",
       "   allelectrons_Total_T  allelectrons_Average_T  atomicweight_Average_T  \\\n",
       "0              4.641589                2.154435                2.741850   \n",
       "1              4.641589                2.154435                2.727873   \n",
       "2              4.235824                2.498666                3.231309   \n",
       "3              4.641589                2.154435                2.724035   \n",
       "4              4.876999                2.263702                2.923555   \n",
       "\n",
       "   atomicnumber_Average_T  density_Total_T  \n",
       "0                2.170491         0.944142  \n",
       "1                2.154553         1.962509  \n",
       "2                2.532624         2.071263  \n",
       "3                2.146493         2.064192  \n",
       "4                2.309135         2.123692  "
      ]
     },
     "execution_count": 8,
     "metadata": {},
     "output_type": "execute_result"
    }
   ],
   "source": [
    "clean_train = rock_cleaner(full_train)\n",
    "clean_train.head()"
   ]
  }
 ],
 "metadata": {
  "kernelspec": {
   "display_name": "PythonData",
   "language": "python",
   "name": "python3"
  },
  "language_info": {
   "codemirror_mode": {
    "name": "ipython",
    "version": 3
   },
   "file_extension": ".py",
   "mimetype": "text/x-python",
   "name": "python",
   "nbconvert_exporter": "python",
   "pygments_lexer": "ipython3",
   "version": "3.9.12"
  }
 },
 "nbformat": 4,
 "nbformat_minor": 2
}
