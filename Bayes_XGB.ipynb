{
 "cells": [
  {
   "cell_type": "code",
   "execution_count": 211,
   "metadata": {},
   "outputs": [],
   "source": [
    "# Kaggle Mohs Regression Analysis\n",
    "\n",
    "import numpy as np\n",
    "import pandas as pd\n",
    "import matplotlib.pyplot as plt\n",
    "import seaborn as sns\n",
    "import pprint\n",
    "import joblib\n",
    "from time import time\n",
    "from functools import partial\n",
    "\n",
    "\n",
    "# Model Selection\n",
    "from sklearn.model_selection import train_test_split, cross_val_predict, cross_val_score, KFold, StratifiedKFold\n",
    "\n",
    "# Feature Exploration\n",
    "from scipy.cluster.hierarchy import dendrogram, linkage\n",
    "from scipy.spatial.distance import squareform\n",
    "\n",
    "# Data Processing\n",
    "from sklearn.preprocessing import StandardScaler\n",
    "from sklearn.preprocessing import OrdinalEncoder\n",
    "from sklearn.decomposition import TruncatedSVD\n",
    "from sklearn.feature_extraction.text import TfidfVectorizer, CountVectorizer\n",
    "\n",
    "\n",
    "# Classifier/Regressor\n",
    "from xgboost import XGBRegressor, DMatrix\n",
    "\n",
    "# Metrics\n",
    "from sklearn.metrics import mean_squared_error\n",
    "from sklearn.metrics import make_scorer\n",
    "from sklearn.metrics import median_absolute_error\n",
    "\n",
    "# Skopt functions\n",
    "from skopt import BayesSearchCV\n",
    "from skopt.callbacks import DeadlineStopper, DeltaYStopper\n",
    "from skopt.space import Real, Categorical, Integer\n",
    "\n",
    "# Suppressing warnings because of skopt verbosity\n",
    "import warnings\n",
    "warnings.filterwarnings(\"ignore\")\n",
    "\n",
    "# Set Seed Value\n",
    "random_state = 4444"
   ]
  },
  {
   "cell_type": "code",
   "execution_count": 212,
   "metadata": {},
   "outputs": [],
   "source": [
    "full_train = pd.read_csv('train.csv')\n",
    "full_test = pd.read_csv('test.csv')"
   ]
  },
  {
   "cell_type": "code",
   "execution_count": 213,
   "metadata": {},
   "outputs": [
    {
     "data": {
      "text/html": [
       "<div>\n",
       "<style scoped>\n",
       "    .dataframe tbody tr th:only-of-type {\n",
       "        vertical-align: middle;\n",
       "    }\n",
       "\n",
       "    .dataframe tbody tr th {\n",
       "        vertical-align: top;\n",
       "    }\n",
       "\n",
       "    .dataframe thead th {\n",
       "        text-align: right;\n",
       "    }\n",
       "</style>\n",
       "<table border=\"1\" class=\"dataframe\">\n",
       "  <thead>\n",
       "    <tr style=\"text-align: right;\">\n",
       "      <th></th>\n",
       "      <th>id</th>\n",
       "      <th>allelectrons_Total</th>\n",
       "      <th>density_Total</th>\n",
       "      <th>allelectrons_Average</th>\n",
       "      <th>val_e_Average</th>\n",
       "      <th>atomicweight_Average</th>\n",
       "      <th>ionenergy_Average</th>\n",
       "      <th>el_neg_chi_Average</th>\n",
       "      <th>R_vdw_element_Average</th>\n",
       "      <th>R_cov_element_Average</th>\n",
       "      <th>zaratio_Average</th>\n",
       "      <th>density_Average</th>\n",
       "      <th>Hardness</th>\n",
       "    </tr>\n",
       "  </thead>\n",
       "  <tbody>\n",
       "    <tr>\n",
       "      <th>0</th>\n",
       "      <td>0</td>\n",
       "      <td>100.0</td>\n",
       "      <td>0.841611</td>\n",
       "      <td>10.0</td>\n",
       "      <td>4.8</td>\n",
       "      <td>20.612526</td>\n",
       "      <td>11.08810</td>\n",
       "      <td>2.766</td>\n",
       "      <td>1.732</td>\n",
       "      <td>0.860</td>\n",
       "      <td>0.496070</td>\n",
       "      <td>0.91457</td>\n",
       "      <td>6.0</td>\n",
       "    </tr>\n",
       "    <tr>\n",
       "      <th>1</th>\n",
       "      <td>1</td>\n",
       "      <td>100.0</td>\n",
       "      <td>7.558488</td>\n",
       "      <td>10.0</td>\n",
       "      <td>4.8</td>\n",
       "      <td>20.298893</td>\n",
       "      <td>12.04083</td>\n",
       "      <td>2.755</td>\n",
       "      <td>1.631</td>\n",
       "      <td>0.910</td>\n",
       "      <td>0.492719</td>\n",
       "      <td>0.71760</td>\n",
       "      <td>6.5</td>\n",
       "    </tr>\n",
       "    <tr>\n",
       "      <th>2</th>\n",
       "      <td>2</td>\n",
       "      <td>76.0</td>\n",
       "      <td>8.885992</td>\n",
       "      <td>15.6</td>\n",
       "      <td>5.6</td>\n",
       "      <td>33.739258</td>\n",
       "      <td>12.08630</td>\n",
       "      <td>2.828</td>\n",
       "      <td>1.788</td>\n",
       "      <td>0.864</td>\n",
       "      <td>0.481478</td>\n",
       "      <td>1.50633</td>\n",
       "      <td>2.5</td>\n",
       "    </tr>\n",
       "    <tr>\n",
       "      <th>3</th>\n",
       "      <td>3</td>\n",
       "      <td>100.0</td>\n",
       "      <td>8.795296</td>\n",
       "      <td>10.0</td>\n",
       "      <td>4.8</td>\n",
       "      <td>20.213349</td>\n",
       "      <td>10.94850</td>\n",
       "      <td>2.648</td>\n",
       "      <td>1.626</td>\n",
       "      <td>0.936</td>\n",
       "      <td>0.489272</td>\n",
       "      <td>0.78937</td>\n",
       "      <td>6.0</td>\n",
       "    </tr>\n",
       "    <tr>\n",
       "      <th>4</th>\n",
       "      <td>4</td>\n",
       "      <td>116.0</td>\n",
       "      <td>9.577996</td>\n",
       "      <td>11.6</td>\n",
       "      <td>4.8</td>\n",
       "      <td>24.988133</td>\n",
       "      <td>11.82448</td>\n",
       "      <td>2.766</td>\n",
       "      <td>1.682</td>\n",
       "      <td>0.896</td>\n",
       "      <td>0.492736</td>\n",
       "      <td>1.86481</td>\n",
       "      <td>6.0</td>\n",
       "    </tr>\n",
       "  </tbody>\n",
       "</table>\n",
       "</div>"
      ],
      "text/plain": [
       "   id  allelectrons_Total  density_Total  allelectrons_Average  val_e_Average  \\\n",
       "0   0               100.0       0.841611                  10.0            4.8   \n",
       "1   1               100.0       7.558488                  10.0            4.8   \n",
       "2   2                76.0       8.885992                  15.6            5.6   \n",
       "3   3               100.0       8.795296                  10.0            4.8   \n",
       "4   4               116.0       9.577996                  11.6            4.8   \n",
       "\n",
       "   atomicweight_Average  ionenergy_Average  el_neg_chi_Average  \\\n",
       "0             20.612526           11.08810               2.766   \n",
       "1             20.298893           12.04083               2.755   \n",
       "2             33.739258           12.08630               2.828   \n",
       "3             20.213349           10.94850               2.648   \n",
       "4             24.988133           11.82448               2.766   \n",
       "\n",
       "   R_vdw_element_Average  R_cov_element_Average  zaratio_Average  \\\n",
       "0                  1.732                  0.860         0.496070   \n",
       "1                  1.631                  0.910         0.492719   \n",
       "2                  1.788                  0.864         0.481478   \n",
       "3                  1.626                  0.936         0.489272   \n",
       "4                  1.682                  0.896         0.492736   \n",
       "\n",
       "   density_Average  Hardness  \n",
       "0          0.91457       6.0  \n",
       "1          0.71760       6.5  \n",
       "2          1.50633       2.5  \n",
       "3          0.78937       6.0  \n",
       "4          1.86481       6.0  "
      ]
     },
     "execution_count": 213,
     "metadata": {},
     "output_type": "execute_result"
    }
   ],
   "source": [
    "full_train.head()"
   ]
  },
  {
   "cell_type": "code",
   "execution_count": 214,
   "metadata": {},
   "outputs": [
    {
     "data": {
      "text/html": [
       "<div>\n",
       "<style scoped>\n",
       "    .dataframe tbody tr th:only-of-type {\n",
       "        vertical-align: middle;\n",
       "    }\n",
       "\n",
       "    .dataframe tbody tr th {\n",
       "        vertical-align: top;\n",
       "    }\n",
       "\n",
       "    .dataframe thead th {\n",
       "        text-align: right;\n",
       "    }\n",
       "</style>\n",
       "<table border=\"1\" class=\"dataframe\">\n",
       "  <thead>\n",
       "    <tr style=\"text-align: right;\">\n",
       "      <th></th>\n",
       "      <th>id</th>\n",
       "      <th>allelectrons_Total</th>\n",
       "      <th>density_Total</th>\n",
       "      <th>allelectrons_Average</th>\n",
       "      <th>val_e_Average</th>\n",
       "      <th>atomicweight_Average</th>\n",
       "      <th>ionenergy_Average</th>\n",
       "      <th>el_neg_chi_Average</th>\n",
       "      <th>R_vdw_element_Average</th>\n",
       "      <th>R_cov_element_Average</th>\n",
       "      <th>zaratio_Average</th>\n",
       "      <th>density_Average</th>\n",
       "    </tr>\n",
       "  </thead>\n",
       "  <tbody>\n",
       "    <tr>\n",
       "      <th>0</th>\n",
       "      <td>10407</td>\n",
       "      <td>884.0</td>\n",
       "      <td>121.420000</td>\n",
       "      <td>35.36</td>\n",
       "      <td>5.28</td>\n",
       "      <td>82.561240</td>\n",
       "      <td>9.370384</td>\n",
       "      <td>2.298</td>\n",
       "      <td>1.9072</td>\n",
       "      <td>1.200000</td>\n",
       "      <td>0.461899</td>\n",
       "      <td>1.79459</td>\n",
       "    </tr>\n",
       "    <tr>\n",
       "      <th>1</th>\n",
       "      <td>10408</td>\n",
       "      <td>90.0</td>\n",
       "      <td>9.931960</td>\n",
       "      <td>18.00</td>\n",
       "      <td>5.60</td>\n",
       "      <td>39.568056</td>\n",
       "      <td>12.086300</td>\n",
       "      <td>2.868</td>\n",
       "      <td>1.6520</td>\n",
       "      <td>0.864000</td>\n",
       "      <td>0.476196</td>\n",
       "      <td>1.41194</td>\n",
       "    </tr>\n",
       "    <tr>\n",
       "      <th>2</th>\n",
       "      <td>10409</td>\n",
       "      <td>116.0</td>\n",
       "      <td>7.767992</td>\n",
       "      <td>11.60</td>\n",
       "      <td>4.80</td>\n",
       "      <td>23.231818</td>\n",
       "      <td>11.023840</td>\n",
       "      <td>2.644</td>\n",
       "      <td>1.7940</td>\n",
       "      <td>0.960000</td>\n",
       "      <td>0.499514</td>\n",
       "      <td>0.78834</td>\n",
       "    </tr>\n",
       "    <tr>\n",
       "      <th>3</th>\n",
       "      <td>10410</td>\n",
       "      <td>100.0</td>\n",
       "      <td>9.107996</td>\n",
       "      <td>10.00</td>\n",
       "      <td>4.80</td>\n",
       "      <td>20.298893</td>\n",
       "      <td>12.086300</td>\n",
       "      <td>2.828</td>\n",
       "      <td>1.6620</td>\n",
       "      <td>0.792000</td>\n",
       "      <td>0.495796</td>\n",
       "      <td>1.20466</td>\n",
       "    </tr>\n",
       "    <tr>\n",
       "      <th>4</th>\n",
       "      <td>10411</td>\n",
       "      <td>55.0</td>\n",
       "      <td>4.030000</td>\n",
       "      <td>11.00</td>\n",
       "      <td>4.00</td>\n",
       "      <td>22.977675</td>\n",
       "      <td>11.280950</td>\n",
       "      <td>2.455</td>\n",
       "      <td>1.7500</td>\n",
       "      <td>0.893333</td>\n",
       "      <td>0.476095</td>\n",
       "      <td>0.93456</td>\n",
       "    </tr>\n",
       "  </tbody>\n",
       "</table>\n",
       "</div>"
      ],
      "text/plain": [
       "      id  allelectrons_Total  density_Total  allelectrons_Average  \\\n",
       "0  10407               884.0     121.420000                 35.36   \n",
       "1  10408                90.0       9.931960                 18.00   \n",
       "2  10409               116.0       7.767992                 11.60   \n",
       "3  10410               100.0       9.107996                 10.00   \n",
       "4  10411                55.0       4.030000                 11.00   \n",
       "\n",
       "   val_e_Average  atomicweight_Average  ionenergy_Average  el_neg_chi_Average  \\\n",
       "0           5.28             82.561240           9.370384               2.298   \n",
       "1           5.60             39.568056          12.086300               2.868   \n",
       "2           4.80             23.231818          11.023840               2.644   \n",
       "3           4.80             20.298893          12.086300               2.828   \n",
       "4           4.00             22.977675          11.280950               2.455   \n",
       "\n",
       "   R_vdw_element_Average  R_cov_element_Average  zaratio_Average  \\\n",
       "0                 1.9072               1.200000         0.461899   \n",
       "1                 1.6520               0.864000         0.476196   \n",
       "2                 1.7940               0.960000         0.499514   \n",
       "3                 1.6620               0.792000         0.495796   \n",
       "4                 1.7500               0.893333         0.476095   \n",
       "\n",
       "   density_Average  \n",
       "0          1.79459  \n",
       "1          1.41194  \n",
       "2          0.78834  \n",
       "3          1.20466  \n",
       "4          0.93456  "
      ]
     },
     "execution_count": 214,
     "metadata": {},
     "output_type": "execute_result"
    }
   ],
   "source": [
    "full_test.head()"
   ]
  },
  {
   "cell_type": "markdown",
   "metadata": {},
   "source": [
    "## Considerations\n",
    "\n",
    "The training set contains both the ID and the Hardness, whereas the test set does not have the hardness. We will have to create our own Train-Test sets for model validation.  "
   ]
  },
  {
   "cell_type": "code",
   "execution_count": 215,
   "metadata": {},
   "outputs": [
    {
     "name": "stdout",
     "output_type": "stream",
     "text": [
      "<class 'pandas.core.frame.DataFrame'>\n",
      "RangeIndex: 10407 entries, 0 to 10406\n",
      "Data columns (total 13 columns):\n",
      " #   Column                 Non-Null Count  Dtype  \n",
      "---  ------                 --------------  -----  \n",
      " 0   id                     10407 non-null  int64  \n",
      " 1   allelectrons_Total     10407 non-null  float64\n",
      " 2   density_Total          10407 non-null  float64\n",
      " 3   allelectrons_Average   10407 non-null  float64\n",
      " 4   val_e_Average          10407 non-null  float64\n",
      " 5   atomicweight_Average   10407 non-null  float64\n",
      " 6   ionenergy_Average      10407 non-null  float64\n",
      " 7   el_neg_chi_Average     10407 non-null  float64\n",
      " 8   R_vdw_element_Average  10407 non-null  float64\n",
      " 9   R_cov_element_Average  10407 non-null  float64\n",
      " 10  zaratio_Average        10407 non-null  float64\n",
      " 11  density_Average        10407 non-null  float64\n",
      " 12  Hardness               10407 non-null  float64\n",
      "dtypes: float64(12), int64(1)\n",
      "memory usage: 1.0 MB\n"
     ]
    }
   ],
   "source": [
    "full_train.info()"
   ]
  },
  {
   "cell_type": "code",
   "execution_count": 216,
   "metadata": {},
   "outputs": [
    {
     "data": {
      "text/plain": [
       "['id',\n",
       " 'allelectrons_Total',\n",
       " 'density_Total',\n",
       " 'allelectrons_Average',\n",
       " 'val_e_Average',\n",
       " 'atomicweight_Average',\n",
       " 'ionenergy_Average',\n",
       " 'el_neg_chi_Average',\n",
       " 'R_vdw_element_Average',\n",
       " 'R_cov_element_Average',\n",
       " 'zaratio_Average',\n",
       " 'density_Average',\n",
       " 'Hardness']"
      ]
     },
     "execution_count": 216,
     "metadata": {},
     "output_type": "execute_result"
    }
   ],
   "source": [
    "full_train.columns.to_list()"
   ]
  },
  {
   "cell_type": "markdown",
   "metadata": {},
   "source": [
    "## Features\n",
    "\n",
    "id: Unique sample identifier<br>\n",
    "allelectrons_Total: Total number of electrons in the compound<br> \n",
    "allelectrons_Average: Average number of electrons present in the sample<br>\n",
    "density_Total: Total density of the sample *(kg/m<sup>3</sup>)*<br>\n",
    "density_Average': Average elemental density *(kg/m<sup>3</sup>)*<br>\n",
    "R_vdw_element_Average: Van der Waals Radius - half distance between like atoms that are non-bonded *(m)*<br>\n",
    "R_cov_element_Average: Covelant Bond Radius - half distance between like atomic nuclei that are covelantly bonded *(m)*<br>\n",
    "val_e_Average: Average number of valence outer shell electrons <br>\n",
    "atomicweight_Average: Average Atomic Weight of the sample compound<br> \n",
    "ionenergy_Average: Average first ionization energy - to bump a valence electron into the next shell<br>\n",
    "el_neg_chi_Average: Pauling electronegativity of the most common oxidation state (changes with transition metal-containing compounds)<br>\n",
    "zaratio_Average: The ratio of electron density to bulk density, determined by the average atomic number / average atomic weight<br>\n",
    "Hardness: Mohs Hardness rating"
   ]
  },
  {
   "cell_type": "code",
   "execution_count": 217,
   "metadata": {},
   "outputs": [
    {
     "data": {
      "text/plain": [
       "id                       0\n",
       "allelectrons_Total       0\n",
       "density_Total            0\n",
       "allelectrons_Average     0\n",
       "val_e_Average            0\n",
       "atomicweight_Average     0\n",
       "ionenergy_Average        0\n",
       "el_neg_chi_Average       0\n",
       "R_vdw_element_Average    0\n",
       "R_cov_element_Average    0\n",
       "zaratio_Average          0\n",
       "density_Average          0\n",
       "Hardness                 0\n",
       "dtype: int64"
      ]
     },
     "execution_count": 217,
     "metadata": {},
     "output_type": "execute_result"
    }
   ],
   "source": [
    "full_train.isna().sum()"
   ]
  },
  {
   "cell_type": "code",
   "execution_count": 218,
   "metadata": {},
   "outputs": [
    {
     "data": {
      "text/plain": [
       "id                       0\n",
       "allelectrons_Total       0\n",
       "density_Total            0\n",
       "allelectrons_Average     0\n",
       "val_e_Average            0\n",
       "atomicweight_Average     0\n",
       "ionenergy_Average        0\n",
       "el_neg_chi_Average       0\n",
       "R_vdw_element_Average    0\n",
       "R_cov_element_Average    0\n",
       "zaratio_Average          0\n",
       "density_Average          0\n",
       "dtype: int64"
      ]
     },
     "execution_count": 218,
     "metadata": {},
     "output_type": "execute_result"
    }
   ],
   "source": [
    "full_test.isna().sum()"
   ]
  },
  {
   "cell_type": "code",
   "execution_count": 219,
   "metadata": {},
   "outputs": [
    {
     "name": "stdout",
     "output_type": "stream",
     "text": [
      " There are 10407 rows in the full_train dataset.\n"
     ]
    }
   ],
   "source": [
    "print(f' There are {len(full_train)} rows in the full_train dataset.')"
   ]
  },
  {
   "cell_type": "code",
   "execution_count": 220,
   "metadata": {},
   "outputs": [
    {
     "name": "stdout",
     "output_type": "stream",
     "text": [
      " There are 6939 rows in the full_train dataset.\n"
     ]
    }
   ],
   "source": [
    "print(f' There are {len(full_test)} rows in the full_train dataset.')"
   ]
  },
  {
   "cell_type": "code",
   "execution_count": 221,
   "metadata": {},
   "outputs": [
    {
     "name": "stdout",
     "output_type": "stream",
     "text": [
      " There are 0 duplicates in the full_train dataset and 0 duplicates in the full_test dataset.\n"
     ]
    }
   ],
   "source": [
    "# Check for duplicates\n",
    "full_train.drop(['id'], axis=1)\n",
    "dupes = full_train[full_train.duplicated()]\n",
    "\n",
    "full_test.drop(['id'], axis=1)\n",
    "dupest = full_test[full_test.duplicated()]\n",
    "\n",
    "print(f' There are {len(dupes)} duplicates in the full_train dataset and {len(dupest)} duplicates in the full_test dataset.')"
   ]
  },
  {
   "cell_type": "markdown",
   "metadata": {},
   "source": [
    "# Define Functions for Analysis"
   ]
  },
  {
   "cell_type": "code",
   "execution_count": 222,
   "metadata": {},
   "outputs": [],
   "source": [
    "# Heatmap function that does not duplicate relationships\n",
    "\n",
    "def heatmap(dataset, label = None):\n",
    "    columns = list(dataset)\n",
    "    corr = dataset.corr()\n",
    "    plt.figure(figsize = (14, 10))\n",
    "    mask = np.zeros_like(corr)\n",
    "    mask[np.triu_indices_from(mask)] = True\n",
    "    sns.heatmap(corr, mask = mask, cmap = 'crest', annot = True, linewidths = .1)\n",
    "    #plt.yticks(range(len(columns)), columns, fontsize = 5)\n",
    "    #plt.xticks(range(len(columns)), columns, fontsize = 5)\n",
    "    plt.title(f'{label} Dataset Correlation Matrix\\n', fontsize = 25, weight = 'bold')\n",
    "    plt.show()"
   ]
  },
  {
   "cell_type": "code",
   "execution_count": 223,
   "metadata": {},
   "outputs": [],
   "source": [
    "def distance(data, label = ''):\n",
    "    #thanks to @sergiosaharovsky for the fix\n",
    "    corr = data.corr(method = 'spearman')\n",
    "    dist_linkage = linkage(squareform(1 - abs(corr)), 'complete')\n",
    "    \n",
    "    plt.figure(figsize = (10, 8))\n",
    "    dendro = dendrogram(dist_linkage, labels=data.columns, leaf_rotation=90, )\n",
    "    plt.title(f'Feature Distance in {label} Dataset', weight = 'bold', size = 22)\n",
    "    plt.show()"
   ]
  },
  {
   "cell_type": "code",
   "execution_count": 224,
   "metadata": {},
   "outputs": [],
   "source": [
    "# Reporting util for different optimizers\n",
    "\n",
    "def report_perf(optimizer, X, y, title=\"model\", callbacks=None):\n",
    "    \"\"\"\n",
    "    A wrapper for measuring time and performances of different optmizers\n",
    "    \n",
    "    optimizer = a sklearn or a skopt optimizer\n",
    "    X = the training set \n",
    "    y = our target\n",
    "    title = a string label for the experiment\n",
    "    \"\"\"\n",
    "    start = time()\n",
    "    \n",
    "    if callbacks is not None:\n",
    "        optimizer.fit(X, y, callback=callbacks)\n",
    "    else:\n",
    "        optimizer.fit(X, y)\n",
    "        \n",
    "    d=pd.DataFrame(optimizer.cv_results_)\n",
    "    best_score = optimizer.best_score_\n",
    "    best_score_std = d.iloc[optimizer.best_index_].std_test_score\n",
    "    best_params = optimizer.best_params_\n",
    "    \n",
    "    print((title + \" took %.2f seconds,  candidates checked: %d, best CV score: %.3f \"\n",
    "           + u\"\\u00B1\"+\" %.3f\") % (time() - start, \n",
    "                                   len(optimizer.cv_results_['params']),\n",
    "                                   best_score,\n",
    "                                   best_score_std))    \n",
    "    print('Best parameters:')\n",
    "    pprint.pprint(best_params)\n",
    "    print()\n",
    "    return best_params"
   ]
  },
  {
   "cell_type": "code",
   "execution_count": 225,
   "metadata": {},
   "outputs": [],
   "source": [
    "X = full_train.set_index('id').drop(['Hardness'\n",
    "                                     , 'atomicweight_Average']\n",
    "                                    , axis=1)\n",
    "y = full_train.Hardness"
   ]
  },
  {
   "cell_type": "code",
   "execution_count": 226,
   "metadata": {},
   "outputs": [
    {
     "data": {
      "text/plain": [
       "6.00     2063\n",
       "5.50     1463\n",
       "2.50     1089\n",
       "3.80      712\n",
       "5.80      403\n",
       "6.50      397\n",
       "2.00      388\n",
       "2.80      387\n",
       "5.00      375\n",
       "4.00      370\n",
       "3.00      310\n",
       "2.30      292\n",
       "6.30      266\n",
       "3.50      261\n",
       "6.80      240\n",
       "1.50      174\n",
       "1.80      158\n",
       "3.30      144\n",
       "5.30      135\n",
       "4.30      130\n",
       "4.80      105\n",
       "7.50       98\n",
       "4.50       97\n",
       "7.00       96\n",
       "7.80       64\n",
       "9.00       33\n",
       "10.00      30\n",
       "9.50       25\n",
       "1.30       18\n",
       "8.50       15\n",
       "8.00       12\n",
       "5.75       10\n",
       "6.20       10\n",
       "7.30       10\n",
       "8.10        7\n",
       "2.90        5\n",
       "1.00        2\n",
       "2.20        1\n",
       "5.40        1\n",
       "6.70        1\n",
       "2.60        1\n",
       "3.60        1\n",
       "8.30        1\n",
       "4.10        1\n",
       "3.20        1\n",
       "4.70        1\n",
       "6.40        1\n",
       "9.80        1\n",
       "2.10        1\n",
       "6.64        1\n",
       "Name: Hardness, dtype: int64"
      ]
     },
     "execution_count": 226,
     "metadata": {},
     "output_type": "execute_result"
    }
   ],
   "source": [
    "y.value_counts()"
   ]
  },
  {
   "cell_type": "code",
   "execution_count": 227,
   "metadata": {},
   "outputs": [
    {
     "data": {
      "text/html": [
       "<div>\n",
       "<style scoped>\n",
       "    .dataframe tbody tr th:only-of-type {\n",
       "        vertical-align: middle;\n",
       "    }\n",
       "\n",
       "    .dataframe tbody tr th {\n",
       "        vertical-align: top;\n",
       "    }\n",
       "\n",
       "    .dataframe thead th {\n",
       "        text-align: right;\n",
       "    }\n",
       "</style>\n",
       "<table border=\"1\" class=\"dataframe\">\n",
       "  <thead>\n",
       "    <tr style=\"text-align: right;\">\n",
       "      <th></th>\n",
       "      <th>allelectrons_Total</th>\n",
       "      <th>density_Total</th>\n",
       "      <th>allelectrons_Average</th>\n",
       "      <th>val_e_Average</th>\n",
       "      <th>ionenergy_Average</th>\n",
       "      <th>el_neg_chi_Average</th>\n",
       "      <th>R_vdw_element_Average</th>\n",
       "      <th>R_cov_element_Average</th>\n",
       "      <th>zaratio_Average</th>\n",
       "      <th>density_Average</th>\n",
       "    </tr>\n",
       "    <tr>\n",
       "      <th>id</th>\n",
       "      <th></th>\n",
       "      <th></th>\n",
       "      <th></th>\n",
       "      <th></th>\n",
       "      <th></th>\n",
       "      <th></th>\n",
       "      <th></th>\n",
       "      <th></th>\n",
       "      <th></th>\n",
       "      <th></th>\n",
       "    </tr>\n",
       "  </thead>\n",
       "  <tbody>\n",
       "    <tr>\n",
       "      <th>0</th>\n",
       "      <td>100.0</td>\n",
       "      <td>0.841611</td>\n",
       "      <td>10.0</td>\n",
       "      <td>4.8</td>\n",
       "      <td>11.08810</td>\n",
       "      <td>2.766</td>\n",
       "      <td>1.732</td>\n",
       "      <td>0.860</td>\n",
       "      <td>0.496070</td>\n",
       "      <td>0.91457</td>\n",
       "    </tr>\n",
       "    <tr>\n",
       "      <th>1</th>\n",
       "      <td>100.0</td>\n",
       "      <td>7.558488</td>\n",
       "      <td>10.0</td>\n",
       "      <td>4.8</td>\n",
       "      <td>12.04083</td>\n",
       "      <td>2.755</td>\n",
       "      <td>1.631</td>\n",
       "      <td>0.910</td>\n",
       "      <td>0.492719</td>\n",
       "      <td>0.71760</td>\n",
       "    </tr>\n",
       "    <tr>\n",
       "      <th>2</th>\n",
       "      <td>76.0</td>\n",
       "      <td>8.885992</td>\n",
       "      <td>15.6</td>\n",
       "      <td>5.6</td>\n",
       "      <td>12.08630</td>\n",
       "      <td>2.828</td>\n",
       "      <td>1.788</td>\n",
       "      <td>0.864</td>\n",
       "      <td>0.481478</td>\n",
       "      <td>1.50633</td>\n",
       "    </tr>\n",
       "    <tr>\n",
       "      <th>3</th>\n",
       "      <td>100.0</td>\n",
       "      <td>8.795296</td>\n",
       "      <td>10.0</td>\n",
       "      <td>4.8</td>\n",
       "      <td>10.94850</td>\n",
       "      <td>2.648</td>\n",
       "      <td>1.626</td>\n",
       "      <td>0.936</td>\n",
       "      <td>0.489272</td>\n",
       "      <td>0.78937</td>\n",
       "    </tr>\n",
       "    <tr>\n",
       "      <th>4</th>\n",
       "      <td>116.0</td>\n",
       "      <td>9.577996</td>\n",
       "      <td>11.6</td>\n",
       "      <td>4.8</td>\n",
       "      <td>11.82448</td>\n",
       "      <td>2.766</td>\n",
       "      <td>1.682</td>\n",
       "      <td>0.896</td>\n",
       "      <td>0.492736</td>\n",
       "      <td>1.86481</td>\n",
       "    </tr>\n",
       "  </tbody>\n",
       "</table>\n",
       "</div>"
      ],
      "text/plain": [
       "    allelectrons_Total  density_Total  allelectrons_Average  val_e_Average  \\\n",
       "id                                                                           \n",
       "0                100.0       0.841611                  10.0            4.8   \n",
       "1                100.0       7.558488                  10.0            4.8   \n",
       "2                 76.0       8.885992                  15.6            5.6   \n",
       "3                100.0       8.795296                  10.0            4.8   \n",
       "4                116.0       9.577996                  11.6            4.8   \n",
       "\n",
       "    ionenergy_Average  el_neg_chi_Average  R_vdw_element_Average  \\\n",
       "id                                                                 \n",
       "0            11.08810               2.766                  1.732   \n",
       "1            12.04083               2.755                  1.631   \n",
       "2            12.08630               2.828                  1.788   \n",
       "3            10.94850               2.648                  1.626   \n",
       "4            11.82448               2.766                  1.682   \n",
       "\n",
       "    R_cov_element_Average  zaratio_Average  density_Average  \n",
       "id                                                           \n",
       "0                   0.860         0.496070          0.91457  \n",
       "1                   0.910         0.492719          0.71760  \n",
       "2                   0.864         0.481478          1.50633  \n",
       "3                   0.936         0.489272          0.78937  \n",
       "4                   0.896         0.492736          1.86481  "
      ]
     },
     "execution_count": 227,
     "metadata": {},
     "output_type": "execute_result"
    }
   ],
   "source": [
    "X.head()"
   ]
  },
  {
   "cell_type": "code",
   "execution_count": 228,
   "metadata": {},
   "outputs": [
    {
     "data": {
      "image/png": "[encoded data removed]",
      "text/plain": [
       "<Figure size 1008x720 with 2 Axes>"
      ]
     },
     "metadata": {
      "needs_background": "light"
     },
     "output_type": "display_data"
    }
   ],
   "source": [
    "heatmap(X, 'Training')"
   ]
  },
  {
   "cell_type": "markdown",
   "metadata": {},
   "source": [
    "The Atomic Weight and Electron Average have a 0.99 correlation, which is not surprising, as the number of electrons is nearly determined by the atomic number. Furthermore, the atomic weight average and the all_electrons average continue to show similar correlations with other parameters throughout. We will be removing the atomic weight average. "
   ]
  },
  {
   "cell_type": "code",
   "execution_count": 229,
   "metadata": {},
   "outputs": [
    {
     "data": {
      "image/png": "[encoded data removed]",
      "text/plain": [
       "<Figure size 720x576 with 1 Axes>"
      ]
     },
     "metadata": {
      "needs_background": "light"
     },
     "output_type": "display_data"
    }
   ],
   "source": [
    "distance(X, \"Training\")"
   ]
  },
  {
   "cell_type": "markdown",
   "metadata": {},
   "source": [
    "## Next Steps"
   ]
  },
  {
   "cell_type": "code",
   "execution_count": 230,
   "metadata": {},
   "outputs": [],
   "source": [
    "# Create training and validation sets\n",
    "X_train, X_test, y_train, y_test = train_test_split(X, y, train_size=0.8, test_size=0.2, random_state=random_state)"
   ]
  },
  {
   "cell_type": "code",
   "execution_count": 231,
   "metadata": {},
   "outputs": [
    {
     "data": {
      "text/html": [
       "<div>\n",
       "<style scoped>\n",
       "    .dataframe tbody tr th:only-of-type {\n",
       "        vertical-align: middle;\n",
       "    }\n",
       "\n",
       "    .dataframe tbody tr th {\n",
       "        vertical-align: top;\n",
       "    }\n",
       "\n",
       "    .dataframe thead th {\n",
       "        text-align: right;\n",
       "    }\n",
       "</style>\n",
       "<table border=\"1\" class=\"dataframe\">\n",
       "  <thead>\n",
       "    <tr style=\"text-align: right;\">\n",
       "      <th></th>\n",
       "      <th>allelectrons_Total</th>\n",
       "      <th>density_Total</th>\n",
       "      <th>allelectrons_Average</th>\n",
       "      <th>val_e_Average</th>\n",
       "      <th>ionenergy_Average</th>\n",
       "      <th>el_neg_chi_Average</th>\n",
       "      <th>R_vdw_element_Average</th>\n",
       "      <th>R_cov_element_Average</th>\n",
       "      <th>zaratio_Average</th>\n",
       "      <th>density_Average</th>\n",
       "    </tr>\n",
       "    <tr>\n",
       "      <th>id</th>\n",
       "      <th></th>\n",
       "      <th></th>\n",
       "      <th></th>\n",
       "      <th></th>\n",
       "      <th></th>\n",
       "      <th></th>\n",
       "      <th></th>\n",
       "      <th></th>\n",
       "      <th></th>\n",
       "      <th></th>\n",
       "    </tr>\n",
       "  </thead>\n",
       "  <tbody>\n",
       "    <tr>\n",
       "      <th>4202</th>\n",
       "      <td>146.0</td>\n",
       "      <td>9.143996</td>\n",
       "      <td>13.60</td>\n",
       "      <td>4.000</td>\n",
       "      <td>11.909720</td>\n",
       "      <td>2.8840</td>\n",
       "      <td>1.662000</td>\n",
       "      <td>0.78200</td>\n",
       "      <td>0.490932</td>\n",
       "      <td>1.86481</td>\n",
       "    </tr>\n",
       "    <tr>\n",
       "      <th>5361</th>\n",
       "      <td>126.0</td>\n",
       "      <td>13.385996</td>\n",
       "      <td>25.20</td>\n",
       "      <td>5.600</td>\n",
       "      <td>11.614220</td>\n",
       "      <td>2.8840</td>\n",
       "      <td>1.736000</td>\n",
       "      <td>0.94400</td>\n",
       "      <td>0.467568</td>\n",
       "      <td>2.28126</td>\n",
       "    </tr>\n",
       "    <tr>\n",
       "      <th>5623</th>\n",
       "      <td>112.0</td>\n",
       "      <td>14.883996</td>\n",
       "      <td>16.50</td>\n",
       "      <td>4.500</td>\n",
       "      <td>10.499400</td>\n",
       "      <td>2.2950</td>\n",
       "      <td>1.908000</td>\n",
       "      <td>1.12000</td>\n",
       "      <td>0.482036</td>\n",
       "      <td>1.01032</td>\n",
       "    </tr>\n",
       "    <tr>\n",
       "      <th>92</th>\n",
       "      <td>347.0</td>\n",
       "      <td>32.735400</td>\n",
       "      <td>42.25</td>\n",
       "      <td>5.375</td>\n",
       "      <td>9.370384</td>\n",
       "      <td>2.5300</td>\n",
       "      <td>1.815313</td>\n",
       "      <td>1.01125</td>\n",
       "      <td>0.439165</td>\n",
       "      <td>5.56317</td>\n",
       "    </tr>\n",
       "    <tr>\n",
       "      <th>4725</th>\n",
       "      <td>90.0</td>\n",
       "      <td>3.550000</td>\n",
       "      <td>10.00</td>\n",
       "      <td>5.000</td>\n",
       "      <td>10.999625</td>\n",
       "      <td>2.7275</td>\n",
       "      <td>1.765000</td>\n",
       "      <td>0.94500</td>\n",
       "      <td>0.499514</td>\n",
       "      <td>0.59237</td>\n",
       "    </tr>\n",
       "  </tbody>\n",
       "</table>\n",
       "</div>"
      ],
      "text/plain": [
       "      allelectrons_Total  density_Total  allelectrons_Average  val_e_Average  \\\n",
       "id                                                                             \n",
       "4202               146.0       9.143996                 13.60          4.000   \n",
       "5361               126.0      13.385996                 25.20          5.600   \n",
       "5623               112.0      14.883996                 16.50          4.500   \n",
       "92                 347.0      32.735400                 42.25          5.375   \n",
       "4725                90.0       3.550000                 10.00          5.000   \n",
       "\n",
       "      ionenergy_Average  el_neg_chi_Average  R_vdw_element_Average  \\\n",
       "id                                                                   \n",
       "4202          11.909720              2.8840               1.662000   \n",
       "5361          11.614220              2.8840               1.736000   \n",
       "5623          10.499400              2.2950               1.908000   \n",
       "92             9.370384              2.5300               1.815313   \n",
       "4725          10.999625              2.7275               1.765000   \n",
       "\n",
       "      R_cov_element_Average  zaratio_Average  density_Average  \n",
       "id                                                             \n",
       "4202                0.78200         0.490932          1.86481  \n",
       "5361                0.94400         0.467568          2.28126  \n",
       "5623                1.12000         0.482036          1.01032  \n",
       "92                  1.01125         0.439165          5.56317  \n",
       "4725                0.94500         0.499514          0.59237  "
      ]
     },
     "execution_count": 231,
     "metadata": {},
     "output_type": "execute_result"
    }
   ],
   "source": [
    "X_train.head()"
   ]
  },
  {
   "cell_type": "code",
   "execution_count": 232,
   "metadata": {},
   "outputs": [
    {
     "data": {
      "text/html": [
       "<div>\n",
       "<style scoped>\n",
       "    .dataframe tbody tr th:only-of-type {\n",
       "        vertical-align: middle;\n",
       "    }\n",
       "\n",
       "    .dataframe tbody tr th {\n",
       "        vertical-align: top;\n",
       "    }\n",
       "\n",
       "    .dataframe thead th {\n",
       "        text-align: right;\n",
       "    }\n",
       "</style>\n",
       "<table border=\"1\" class=\"dataframe\">\n",
       "  <thead>\n",
       "    <tr style=\"text-align: right;\">\n",
       "      <th></th>\n",
       "      <th>allelectrons_Total</th>\n",
       "      <th>density_Total</th>\n",
       "      <th>allelectrons_Average</th>\n",
       "      <th>val_e_Average</th>\n",
       "      <th>ionenergy_Average</th>\n",
       "      <th>el_neg_chi_Average</th>\n",
       "      <th>R_vdw_element_Average</th>\n",
       "      <th>R_cov_element_Average</th>\n",
       "      <th>zaratio_Average</th>\n",
       "      <th>density_Average</th>\n",
       "    </tr>\n",
       "    <tr>\n",
       "      <th>id</th>\n",
       "      <th></th>\n",
       "      <th></th>\n",
       "      <th></th>\n",
       "      <th></th>\n",
       "      <th></th>\n",
       "      <th></th>\n",
       "      <th></th>\n",
       "      <th></th>\n",
       "      <th></th>\n",
       "      <th></th>\n",
       "    </tr>\n",
       "  </thead>\n",
       "  <tbody>\n",
       "    <tr>\n",
       "      <th>7028</th>\n",
       "      <td>36.0</td>\n",
       "      <td>3.550000</td>\n",
       "      <td>18.000000</td>\n",
       "      <td>4.000000</td>\n",
       "      <td>8.213150</td>\n",
       "      <td>1.950000</td>\n",
       "      <td>2.040000</td>\n",
       "      <td>1.410000</td>\n",
       "      <td>0.499000</td>\n",
       "      <td>1.76405</td>\n",
       "    </tr>\n",
       "    <tr>\n",
       "      <th>6554</th>\n",
       "      <td>70.0</td>\n",
       "      <td>9.133000</td>\n",
       "      <td>20.000000</td>\n",
       "      <td>4.000000</td>\n",
       "      <td>10.599905</td>\n",
       "      <td>2.135000</td>\n",
       "      <td>1.905000</td>\n",
       "      <td>1.130000</td>\n",
       "      <td>0.447885</td>\n",
       "      <td>1.35130</td>\n",
       "    </tr>\n",
       "    <tr>\n",
       "      <th>3877</th>\n",
       "      <td>58.0</td>\n",
       "      <td>17.053984</td>\n",
       "      <td>19.333333</td>\n",
       "      <td>5.333333</td>\n",
       "      <td>11.360000</td>\n",
       "      <td>2.826667</td>\n",
       "      <td>1.716667</td>\n",
       "      <td>0.901667</td>\n",
       "      <td>0.487833</td>\n",
       "      <td>1.50857</td>\n",
       "    </tr>\n",
       "    <tr>\n",
       "      <th>2057</th>\n",
       "      <td>20.0</td>\n",
       "      <td>0.973995</td>\n",
       "      <td>10.000000</td>\n",
       "      <td>4.800000</td>\n",
       "      <td>10.938950</td>\n",
       "      <td>2.675000</td>\n",
       "      <td>1.745000</td>\n",
       "      <td>0.920000</td>\n",
       "      <td>0.489272</td>\n",
       "      <td>0.83154</td>\n",
       "    </tr>\n",
       "    <tr>\n",
       "      <th>6786</th>\n",
       "      <td>522.0</td>\n",
       "      <td>121.420000</td>\n",
       "      <td>48.280000</td>\n",
       "      <td>5.280000</td>\n",
       "      <td>9.370384</td>\n",
       "      <td>2.298000</td>\n",
       "      <td>1.907200</td>\n",
       "      <td>1.200000</td>\n",
       "      <td>0.461899</td>\n",
       "      <td>6.52300</td>\n",
       "    </tr>\n",
       "  </tbody>\n",
       "</table>\n",
       "</div>"
      ],
      "text/plain": [
       "      allelectrons_Total  density_Total  allelectrons_Average  val_e_Average  \\\n",
       "id                                                                             \n",
       "7028                36.0       3.550000             18.000000       4.000000   \n",
       "6554                70.0       9.133000             20.000000       4.000000   \n",
       "3877                58.0      17.053984             19.333333       5.333333   \n",
       "2057                20.0       0.973995             10.000000       4.800000   \n",
       "6786               522.0     121.420000             48.280000       5.280000   \n",
       "\n",
       "      ionenergy_Average  el_neg_chi_Average  R_vdw_element_Average  \\\n",
       "id                                                                   \n",
       "7028           8.213150            1.950000               2.040000   \n",
       "6554          10.599905            2.135000               1.905000   \n",
       "3877          11.360000            2.826667               1.716667   \n",
       "2057          10.938950            2.675000               1.745000   \n",
       "6786           9.370384            2.298000               1.907200   \n",
       "\n",
       "      R_cov_element_Average  zaratio_Average  density_Average  \n",
       "id                                                             \n",
       "7028               1.410000         0.499000          1.76405  \n",
       "6554               1.130000         0.447885          1.35130  \n",
       "3877               0.901667         0.487833          1.50857  \n",
       "2057               0.920000         0.489272          0.83154  \n",
       "6786               1.200000         0.461899          6.52300  "
      ]
     },
     "execution_count": 232,
     "metadata": {},
     "output_type": "execute_result"
    }
   ],
   "source": [
    "X_test.head()"
   ]
  },
  {
   "cell_type": "code",
   "execution_count": 233,
   "metadata": {},
   "outputs": [
    {
     "data": {
      "text/plain": [
       "4202    3.8\n",
       "5361    2.3\n",
       "5623    6.3\n",
       "92      3.5\n",
       "4725    6.0\n",
       "Name: Hardness, dtype: float64"
      ]
     },
     "execution_count": 233,
     "metadata": {},
     "output_type": "execute_result"
    }
   ],
   "source": [
    "y_train.head()"
   ]
  },
  {
   "cell_type": "code",
   "execution_count": 234,
   "metadata": {},
   "outputs": [
    {
     "data": {
      "text/plain": [
       "7028    4.0\n",
       "6554    3.8\n",
       "3877    5.8\n",
       "2057    6.8\n",
       "6786    2.0\n",
       "Name: Hardness, dtype: float64"
      ]
     },
     "execution_count": 234,
     "metadata": {},
     "output_type": "execute_result"
    }
   ],
   "source": [
    "y_test.head()"
   ]
  },
  {
   "cell_type": "code",
   "execution_count": 235,
   "metadata": {},
   "outputs": [],
   "source": [
    "# Stratify the Target\n",
    "y_stratified = pd.cut(y_train.rank(method='first'), bins=10, labels=False)"
   ]
  },
  {
   "cell_type": "code",
   "execution_count": 236,
   "metadata": {},
   "outputs": [],
   "source": [
    "# Winsorizing lower bounds\n",
    "from scipy.stats.mstats import winsorize\n",
    "y_train = np.array(winsorize(y_train, [0.002, 0.0]))"
   ]
  },
  {
   "cell_type": "code",
   "execution_count": 237,
   "metadata": {},
   "outputs": [],
   "source": [
    "# Set up the scoring function\n",
    "scoring = make_scorer(partial(median_absolute_error), greater_is_better=False)\n"
   ]
  },
  {
   "cell_type": "code",
   "execution_count": 238,
   "metadata": {},
   "outputs": [],
   "source": [
    "# Set the validation strategy\n",
    "skf = StratifiedKFold(n_splits=7\n",
    "                      , shuffle=True \n",
    "                      , random_state=random_state)\n",
    "\n",
    "cv_strategy = list(skf.split(X_train, y_stratified))"
   ]
  },
  {
   "cell_type": "code",
   "execution_count": 239,
   "metadata": {},
   "outputs": [],
   "source": [
    "# Setting the basic regressor\n",
    "reg = XGBRegressor(random_state=random_state\n",
    "                   , booster='gbtree'\n",
    "                   , objective='reg:squarederror'\n",
    "                   , eval_metric='mae'\n",
    "                   , tree_method='gpu_hist')"
   ]
  },
  {
   "cell_type": "code",
   "execution_count": 240,
   "metadata": {},
   "outputs": [],
   "source": [
    "# Setting the search space\n",
    "search_spaces = {'learning_rate': Real(0.01, 1.0, 'uniform')\n",
    "                 , 'max_depth': Integer(2, 12)\n",
    "                 , 'subsample': Real(0.1, 1.0, 'uniform')\n",
    "                 , 'colsample_bytree': Real(0.1, 1.0, 'uniform') # subsample ratio of columns by tree\n",
    "                 , 'reg_lambda': Real(1e-9, 100., 'uniform') # L2 regularization\n",
    "                 , 'reg_alpha': Real(1e-9, 100., 'uniform') # L1 regularization\n",
    "                 , 'n_estimators': Integer(50, 5000)\n",
    "   }"
   ]
  },
  {
   "cell_type": "code",
   "execution_count": 241,
   "metadata": {},
   "outputs": [],
   "source": [
    "# Wrap everything up into the Bayesian Optimizer\n",
    "opt = BayesSearchCV(estimator=reg\n",
    "                    , search_spaces=search_spaces\n",
    "                    , scoring=scoring\n",
    "                    , cv=cv_strategy\n",
    "                    , n_iter=120                                    # max number of trials\n",
    "                    , n_points=1                                    # number of hyperparameter sets eval at same time\n",
    "                    , n_jobs=1                                      \n",
    "                    , iid=False                                     # if not iid, optimizes on the cv score\n",
    "                    , return_train_score=False\n",
    "                    , refit=False\n",
    "                    , optimizer_kwargs={'base_estimator': 'GP'}     # Gaussian Process optimizeer parameters\n",
    "                    , random_state=random_state)"
   ]
  },
  {
   "cell_type": "code",
   "execution_count": 242,
   "metadata": {},
   "outputs": [
    {
     "name": "stdout",
     "output_type": "stream",
     "text": [
      "XGBoost_regression took 188.93 seconds,  candidates checked: 9, best CV score: -0.693 ± 0.023\n",
      "Best parameters:\n",
      "OrderedDict([('colsample_bytree', 0.486112904696106),\n",
      "             ('learning_rate', 0.6501630000610656),\n",
      "             ('max_depth', 5),\n",
      "             ('n_estimators', 307),\n",
      "             ('reg_alpha', 37.146135981856105),\n",
      "             ('reg_lambda', 12.777179496784381),\n",
      "             ('subsample', 0.9490768181659544)])\n",
      "\n"
     ]
    }
   ],
   "source": [
    "# Run the optimizer \n",
    "overdone_control = DeltaYStopper(delta=0.001)                    # We stop if the gain of the optimization becomes too small\n",
    "time_limit_control = DeadlineStopper(total_time=60*4)           # Impose Time limit\n",
    "\n",
    "best_params = report_perf(opt\n",
    "                          , X_train\n",
    "                          , y_train\n",
    "                          ,'XGBoost_regression'\n",
    "                          , callbacks=[overdone_control, time_limit_control]\n",
    "                          )"
   ]
  },
  {
   "cell_type": "code",
   "execution_count": 243,
   "metadata": {},
   "outputs": [],
   "source": [
    "# Transferring the best parameters to our basic regressor\n",
    "reg = XGBRegressor(random_state=random_state\n",
    "                   , booster='gbtree'\n",
    "                   , objective='reg:squarederror'\n",
    "                   , eval_metric='mae'\n",
    "                   , tree_method='gpu_hist'\n",
    "                   , **best_params)"
   ]
  },
  {
   "cell_type": "code",
   "execution_count": 244,
   "metadata": {},
   "outputs": [
    {
     "name": "stdout",
     "output_type": "stream",
     "text": [
      "Fold 0 MAE: 0.68329\n",
      "Fold 1 MAE: 0.65163\n",
      "Fold 2 MAE: 0.71612\n",
      "Fold 3 MAE: 0.69925\n",
      "Fold 4 MAE: 0.70695\n",
      "Fold 5 MAE: 0.65927\n",
      "Fold 6 MAE: 0.73195\n",
      "Fold 7 MAE: 0.66285\n",
      "Fold 8 MAE: 0.71779\n",
      "Fold 9 MAE: 0.67238\n",
      "repeated CV MAE: 0.69015 (std=0.02664)\n"
     ]
    }
   ],
   "source": [
    "# # Cross-validation prediction\n",
    "# folds = 10\n",
    "# skf = StratifiedKFold(n_splits=folds,\n",
    "#                       shuffle=True, \n",
    "#                       random_state=random_state)\n",
    "\n",
    "# predictions = np.zeros(len(X_test))\n",
    "# mae = list()\n",
    "\n",
    "# for k, (train_idx, val_idx) in enumerate(skf.split(X_train, y_stratified)):\n",
    "#     reg.fit(X_train.iloc[train_idx, :], y_train[train_idx])\n",
    "#     val_preds = reg.predict(X_train.iloc[val_idx, :])\n",
    "#     val_mae = median_absolute_error(y_true=y_train[val_idx], y_pred=val_preds)\n",
    "#     print(f\"Fold {k} MAE: {val_mae:0.5f}\")\n",
    "#     mae.append(val_mae)\n",
    "#     predictions += reg.predict(X_test).ravel()\n",
    "    \n",
    "# predictions /= folds\n",
    "# print(f\"repeated CV MAE: {np.mean(mae):0.5f} (std={np.std(mae):0.5f})\")\n",
    "\n",
    "\n",
    "# Cross-validation prediction\n",
    "folds = 10\n",
    "skf = StratifiedKFold(n_splits=folds,\n",
    "                      shuffle=True, \n",
    "                      random_state=0)\n",
    "\n",
    "predictions = np.zeros(len(X_test))\n",
    "# rmse = list()\n",
    "mae = list()\n",
    "\n",
    "for k, (train_idx, val_idx) in enumerate(skf.split(X_train, y_stratified)):\n",
    "    reg.fit(X_train.iloc[train_idx, :], y_train[train_idx])\n",
    "    val_preds = reg.predict(X_train.iloc[val_idx, :])\n",
    "    # val_rmse = mean_squared_error(y_true=y_train[val_idx], y_pred=val_preds, squared=False)\n",
    "    val_mae = median_absolute_error(y_true=y_train[val_idx], y_pred=val_preds)\n",
    "    # print(f\"Fold {k} RMSE: {val_rmse:0.5f}\")\n",
    "    print(f\"Fold {k} MAE: {val_mae:0.5f}\")\n",
    "    # rmse.append(val_rmse)\n",
    "    mae.append(val_mae)\n",
    "    predictions += reg.predict(X_test).ravel()\n",
    "    \n",
    "predictions /= folds\n",
    "# print(f\"repeated CV RMSE: {np.mean(rmse):0.5f} (std={np.std(rmse):0.5f})\")\n",
    "print(f\"repeated CV MAE: {np.mean(mae):0.5f} (std={np.std(mae):0.5f})\")"
   ]
  },
  {
   "cell_type": "code",
   "execution_count": 245,
   "metadata": {},
   "outputs": [],
   "source": [
    "submission = pd.DataFrame({'id': X_test.index\n",
    "                           , 'Hardness': predictions})"
   ]
  },
  {
   "cell_type": "code",
   "execution_count": 246,
   "metadata": {},
   "outputs": [
    {
     "data": {
      "text/html": [
       "<div>\n",
       "<style scoped>\n",
       "    .dataframe tbody tr th:only-of-type {\n",
       "        vertical-align: middle;\n",
       "    }\n",
       "\n",
       "    .dataframe tbody tr th {\n",
       "        vertical-align: top;\n",
       "    }\n",
       "\n",
       "    .dataframe thead th {\n",
       "        text-align: right;\n",
       "    }\n",
       "</style>\n",
       "<table border=\"1\" class=\"dataframe\">\n",
       "  <thead>\n",
       "    <tr style=\"text-align: right;\">\n",
       "      <th></th>\n",
       "      <th>id</th>\n",
       "      <th>Hardness</th>\n",
       "    </tr>\n",
       "  </thead>\n",
       "  <tbody>\n",
       "    <tr>\n",
       "      <th>0</th>\n",
       "      <td>7028</td>\n",
       "      <td>4.180142</td>\n",
       "    </tr>\n",
       "    <tr>\n",
       "      <th>1</th>\n",
       "      <td>6554</td>\n",
       "      <td>4.550743</td>\n",
       "    </tr>\n",
       "    <tr>\n",
       "      <th>2</th>\n",
       "      <td>3877</td>\n",
       "      <td>5.318253</td>\n",
       "    </tr>\n",
       "    <tr>\n",
       "      <th>3</th>\n",
       "      <td>2057</td>\n",
       "      <td>5.854910</td>\n",
       "    </tr>\n",
       "    <tr>\n",
       "      <th>4</th>\n",
       "      <td>6786</td>\n",
       "      <td>2.581762</td>\n",
       "    </tr>\n",
       "  </tbody>\n",
       "</table>\n",
       "</div>"
      ],
      "text/plain": [
       "     id  Hardness\n",
       "0  7028  4.180142\n",
       "1  6554  4.550743\n",
       "2  3877  5.318253\n",
       "3  2057  5.854910\n",
       "4  6786  2.581762"
      ]
     },
     "execution_count": 246,
     "metadata": {},
     "output_type": "execute_result"
    }
   ],
   "source": [
    "submission.head()"
   ]
  },
  {
   "cell_type": "code",
   "execution_count": 247,
   "metadata": {},
   "outputs": [
    {
     "data": {
      "text/plain": [
       "7028    4.0\n",
       "6554    3.8\n",
       "3877    5.8\n",
       "2057    6.8\n",
       "6786    2.0\n",
       "Name: Hardness, dtype: float64"
      ]
     },
     "execution_count": 247,
     "metadata": {},
     "output_type": "execute_result"
    }
   ],
   "source": [
    "y_test.head()"
   ]
  },
  {
   "cell_type": "markdown",
   "metadata": {},
   "source": [
    "## Actual Test"
   ]
  },
  {
   "cell_type": "code",
   "execution_count": 258,
   "metadata": {},
   "outputs": [],
   "source": [
    "X_train = full_train.set_index('id').drop(['Hardness'\n",
    "                                     , 'atomicweight_Average']\n",
    "                                    , axis=1)\n",
    "y_train = full_train.Hardness\n",
    "\n",
    "X_test = full_test.set_index('id').drop('atomicweight_Average', axis=1)"
   ]
  },
  {
   "cell_type": "code",
   "execution_count": 259,
   "metadata": {},
   "outputs": [
    {
     "name": "stdout",
     "output_type": "stream",
     "text": [
      "XGBoost_regression took 8982.37 seconds,  candidates checked: 120, best CV score: -0.657 ± 0.022\n",
      "Best parameters:\n",
      "OrderedDict([('colsample_bytree', 0.5134833581452738),\n",
      "             ('learning_rate', 0.01),\n",
      "             ('max_depth', 12),\n",
      "             ('n_estimators', 5000),\n",
      "             ('reg_alpha', 1e-09),\n",
      "             ('reg_lambda', 96.97805798806588),\n",
      "             ('subsample', 1.0)])\n",
      "\n"
     ]
    }
   ],
   "source": [
    "# Stratify the Target\n",
    "y_stratified = pd.cut(y_train.rank(method='first'), bins=10, labels=False)\n",
    "\n",
    "# Winsorizing lower bounds\n",
    "from scipy.stats.mstats import winsorize\n",
    "y_train = np.array(winsorize(y_train, [0.002, 0.0]))\n",
    "\n",
    "\n",
    "# Set up the scoring function\n",
    "scoring = make_scorer(partial(median_absolute_error), greater_is_better=False)\n",
    "\n",
    "\n",
    "# Set the validation strategy\n",
    "skf = StratifiedKFold(n_splits=7\n",
    "                      , shuffle=True \n",
    "                      , random_state=random_state)\n",
    "\n",
    "cv_strategy = list(skf.split(X_train, y_stratified))\n",
    "\n",
    "\n",
    "# Setting the basic regressor\n",
    "reg = XGBRegressor(random_state=random_state\n",
    "                   , booster='gbtree'\n",
    "                   , objective='reg:squarederror'\n",
    "                #    , eval_metric='mae'\n",
    "                   , tree_method='gpu_hist')\n",
    "\n",
    "\n",
    "# Setting the search space\n",
    "search_spaces = {'learning_rate': Real(0.01, 1.0, 'uniform')\n",
    "                 , 'max_depth': Integer(2, 12)\n",
    "                 , 'subsample': Real(0.1, 1.0, 'uniform')\n",
    "                 , 'colsample_bytree': Real(0.1, 1.0, 'uniform') # subsample ratio of columns by tree\n",
    "                 , 'reg_lambda': Real(1e-9, 100., 'uniform') # L2 regularization\n",
    "                 , 'reg_alpha': Real(1e-9, 100., 'uniform') # L1 regularization\n",
    "                 , 'n_estimators': Integer(50, 5000)\n",
    "   }\n",
    "\n",
    "\n",
    "# Wrap everything up into the Bayesian Optimizer\n",
    "opt = BayesSearchCV(estimator=reg\n",
    "                    , search_spaces=search_spaces\n",
    "                    , scoring=scoring\n",
    "                    , cv=cv_strategy\n",
    "                    , n_iter=120                                    # max number of trials\n",
    "                    , n_points=1                                    # number of hyperparameter sets eval at same time\n",
    "                    , n_jobs=1                                      \n",
    "                    , iid=False                                     # if not iid, optimizes on the cv score\n",
    "                    , return_train_score=False\n",
    "                    , refit=False\n",
    "                    , optimizer_kwargs={'base_estimator': 'GP'}     # Gaussian Process optimizeer parameters\n",
    "                    , random_state=random_state)\n",
    "\n",
    "\n",
    "\n",
    "# Run the optimizer \n",
    "overdone_control = DeltaYStopper(delta=0.0001)                    # We stop if the gain of the optimization becomes too small\n",
    "time_limit_control = DeadlineStopper(total_time=60)           # Impose Time limit\n",
    "\n",
    "best_params = report_perf(opt\n",
    "                          , X_train\n",
    "                          , y_train\n",
    "                          ,'XGBoost_regression'\n",
    "                          , callbacks=[overdone_control, time_limit_control]\n",
    "                          )\n",
    "\n",
    "\n",
    "\n"
   ]
  },
  {
   "cell_type": "code",
   "execution_count": 1,
   "metadata": {},
   "outputs": [
    {
     "ename": "NameError",
     "evalue": "name 'XGBRegressor' is not defined",
     "output_type": "error",
     "traceback": [
      "\u001b[1;31m---------------------------------------------------------------------------\u001b[0m",
      "\u001b[1;31mNameError\u001b[0m                                 Traceback (most recent call last)",
      "\u001b[1;32mc:\\Users\\justi\\OneDrive\\Desktop\\Analytics\\Mohs\\Bayes_XGB.ipynb Cell 46\u001b[0m line \u001b[0;36m<cell line: 2>\u001b[1;34m()\u001b[0m\n\u001b[0;32m      <a href='vscode-notebook-cell:/c%3A/Users/justi/OneDrive/Desktop/Analytics/Mohs/Bayes_XGB.ipynb#X63sZmlsZQ%3D%3D?line=0'>1</a>\u001b[0m \u001b[39m# Transferring the best parameters to our basic regressor\u001b[39;00m\n\u001b[1;32m----> <a href='vscode-notebook-cell:/c%3A/Users/justi/OneDrive/Desktop/Analytics/Mohs/Bayes_XGB.ipynb#X63sZmlsZQ%3D%3D?line=1'>2</a>\u001b[0m reg \u001b[39m=\u001b[39m XGBRegressor(random_state\u001b[39m=\u001b[39mrandom_state\n\u001b[0;32m      <a href='vscode-notebook-cell:/c%3A/Users/justi/OneDrive/Desktop/Analytics/Mohs/Bayes_XGB.ipynb#X63sZmlsZQ%3D%3D?line=2'>3</a>\u001b[0m                    , booster\u001b[39m=\u001b[39m\u001b[39m'\u001b[39m\u001b[39mgbtree\u001b[39m\u001b[39m'\u001b[39m\n\u001b[0;32m      <a href='vscode-notebook-cell:/c%3A/Users/justi/OneDrive/Desktop/Analytics/Mohs/Bayes_XGB.ipynb#X63sZmlsZQ%3D%3D?line=3'>4</a>\u001b[0m                    , objective\u001b[39m=\u001b[39m\u001b[39m'\u001b[39m\u001b[39mreg:squarederror\u001b[39m\u001b[39m'\u001b[39m\n\u001b[0;32m      <a href='vscode-notebook-cell:/c%3A/Users/justi/OneDrive/Desktop/Analytics/Mohs/Bayes_XGB.ipynb#X63sZmlsZQ%3D%3D?line=4'>5</a>\u001b[0m                    , eval_metric\u001b[39m=\u001b[39m\u001b[39m'\u001b[39m\u001b[39mmae\u001b[39m\u001b[39m'\u001b[39m\n\u001b[0;32m      <a href='vscode-notebook-cell:/c%3A/Users/justi/OneDrive/Desktop/Analytics/Mohs/Bayes_XGB.ipynb#X63sZmlsZQ%3D%3D?line=5'>6</a>\u001b[0m                    , tree_method\u001b[39m=\u001b[39m\u001b[39m'\u001b[39m\u001b[39mgpu_hist\u001b[39m\u001b[39m'\u001b[39m\n\u001b[0;32m      <a href='vscode-notebook-cell:/c%3A/Users/justi/OneDrive/Desktop/Analytics/Mohs/Bayes_XGB.ipynb#X63sZmlsZQ%3D%3D?line=6'>7</a>\u001b[0m                    , \u001b[39m*\u001b[39m\u001b[39m*\u001b[39mbest_params)\n\u001b[0;32m      <a href='vscode-notebook-cell:/c%3A/Users/justi/OneDrive/Desktop/Analytics/Mohs/Bayes_XGB.ipynb#X63sZmlsZQ%3D%3D?line=8'>9</a>\u001b[0m \u001b[39m# Cross-validation prediction\u001b[39;00m\n\u001b[0;32m     <a href='vscode-notebook-cell:/c%3A/Users/justi/OneDrive/Desktop/Analytics/Mohs/Bayes_XGB.ipynb#X63sZmlsZQ%3D%3D?line=9'>10</a>\u001b[0m folds \u001b[39m=\u001b[39m \u001b[39m10\u001b[39m\n",
      "\u001b[1;31mNameError\u001b[0m: name 'XGBRegressor' is not defined"
     ]
    }
   ],
   "source": [
    "\n",
    "# Transferring the best parameters to our basic regressor\n",
    "reg = XGBRegressor(random_state=random_state\n",
    "                   , booster='gbtree'\n",
    "                   , objective='reg:squarederror'\n",
    "                   , eval_metric='mae'\n",
    "                   , tree_method='gpu_hist'\n",
    "                   , **best_params)\n",
    "\n",
    "# Cross-validation prediction\n",
    "folds = 10\n",
    "skf = StratifiedKFold(n_splits=folds,\n",
    "                      shuffle=True, \n",
    "                      random_state=0)\n",
    "\n",
    "predictions = np.zeros(len(X_test))\n",
    "# rmse = list()\n",
    "mae = list()\n",
    "\n",
    "for k, (train_idx, val_idx) in enumerate(skf.split(X_train, y_stratified)):\n",
    "    reg.fit(X_train.iloc[train_idx, :], y_train[train_idx])\n",
    "    val_preds = reg.predict(X_train.iloc[val_idx, :])\n",
    "    # val_rmse = mean_squared_error(y_true=y_train[val_idx], y_pred=val_preds, squared=False)\n",
    "    val_mae = median_absolute_error(y_true=y_train[val_idx], y_pred=val_preds)\n",
    "    # print(f\"Fold {k} RMSE: {val_rmse:0.5f}\")\n",
    "    print(f\"Fold {k} MAE: {val_mae:0.5f}\")\n",
    "    # rmse.append(val_rmse)\n",
    "    mae.append(val_mae)\n",
    "    predictions += reg.predict(X_test).ravel()\n",
    "    \n",
    "predictions /= folds\n",
    "# print(f\"repeated CV RMSE: {np.mean(rmse):0.5f} (std={np.std(rmse):0.5f})\")\n",
    "print(f\"repeated CV MAE: {np.mean(mae):0.5f} (std={np.std(mae):0.5f})\")"
   ]
  },
  {
   "cell_type": "code",
   "execution_count": 261,
   "metadata": {},
   "outputs": [
    {
     "data": {
      "text/html": [
       "<div>\n",
       "<style scoped>\n",
       "    .dataframe tbody tr th:only-of-type {\n",
       "        vertical-align: middle;\n",
       "    }\n",
       "\n",
       "    .dataframe tbody tr th {\n",
       "        vertical-align: top;\n",
       "    }\n",
       "\n",
       "    .dataframe thead th {\n",
       "        text-align: right;\n",
       "    }\n",
       "</style>\n",
       "<table border=\"1\" class=\"dataframe\">\n",
       "  <thead>\n",
       "    <tr style=\"text-align: right;\">\n",
       "      <th></th>\n",
       "      <th>id</th>\n",
       "      <th>Hardness</th>\n",
       "    </tr>\n",
       "  </thead>\n",
       "  <tbody>\n",
       "    <tr>\n",
       "      <th>0</th>\n",
       "      <td>10407</td>\n",
       "      <td>2.640747</td>\n",
       "    </tr>\n",
       "    <tr>\n",
       "      <th>1</th>\n",
       "      <td>10408</td>\n",
       "      <td>3.025310</td>\n",
       "    </tr>\n",
       "    <tr>\n",
       "      <th>2</th>\n",
       "      <td>10409</td>\n",
       "      <td>6.168027</td>\n",
       "    </tr>\n",
       "    <tr>\n",
       "      <th>3</th>\n",
       "      <td>10410</td>\n",
       "      <td>3.618680</td>\n",
       "    </tr>\n",
       "    <tr>\n",
       "      <th>4</th>\n",
       "      <td>10411</td>\n",
       "      <td>5.729343</td>\n",
       "    </tr>\n",
       "  </tbody>\n",
       "</table>\n",
       "</div>"
      ],
      "text/plain": [
       "      id  Hardness\n",
       "0  10407  2.640747\n",
       "1  10408  3.025310\n",
       "2  10409  6.168027\n",
       "3  10410  3.618680\n",
       "4  10411  5.729343"
      ]
     },
     "execution_count": 261,
     "metadata": {},
     "output_type": "execute_result"
    }
   ],
   "source": [
    "submission = pd.DataFrame({'id': X_test.index\n",
    "                           , 'Hardness': predictions})\n",
    "\n",
    "\n",
    "submission.head()"
   ]
  },
  {
   "cell_type": "code",
   "execution_count": 262,
   "metadata": {},
   "outputs": [],
   "source": [
    "submission.to_csv(\"submission.csv\", index = False)"
   ]
  }
 ],
 "metadata": {
  "kernelspec": {
   "display_name": "PythonData",
   "language": "python",
   "name": "python3"
  },
  "language_info": {
   "codemirror_mode": {
    "name": "ipython",
    "version": 3
   },
   "file_extension": ".py",
   "mimetype": "text/x-python",
   "name": "python",
   "nbconvert_exporter": "python",
   "pygments_lexer": "ipython3",
   "version": "3.9.12"
  }
 },
 "nbformat": 4,
 "nbformat_minor": 2
}
